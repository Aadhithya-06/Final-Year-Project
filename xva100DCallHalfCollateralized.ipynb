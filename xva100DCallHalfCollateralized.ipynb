{
 "cells": [
  {
   "cell_type": "code",
   "execution_count": 1,
   "metadata": {},
   "outputs": [],
   "source": [
    "import sys\n",
    "import os\n",
    "sys.path.append(os.path.abspath(\"Pytorch/\"))\n",
    "sys.path.append(os.path.abspath(\"models/\"))"
   ]
  },
  {
   "cell_type": "code",
   "execution_count": 2,
   "metadata": {},
   "outputs": [],
   "source": [
    "from XVA import *\n",
    "from XVAFBSNNs import *"
   ]
  },
  {
   "cell_type": "code",
   "execution_count": 3,
   "metadata": {},
   "outputs": [],
   "source": [
    "from FBSNNs import *\n",
    "from CallOptionsBasket import *"
   ]
  },
  {
   "cell_type": "code",
   "execution_count": 4,
   "metadata": {},
   "outputs": [],
   "source": [
    "import numpy as np\n",
    "import torch\n",
    "import matplotlib.pyplot as plt\n",
    "import time\n",
    "\n",
    "M = 64  # number of trajectories (batch size)\n",
    "N = 50  # number of time snapshots\n",
    "D = 100 # number of dimensions\n",
    "Mm = N ** (1/5)\n",
    "\n",
    "layers = [D + 1] + 4 * [256] + [1]\n",
    "\n",
    "Xi = np.array([1] * int(D))[None, :]\n",
    "T = 1.0\n",
    "\n",
    "\"Available architectures\"\n",
    "mode = \"Naisnet\"  # FC and Naisnet are available\n",
    "activation = \"Sine\"  # Sine, ReLU and Tanh are available\n",
    "model = CallOptionsBasket(Xi, T, M, N, D, Mm, layers, mode, activation)\n",
    "\n",
    "n_iter = 15 * 10**2\n",
    "lr = 1e-3"
   ]
  },
  {
   "cell_type": "code",
   "execution_count": 5,
   "metadata": {},
   "outputs": [],
   "source": [
    "model.load_model(\"models/100DCallOptionXVAPaper.pth\")"
   ]
  },
  {
   "cell_type": "code",
   "execution_count": 8,
   "metadata": {},
   "outputs": [],
   "source": [
    "import numpy as np\n",
    "import torch\n",
    "import matplotlib.pyplot as plt\n",
    "import time\n",
    "\n",
    "M = 64  # number of trajectories (batch size)\n",
    "N = 50  # number of time snapshots\n",
    "D = 100 # number of dimensions\n",
    "Mm = N ** (1/5)\n",
    "\n",
    "layers = [D+1] + 4 * [256] + [1]\n",
    "\n",
    "Xi = np.array([1] * int(D))[None, :]\n",
    "T = 1.0\n",
    "\n",
    "\"Available architectures\"\n",
    "mode = \"Naisnet\"  # FC and Naisnet are available\n",
    "activation = \"Sine\"  # Sine, ReLU and Tanh are available\n",
    "xvamodel = XVA(Xi, T, M, N, D, Mm, layers, mode, activation, model)\n",
    "\n",
    "n_iter = 15 * 10**2\n",
    "lr = 1e-3"
   ]
  },
  {
   "cell_type": "code",
   "execution_count": 12,
   "metadata": {},
   "outputs": [],
   "source": [
    "n_iter = 31 * 10**2\n",
    "lr = 1e-5"
   ]
  },
  {
   "cell_type": "code",
   "execution_count": 13,
   "metadata": {},
   "outputs": [
    {
     "name": "stdout",
     "output_type": "stream",
     "text": [
      "cuda:0\n",
      "It: 1400, Loss: 2.205e-01, Y0: 0.065, Time: 0.41, Learning Rate: 1.000e-05\n",
      "It: 1500, Loss: 1.717e-01, Y0: 0.038, Time: 60.45, Learning Rate: 1.000e-05\n",
      "It: 1600, Loss: 1.429e-01, Y0: 0.037, Time: 35.79, Learning Rate: 1.000e-05\n",
      "It: 1700, Loss: 1.568e-01, Y0: 0.037, Time: 35.11, Learning Rate: 1.000e-05\n",
      "It: 1800, Loss: 1.479e-01, Y0: 0.039, Time: 42.16, Learning Rate: 1.000e-05\n",
      "It: 1900, Loss: 1.464e-01, Y0: 0.036, Time: 63.03, Learning Rate: 1.000e-05\n",
      "It: 2000, Loss: 1.449e-01, Y0: 0.038, Time: 37.99, Learning Rate: 1.000e-05\n",
      "It: 2100, Loss: 1.426e-01, Y0: 0.044, Time: 35.14, Learning Rate: 1.000e-05\n",
      "It: 2200, Loss: 1.206e-01, Y0: 0.038, Time: 41.65, Learning Rate: 1.000e-05\n",
      "It: 2300, Loss: 1.133e-01, Y0: 0.042, Time: 56.67, Learning Rate: 1.000e-05\n",
      "It: 2400, Loss: 1.187e-01, Y0: 0.041, Time: 51.65, Learning Rate: 1.000e-05\n",
      "It: 2500, Loss: 1.131e-01, Y0: 0.042, Time: 35.42, Learning Rate: 1.000e-05\n",
      "It: 2600, Loss: 1.105e-01, Y0: 0.036, Time: 35.49, Learning Rate: 1.000e-05\n",
      "It: 2700, Loss: 1.034e-01, Y0: 0.042, Time: 42.05, Learning Rate: 1.000e-05\n",
      "It: 2800, Loss: 1.113e-01, Y0: 0.041, Time: 65.57, Learning Rate: 1.000e-05\n",
      "It: 2900, Loss: 9.958e-02, Y0: 0.042, Time: 38.18, Learning Rate: 1.000e-05\n",
      "It: 3000, Loss: 9.962e-02, Y0: 0.039, Time: 35.24, Learning Rate: 1.000e-05\n",
      "It: 3100, Loss: 8.576e-02, Y0: 0.041, Time: 40.94, Learning Rate: 1.000e-05\n",
      "It: 3200, Loss: 8.823e-02, Y0: 0.041, Time: 61.21, Learning Rate: 1.000e-05\n",
      "It: 3300, Loss: 7.897e-02, Y0: 0.039, Time: 42.27, Learning Rate: 1.000e-05\n",
      "It: 3400, Loss: 8.691e-02, Y0: 0.042, Time: 35.61, Learning Rate: 1.000e-05\n",
      "It: 3500, Loss: 8.193e-02, Y0: 0.040, Time: 35.20, Learning Rate: 1.000e-05\n",
      "It: 3600, Loss: 8.379e-02, Y0: 0.041, Time: 50.80, Learning Rate: 1.000e-05\n",
      "It: 3700, Loss: 7.738e-02, Y0: 0.042, Time: 53.73, Learning Rate: 1.000e-05\n",
      "It: 3800, Loss: 7.813e-02, Y0: 0.041, Time: 35.34, Learning Rate: 1.000e-05\n",
      "It: 3900, Loss: 7.997e-02, Y0: 0.041, Time: 35.13, Learning Rate: 1.000e-05\n",
      "It: 4000, Loss: 7.844e-02, Y0: 0.040, Time: 42.53, Learning Rate: 1.000e-05\n",
      "It: 4100, Loss: 6.932e-02, Y0: 0.042, Time: 53.03, Learning Rate: 1.000e-05\n",
      "It: 4200, Loss: 6.977e-02, Y0: 0.040, Time: 35.39, Learning Rate: 1.000e-05\n",
      "It: 4300, Loss: 7.672e-02, Y0: 0.041, Time: 35.90, Learning Rate: 1.000e-05\n",
      "It: 4400, Loss: 7.159e-02, Y0: 0.043, Time: 43.12, Learning Rate: 1.000e-05\n",
      "total time: 1366.7027053833008 s\n"
     ]
    }
   ],
   "source": [
    "tot = time.time()\n",
    "print(xvamodel.device)\n",
    "graph = xvamodel.train(n_iter, lr)\n",
    "print(\"total time:\", time.time() - tot, \"s\")"
   ]
  },
  {
   "cell_type": "code",
   "execution_count": 7,
   "metadata": {},
   "outputs": [],
   "source": [
    "xvamodel.load_model(\"models/100DCallOptionXVAHalfCollateralized.pth\")"
   ]
  },
  {
   "cell_type": "code",
   "execution_count": 15,
   "metadata": {},
   "outputs": [],
   "source": [
    "t_test, W_test, X_test, C_test = xvamodel.fetch_minibatch()\n",
    "X_pred, Y_pred = xvamodel.predict(C_test, t_test, W_test, X_test)\n",
    "\n",
    "if type(t_test).__module__ != 'numpy':\n",
    "    t_test = t_test.cpu().numpy()\n",
    "if type(X_pred).__module__ != 'numpy':\n",
    "    X_pred = X_pred.cpu().detach().numpy()\n",
    "if type(Y_pred).__module__ != 'numpy':\n",
    "    Y_pred = Y_pred.cpu().detach().numpy()\n",
    "\n",
    "for i in range(63):\n",
    "    t_test_i, W_test_i, X_test_i, C_test_i = xvamodel.fetch_minibatch()\n",
    "    X_pred_i, Y_pred_i = xvamodel.predict(C_test_i, t_test_i, W_test_i, X_test_i)\n",
    "    if type(t_test_i).__module__ != 'numpy':\n",
    "        t_test_i = t_test_i.cpu().numpy()\n",
    "    if type(X_pred_i).__module__ != 'numpy':\n",
    "        X_pred_i = X_pred_i.cpu().detach().numpy()\n",
    "    if type(Y_pred_i).__module__ != 'numpy':\n",
    "        Y_pred_i = Y_pred_i.cpu().detach().numpy()\n",
    "    t_test = np.concatenate((t_test, t_test_i), axis=0)\n",
    "    X_pred = np.concatenate((X_pred, X_pred_i), axis=0)\n",
    "    Y_pred = np.concatenate((Y_pred, Y_pred_i), axis=0)"
   ]
  },
  {
   "cell_type": "code",
   "execution_count": 16,
   "metadata": {},
   "outputs": [],
   "source": [
    "Y_preds = Y_pred.reshape(4096, 51)"
   ]
  },
  {
   "cell_type": "code",
   "execution_count": 17,
   "metadata": {},
   "outputs": [
    {
     "data": {
      "text/plain": [
       "4.1841428726911545"
      ]
     },
     "execution_count": 17,
     "metadata": {},
     "output_type": "execute_result"
    }
   ],
   "source": [
    "Y_preds[0,:][0] * 100"
   ]
  },
  {
   "cell_type": "code",
   "execution_count": 18,
   "metadata": {},
   "outputs": [],
   "source": [
    "xvamodel.save_model(\"models/100DCallOptionXVAHalfCollateralized.pth\")"
   ]
  }
 ],
 "metadata": {
  "kernelspec": {
   "display_name": "myvenv",
   "language": "python",
   "name": "python3"
  },
  "language_info": {
   "codemirror_mode": {
    "name": "ipython",
    "version": 3
   },
   "file_extension": ".py",
   "mimetype": "text/x-python",
   "name": "python",
   "nbconvert_exporter": "python",
   "pygments_lexer": "ipython3",
   "version": "3.10.12"
  }
 },
 "nbformat": 4,
 "nbformat_minor": 2
}
