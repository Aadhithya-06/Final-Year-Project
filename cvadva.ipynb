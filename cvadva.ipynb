{
 "cells": [
  {
   "cell_type": "code",
   "execution_count": 1,
   "metadata": {},
   "outputs": [],
   "source": [
    "import sys\n",
    "import os\n",
    "sys.path.append(os.path.abspath(\"Pytorch/\"))\n",
    "sys.path.append(os.path.abspath(\"models/\"))"
   ]
  },
  {
   "cell_type": "code",
   "execution_count": 2,
   "metadata": {},
   "outputs": [],
   "source": [
    "from XVA import *\n",
    "from XVAFBSNNs import *"
   ]
  },
  {
   "cell_type": "code",
   "execution_count": 3,
   "metadata": {},
   "outputs": [],
   "source": [
    "from FBSNNs import *\n",
    "from CallOptionsBasket import *"
   ]
  },
  {
   "cell_type": "code",
   "execution_count": 4,
   "metadata": {},
   "outputs": [],
   "source": [
    "import numpy as np\n",
    "import torch\n",
    "import matplotlib.pyplot as plt\n",
    "import time\n",
    "\n",
    "M = 64  # number of trajectories (batch size)\n",
    "N = 50  # number of time snapshots\n",
    "D = 100 # number of dimensions\n",
    "Mm = N ** (1/5)\n",
    "\n",
    "layers = [D + 1] + 4 * [256] + [1]\n",
    "\n",
    "Xi = np.array([1] * int(D))[None, :]\n",
    "T = 1.0\n",
    "\n",
    "\"Available architectures\"\n",
    "mode = \"Naisnet\"  # FC and Naisnet are available\n",
    "activation = \"Sine\"  # Sine, ReLU and Tanh are available\n",
    "model = CallOptionsBasket(Xi, T, M, N, D, Mm, layers, mode, activation)\n",
    "\n",
    "n_iter = 15 * 10**2\n",
    "lr = 1e-3"
   ]
  },
  {
   "cell_type": "code",
   "execution_count": 5,
   "metadata": {},
   "outputs": [],
   "source": [
    "model.load_model(\"models/100DCallOptionXVAPaper.pth\")"
   ]
  },
  {
   "cell_type": "code",
   "execution_count": 6,
   "metadata": {},
   "outputs": [],
   "source": [
    "import numpy as np\n",
    "import torch\n",
    "import matplotlib.pyplot as plt\n",
    "import time\n",
    "\n",
    "M = 64  # number of trajectories (batch size)\n",
    "N = 50  # number of time snapshots\n",
    "D = 100 # number of dimensions\n",
    "Mm = N ** (1/5)\n",
    "\n",
    "layers = [1+1] + 4 * [256] + [1]\n",
    "\n",
    "Xi = np.array([1] * int(D))[None, :]\n",
    "T = 1.0\n",
    "\n",
    "\"Available architectures\"\n",
    "mode = \"Naisnet\"  # FC and Naisnet are available\n",
    "activation = \"Sine\"  # Sine, ReLU and Tanh are available\n",
    "xvamodel = XVA(Xi, T, M, N, D, Mm, layers, mode, activation, model)\n",
    "\n",
    "n_iter = 15 * 10**2\n",
    "lr = 1e-3"
   ]
  },
  {
   "cell_type": "code",
   "execution_count": 9,
   "metadata": {},
   "outputs": [],
   "source": [
    "n_iter = 15 * 10**2\n",
    "lr = 1e-5"
   ]
  },
  {
   "cell_type": "code",
   "execution_count": 8,
   "metadata": {},
   "outputs": [
    {
     "name": "stdout",
     "output_type": "stream",
     "text": [
      "cuda:0\n",
      "It: 0, Loss: 1.052e+03, Y0: 0.276, Time: 1.07, Learning Rate: 1.000e-03\n",
      "It: 100, Loss: 9.236e-02, Y0: 0.070, Time: 30.42, Learning Rate: 1.000e-03\n",
      "It: 200, Loss: 3.348e-02, Y0: 0.044, Time: 30.41, Learning Rate: 1.000e-03\n",
      "It: 300, Loss: 8.060e-03, Y0: 0.025, Time: 30.62, Learning Rate: 1.000e-03\n",
      "It: 400, Loss: 1.620e-03, Y0: 0.015, Time: 30.36, Learning Rate: 1.000e-03\n",
      "It: 500, Loss: 1.057e-03, Y0: 0.012, Time: 30.51, Learning Rate: 1.000e-03\n",
      "It: 600, Loss: 1.080e-03, Y0: 0.012, Time: 30.32, Learning Rate: 1.000e-03\n",
      "It: 700, Loss: 5.414e-04, Y0: 0.011, Time: 30.83, Learning Rate: 1.000e-03\n",
      "It: 800, Loss: 6.177e-04, Y0: 0.010, Time: 30.47, Learning Rate: 1.000e-03\n",
      "It: 900, Loss: 4.696e-04, Y0: 0.010, Time: 30.34, Learning Rate: 1.000e-03\n",
      "It: 1000, Loss: 3.825e-04, Y0: 0.010, Time: 30.13, Learning Rate: 1.000e-03\n",
      "It: 1100, Loss: 2.712e-04, Y0: 0.011, Time: 30.09, Learning Rate: 1.000e-03\n",
      "It: 1200, Loss: 3.666e-04, Y0: 0.011, Time: 30.46, Learning Rate: 1.000e-03\n",
      "It: 1300, Loss: 1.294e-04, Y0: 0.010, Time: 29.83, Learning Rate: 1.000e-03\n",
      "It: 1400, Loss: 1.214e-04, Y0: 0.010, Time: 30.03, Learning Rate: 1.000e-03\n",
      "total time: 455.5091760158539 s\n"
     ]
    }
   ],
   "source": [
    "tot = time.time()\n",
    "print(xvamodel.device)\n",
    "graph = xvamodel.train(n_iter, lr)\n",
    "print(\"total time:\", time.time() - tot, \"s\")"
   ]
  },
  {
   "cell_type": "code",
   "execution_count": 10,
   "metadata": {},
   "outputs": [
    {
     "name": "stdout",
     "output_type": "stream",
     "text": [
      "cuda:0\n",
      "It: 1400, Loss: 1.938e-04, Y0: 0.009, Time: 0.31, Learning Rate: 1.000e-05\n",
      "It: 1500, Loss: 1.230e-04, Y0: 0.009, Time: 29.73, Learning Rate: 1.000e-05\n",
      "It: 1600, Loss: 1.035e-04, Y0: 0.009, Time: 30.03, Learning Rate: 1.000e-05\n",
      "It: 1700, Loss: 1.189e-04, Y0: 0.010, Time: 30.04, Learning Rate: 1.000e-05\n",
      "It: 1800, Loss: 1.412e-04, Y0: 0.009, Time: 30.18, Learning Rate: 1.000e-05\n",
      "It: 1900, Loss: 1.371e-04, Y0: 0.009, Time: 30.02, Learning Rate: 1.000e-05\n",
      "It: 2000, Loss: 1.555e-04, Y0: 0.009, Time: 29.97, Learning Rate: 1.000e-05\n",
      "It: 2100, Loss: 2.212e-04, Y0: 0.009, Time: 30.23, Learning Rate: 1.000e-05\n",
      "It: 2200, Loss: 2.452e-04, Y0: 0.009, Time: 30.05, Learning Rate: 1.000e-05\n",
      "It: 2300, Loss: 1.936e-04, Y0: 0.009, Time: 29.92, Learning Rate: 1.000e-05\n",
      "It: 2400, Loss: 1.840e-04, Y0: 0.009, Time: 29.86, Learning Rate: 1.000e-05\n",
      "It: 2500, Loss: 2.022e-04, Y0: 0.009, Time: 29.93, Learning Rate: 1.000e-05\n",
      "It: 2600, Loss: 1.403e-04, Y0: 0.009, Time: 30.00, Learning Rate: 1.000e-05\n",
      "It: 2700, Loss: 1.501e-04, Y0: 0.009, Time: 30.07, Learning Rate: 1.000e-05\n",
      "It: 2800, Loss: 3.234e-04, Y0: 0.009, Time: 29.93, Learning Rate: 1.000e-05\n",
      "total time: 449.8026707172394 s\n"
     ]
    }
   ],
   "source": [
    "tot = time.time()\n",
    "print(xvamodel.device)\n",
    "graph = xvamodel.train(n_iter, lr)\n",
    "print(\"total time:\", time.time() - tot, \"s\")"
   ]
  },
  {
   "cell_type": "code",
   "execution_count": 7,
   "metadata": {},
   "outputs": [],
   "source": [
    "xvamodel.load_model(\"models/100DCallOptionCVADVAXVAPaper.pth\")"
   ]
  },
  {
   "cell_type": "code",
   "execution_count": 8,
   "metadata": {},
   "outputs": [],
   "source": [
    "t_test, W_test, C_test = xvamodel.fetch_minibatch()\n",
    "X_pred, Y_pred = xvamodel.predict(C_test, t_test, W_test)\n",
    "\n",
    "if type(t_test).__module__ != 'numpy':\n",
    "    t_test = t_test.cpu().numpy()\n",
    "if type(X_pred).__module__ != 'numpy':\n",
    "    X_pred = X_pred.cpu().detach().numpy()\n",
    "if type(Y_pred).__module__ != 'numpy':\n",
    "    Y_pred = Y_pred.cpu().detach().numpy()\n",
    "\n",
    "for i in range(63):\n",
    "    t_test_i, W_test_i, C_test_i = xvamodel.fetch_minibatch()\n",
    "    X_pred_i, Y_pred_i = xvamodel.predict(C_test_i, t_test_i, W_test_i)\n",
    "    if type(X_pred_i).__module__ != 'numpy':\n",
    "        X_pred_i = X_pred_i.cpu().detach().numpy()\n",
    "    if type(Y_pred_i).__module__ != 'numpy':\n",
    "        Y_pred_i = Y_pred_i.cpu().detach().numpy()\n",
    "    if type(t_test_i).__module__ != 'numpy':\n",
    "        t_test_i = t_test_i.cpu().numpy()\n",
    "    X_pred = np.concatenate((X_pred, X_pred_i), axis=0)\n",
    "    Y_pred = np.concatenate((Y_pred, Y_pred_i), axis=0)\n",
    "    t_test = np.concatenate((t_test, t_test_i), axis=0)"
   ]
  },
  {
   "cell_type": "code",
   "execution_count": 9,
   "metadata": {},
   "outputs": [],
   "source": [
    "Y_preds = Y_pred.reshape(4096, 51)"
   ]
  },
  {
   "cell_type": "code",
   "execution_count": 10,
   "metadata": {},
   "outputs": [
    {
     "data": {
      "text/plain": [
       "0.008979328"
      ]
     },
     "execution_count": 10,
     "metadata": {},
     "output_type": "execute_result"
    }
   ],
   "source": [
    "Y_preds[0,:][0]"
   ]
  },
  {
   "cell_type": "code",
   "execution_count": 13,
   "metadata": {},
   "outputs": [],
   "source": [
    "xvamodel.save_model(\"models/100DCallOptionCVADVAXVAPaper.pth\")"
   ]
  }
 ],
 "metadata": {
  "kernelspec": {
   "display_name": "myvenv",
   "language": "python",
   "name": "python3"
  },
  "language_info": {
   "codemirror_mode": {
    "name": "ipython",
    "version": 3
   },
   "file_extension": ".py",
   "mimetype": "text/x-python",
   "name": "python",
   "nbconvert_exporter": "python",
   "pygments_lexer": "ipython3",
   "version": "3.10.12"
  }
 },
 "nbformat": 4,
 "nbformat_minor": 2
}
