{
 "cells": [
  {
   "cell_type": "code",
   "execution_count": 1,
   "metadata": {},
   "outputs": [],
   "source": [
    "import sys\n",
    "import os\n",
    "sys.path.append(os.path.abspath(\"Pytorch/\"))\n",
    "sys.path.append(os.path.abspath(\"models/\"))"
   ]
  },
  {
   "cell_type": "code",
   "execution_count": 2,
   "metadata": {},
   "outputs": [],
   "source": [
    "from XVA import *\n",
    "from XVAFBSNNs import *"
   ]
  },
  {
   "cell_type": "code",
   "execution_count": 3,
   "metadata": {},
   "outputs": [],
   "source": [
    "from FBSNNs import *\n",
    "from CallOptionsBasket import *"
   ]
  },
  {
   "cell_type": "code",
   "execution_count": 4,
   "metadata": {},
   "outputs": [],
   "source": [
    "import numpy as np\n",
    "import torch\n",
    "import matplotlib.pyplot as plt\n",
    "import time\n",
    "\n",
    "M = 64  # number of trajectories (batch size)\n",
    "N = 100  # number of time snapshots\n",
    "D = 100 # number of dimensions\n",
    "Mm = N ** (1/5)\n",
    "\n",
    "layers = [D + 1] + 4 * [256] + [1]\n",
    "\n",
    "Xi = np.array([1] * int(D))[None, :]\n",
    "T = 1.0\n",
    "\n",
    "\"Available architectures\"\n",
    "mode = \"Naisnet\"  # FC and Naisnet are available\n",
    "activation = \"Sine\"  # Sine, ReLU and Tanh are available\n",
    "model = CallOptionsBasket(Xi, T, M, N, D, Mm, layers, mode, activation)\n",
    "\n",
    "n_iter = 2 * 10**4\n",
    "lr = 1e-3"
   ]
  },
  {
   "cell_type": "code",
   "execution_count": 5,
   "metadata": {},
   "outputs": [],
   "source": [
    "model.load_model(\"models/100DCallOptionXVAPaper.pth\")"
   ]
  },
  {
   "cell_type": "code",
   "execution_count": 6,
   "metadata": {},
   "outputs": [],
   "source": [
    "import numpy as np\n",
    "import torch\n",
    "import matplotlib.pyplot as plt\n",
    "import time\n",
    "\n",
    "M = 1  # number of trajectories (batch size)\n",
    "N = 100  # number of time snapshots\n",
    "D = 100 # number of dimensions\n",
    "Mm = N ** (1/5)\n",
    "\n",
    "layers = [1+1] + 4 * [256] + [1]\n",
    "\n",
    "Xi = np.array([1] * int(D))[None, :]\n",
    "T = 1.0\n",
    "\n",
    "\"Available architectures\"\n",
    "mode = \"Naisnet\"  # FC and Naisnet are available\n",
    "activation = \"Sine\"  # Sine, ReLU and Tanh are available\n",
    "xvamodel = XVA(Xi, T, M, N, D, Mm, layers, mode, activation, model)\n",
    "\n",
    "n_iter = 2 * 10**3\n",
    "lr = 1e-3"
   ]
  },
  {
   "cell_type": "code",
   "execution_count": 7,
   "metadata": {},
   "outputs": [],
   "source": [
    "xvamodel.load_model(\"models/100DCallOptionCVADVAXVAPaper.pth\")"
   ]
  },
  {
   "cell_type": "code",
   "execution_count": 8,
   "metadata": {},
   "outputs": [],
   "source": [
    "n_iter = 1 * 10**3\n",
    "lr = 1e-5"
   ]
  },
  {
   "cell_type": "code",
   "execution_count": 9,
   "metadata": {},
   "outputs": [
    {
     "name": "stdout",
     "output_type": "stream",
     "text": [
      "cuda:0\n",
      "It: 3700, Loss: 5.383e-06, Y0: 0.009, Time: 1.33, Learning Rate: 1.000e-05\n",
      "total time: 82.54442882537842 s\n"
     ]
    }
   ],
   "source": [
    "tot = time.time()\n",
    "print(xvamodel.device)\n",
    "graph = xvamodel.train(n_iter, lr)\n",
    "print(\"total time:\", time.time() - tot, \"s\")"
   ]
  },
  {
   "cell_type": "code",
   "execution_count": 10,
   "metadata": {},
   "outputs": [],
   "source": [
    "t_test, W_test, C_test = xvamodel.fetch_minibatch()\n",
    "X_pred, Y_pred = xvamodel.predict(C_test, t_test, W_test)\n",
    "\n",
    "if type(t_test).__module__ != 'numpy':\n",
    "    t_test = t_test.cpu().numpy()\n",
    "if type(X_pred).__module__ != 'numpy':\n",
    "    X_pred = X_pred.cpu().detach().numpy()\n",
    "if type(Y_pred).__module__ != 'numpy':\n",
    "    Y_pred = Y_pred.cpu().detach().numpy()\n",
    "\n",
    "for i in range(63):\n",
    "    t_test_i, W_test_i, C_test_i = xvamodel.fetch_minibatch()\n",
    "    X_pred_i, Y_pred_i = xvamodel.predict(C_test_i, t_test_i, W_test_i)\n",
    "    if type(X_pred_i).__module__ != 'numpy':\n",
    "        X_pred_i = X_pred_i.cpu().detach().numpy()\n",
    "    if type(Y_pred_i).__module__ != 'numpy':\n",
    "        Y_pred_i = Y_pred_i.cpu().detach().numpy()\n",
    "    if type(t_test_i).__module__ != 'numpy':\n",
    "        t_test_i = t_test_i.cpu().numpy()\n",
    "    X_pred = np.concatenate((X_pred, X_pred_i), axis=0)\n",
    "    Y_pred = np.concatenate((Y_pred, Y_pred_i), axis=0)\n",
    "    t_test = np.concatenate((t_test, t_test_i), axis=0)"
   ]
  },
  {
   "cell_type": "code",
   "execution_count": 11,
   "metadata": {},
   "outputs": [],
   "source": [
    "Y_preds = Y_pred.reshape(64, 101)"
   ]
  },
  {
   "cell_type": "code",
   "execution_count": 12,
   "metadata": {},
   "outputs": [
    {
     "data": {
      "text/plain": [
       "0.008923847"
      ]
     },
     "execution_count": 12,
     "metadata": {},
     "output_type": "execute_result"
    }
   ],
   "source": [
    "Y_preds[0,:][0]"
   ]
  },
  {
   "cell_type": "code",
   "execution_count": 14,
   "metadata": {},
   "outputs": [],
   "source": [
    "xvamodel.save_model(\"models/100DCallOptionCVADVAXVAPaper.pth\")"
   ]
  }
 ],
 "metadata": {
  "kernelspec": {
   "display_name": "myvenv",
   "language": "python",
   "name": "python3"
  },
  "language_info": {
   "codemirror_mode": {
    "name": "ipython",
    "version": 3
   },
   "file_extension": ".py",
   "mimetype": "text/x-python",
   "name": "python",
   "nbconvert_exporter": "python",
   "pygments_lexer": "ipython3",
   "version": "3.10.12"
  }
 },
 "nbformat": 4,
 "nbformat_minor": 2
}
