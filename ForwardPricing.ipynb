{
  "cells": [
    {
      "cell_type": "code",
      "execution_count": 1,
      "metadata": {
        "id": "QP33ZZJQka3l"
      },
      "outputs": [],
      "source": [
        "import sys\n",
        "import os\n",
        "sys.path.append(os.path.abspath(\"Pytorch/\"))\n",
        "sys.path.append(os.path.abspath(\"models/\"))"
      ]
    },
    {
      "cell_type": "code",
      "execution_count": 2,
      "metadata": {
        "id": "vhh1gnwvi1ZB"
      },
      "outputs": [],
      "source": [
        "from FBSNNs import *\n",
        "from ForwardContracts import *"
      ]
    },
    {
      "cell_type": "code",
      "execution_count": 5,
      "metadata": {
        "id": "qkYknYRZi1ZB"
      },
      "outputs": [],
      "source": [
        "import numpy as np\n",
        "import torch\n",
        "import matplotlib.pyplot as plt\n",
        "import time\n",
        "\n",
        "M = 64  # number of trajectories (batch size)\n",
        "N = 100 # number of time snapshots\n",
        "D = 2 # number of dimensions\n",
        "Mm = N ** (1/10)\n",
        "\n",
        "layers = [D + 1] + 4 * [256] + [1]\n",
        "\n",
        "Xi = np.array([0.5] * D)[None, :]\n",
        "T = 1.0\n",
        "\n",
        "\"Available architectures\"\n",
        "mode = \"NAIS-Net\"  # FC, Resnet and NAIS-Net are available\n",
        "activation = \"Sine\"  # Sine and ReLU are available\n",
        "model = ForwardContracts(Xi, T, M, N, D, Mm, layers, mode, activation)\n",
        "\n",
        "n_iter = 2*10**4\n",
        "lr = 1e-3"
      ]
    },
    {
      "cell_type": "code",
      "execution_count": 6,
      "metadata": {
        "colab": {
          "base_uri": "https://localhost:8080/"
        },
        "id": "YYT_RFcpi1ZC",
        "outputId": "b63e4890-0afc-44ed-f5de-1394ffb50dd1"
      },
      "outputs": [
        {
          "name": "stdout",
          "output_type": "stream",
          "text": [
            "cuda:0\n",
            "It: 0, Loss: 1.152e+02, Y0: -0.354, Time: 0.01, Learning Rate: 1.000e-03\n",
            "It: 100, Loss: 1.403e-03, Y0: 0.003, Time: 0.70, Learning Rate: 1.000e-03\n",
            "It: 200, Loss: 4.401e-04, Y0: -0.000, Time: 0.71, Learning Rate: 1.000e-03\n",
            "It: 300, Loss: 5.073e-04, Y0: -0.000, Time: 0.67, Learning Rate: 1.000e-03\n",
            "It: 400, Loss: 3.885e-04, Y0: 0.000, Time: 0.71, Learning Rate: 1.000e-03\n",
            "It: 500, Loss: 7.990e-04, Y0: 0.001, Time: 0.71, Learning Rate: 1.000e-03\n",
            "It: 600, Loss: 4.136e-04, Y0: 0.000, Time: 0.71, Learning Rate: 1.000e-03\n",
            "It: 700, Loss: 3.512e-04, Y0: -0.001, Time: 0.70, Learning Rate: 1.000e-03\n",
            "It: 800, Loss: 3.922e-04, Y0: 0.000, Time: 0.66, Learning Rate: 1.000e-03\n",
            "It: 900, Loss: 2.142e-04, Y0: -0.000, Time: 0.74, Learning Rate: 1.000e-03\n",
            "It: 1000, Loss: 1.889e-04, Y0: 0.000, Time: 0.71, Learning Rate: 1.000e-03\n",
            "It: 1100, Loss: 6.408e-01, Y0: 0.092, Time: 0.68, Learning Rate: 1.000e-03\n",
            "It: 1200, Loss: 2.543e-04, Y0: 0.001, Time: 0.71, Learning Rate: 1.000e-03\n",
            "It: 1300, Loss: 5.288e-01, Y0: 0.083, Time: 0.71, Learning Rate: 1.000e-03\n",
            "It: 1400, Loss: 1.990e-04, Y0: 0.001, Time: 0.72, Learning Rate: 1.000e-03\n",
            "It: 1500, Loss: 1.388e-02, Y0: -0.013, Time: 0.72, Learning Rate: 1.000e-03\n",
            "It: 1600, Loss: 1.124e-04, Y0: 0.000, Time: 0.74, Learning Rate: 1.000e-03\n",
            "It: 1700, Loss: 1.240e-04, Y0: 0.000, Time: 0.73, Learning Rate: 1.000e-03\n",
            "It: 1800, Loss: 2.556e-04, Y0: 0.001, Time: 0.72, Learning Rate: 1.000e-03\n",
            "It: 1900, Loss: 7.667e-05, Y0: -0.000, Time: 0.70, Learning Rate: 1.000e-03\n",
            "It: 2000, Loss: 2.391e-04, Y0: 0.001, Time: 0.68, Learning Rate: 1.000e-03\n",
            "It: 2100, Loss: 5.275e-03, Y0: 0.008, Time: 1.02, Learning Rate: 1.000e-03\n",
            "It: 2200, Loss: 1.689e-04, Y0: 0.001, Time: 1.02, Learning Rate: 1.000e-03\n",
            "It: 2300, Loss: 1.588e-02, Y0: -0.015, Time: 1.03, Learning Rate: 1.000e-03\n",
            "It: 2400, Loss: 4.180e-04, Y0: -0.002, Time: 0.99, Learning Rate: 1.000e-03\n",
            "It: 2500, Loss: 3.957e-01, Y0: 0.071, Time: 0.96, Learning Rate: 1.000e-03\n",
            "It: 2600, Loss: 1.332e-04, Y0: 0.000, Time: 1.02, Learning Rate: 1.000e-03\n",
            "It: 2700, Loss: 1.615e-04, Y0: 0.001, Time: 1.02, Learning Rate: 1.000e-03\n",
            "It: 2800, Loss: 4.870e-03, Y0: -0.008, Time: 1.05, Learning Rate: 1.000e-03\n",
            "It: 2900, Loss: 1.179e-04, Y0: -0.000, Time: 1.02, Learning Rate: 1.000e-03\n",
            "It: 3000, Loss: 8.000e-03, Y0: 0.010, Time: 1.03, Learning Rate: 1.000e-03\n",
            "It: 3100, Loss: 1.399e-04, Y0: -0.001, Time: 1.00, Learning Rate: 1.000e-03\n",
            "It: 3200, Loss: 2.812e-04, Y0: -0.002, Time: 1.00, Learning Rate: 1.000e-03\n",
            "It: 3300, Loss: 4.408e-04, Y0: -0.002, Time: 1.02, Learning Rate: 1.000e-03\n",
            "It: 3400, Loss: 7.922e-05, Y0: 0.000, Time: 1.05, Learning Rate: 1.000e-03\n",
            "It: 3500, Loss: 2.882e-04, Y0: 0.002, Time: 1.05, Learning Rate: 1.000e-03\n",
            "It: 3600, Loss: 1.800e-04, Y0: -0.001, Time: 1.00, Learning Rate: 1.000e-03\n",
            "It: 3700, Loss: 3.709e-05, Y0: -0.000, Time: 1.05, Learning Rate: 1.000e-03\n",
            "It: 3800, Loss: 1.217e-04, Y0: 0.001, Time: 1.03, Learning Rate: 1.000e-03\n",
            "It: 3900, Loss: 2.356e-03, Y0: -0.005, Time: 1.01, Learning Rate: 1.000e-03\n",
            "It: 4000, Loss: 3.292e-02, Y0: -0.021, Time: 1.06, Learning Rate: 1.000e-03\n",
            "It: 4100, Loss: 8.757e-05, Y0: -0.000, Time: 1.35, Learning Rate: 1.000e-03\n",
            "It: 4200, Loss: 1.260e-01, Y0: 0.040, Time: 1.33, Learning Rate: 1.000e-03\n",
            "It: 4300, Loss: 9.124e-05, Y0: 0.000, Time: 1.33, Learning Rate: 1.000e-03\n",
            "It: 4400, Loss: 9.174e-03, Y0: 0.008, Time: 1.36, Learning Rate: 1.000e-03\n",
            "It: 4500, Loss: 8.035e-05, Y0: -0.000, Time: 1.38, Learning Rate: 1.000e-03\n",
            "It: 4600, Loss: 4.553e-04, Y0: -0.002, Time: 1.39, Learning Rate: 1.000e-03\n",
            "It: 4700, Loss: 4.639e-03, Y0: -0.007, Time: 1.39, Learning Rate: 1.000e-03\n",
            "It: 4800, Loss: 1.975e-04, Y0: -0.001, Time: 1.38, Learning Rate: 1.000e-03\n",
            "It: 4900, Loss: 1.140e-02, Y0: 0.012, Time: 1.36, Learning Rate: 1.000e-03\n",
            "It: 5000, Loss: 3.775e-02, Y0: 0.021, Time: 1.34, Learning Rate: 1.000e-03\n",
            "It: 5100, Loss: 3.229e-03, Y0: 0.006, Time: 1.33, Learning Rate: 1.000e-03\n",
            "It: 5200, Loss: 1.153e-04, Y0: 0.000, Time: 1.35, Learning Rate: 1.000e-03\n",
            "It: 5300, Loss: 2.855e-04, Y0: -0.001, Time: 1.36, Learning Rate: 1.000e-03\n",
            "It: 5400, Loss: 1.770e-04, Y0: 0.001, Time: 1.35, Learning Rate: 1.000e-03\n",
            "It: 5500, Loss: 9.771e-04, Y0: -0.003, Time: 1.38, Learning Rate: 1.000e-03\n",
            "It: 5600, Loss: 2.314e-02, Y0: -0.016, Time: 1.35, Learning Rate: 1.000e-03\n",
            "It: 5700, Loss: 1.010e-04, Y0: 0.000, Time: 1.38, Learning Rate: 1.000e-03\n",
            "It: 5800, Loss: 1.795e-03, Y0: -0.004, Time: 1.31, Learning Rate: 1.000e-03\n",
            "It: 5900, Loss: 4.682e-04, Y0: 0.002, Time: 1.35, Learning Rate: 1.000e-03\n",
            "It: 6000, Loss: 1.175e-03, Y0: -0.003, Time: 1.34, Learning Rate: 1.000e-03\n",
            "It: 6100, Loss: 9.590e-05, Y0: -0.001, Time: 2.44, Learning Rate: 1.000e-03\n",
            "It: 6200, Loss: 8.488e-05, Y0: -0.000, Time: 2.42, Learning Rate: 1.000e-03\n",
            "It: 6300, Loss: 1.485e-04, Y0: -0.001, Time: 2.47, Learning Rate: 1.000e-03\n",
            "It: 6400, Loss: 1.452e-03, Y0: 0.004, Time: 2.35, Learning Rate: 1.000e-03\n",
            "It: 6500, Loss: 1.871e-04, Y0: 0.001, Time: 2.44, Learning Rate: 1.000e-03\n",
            "It: 6600, Loss: 9.371e-04, Y0: -0.003, Time: 2.40, Learning Rate: 1.000e-03\n",
            "It: 6700, Loss: 6.210e-04, Y0: -0.002, Time: 2.39, Learning Rate: 1.000e-03\n",
            "It: 6800, Loss: 2.190e-01, Y0: -0.050, Time: 2.43, Learning Rate: 1.000e-03\n",
            "It: 6900, Loss: 5.445e-05, Y0: 0.000, Time: 2.42, Learning Rate: 1.000e-03\n",
            "It: 7000, Loss: 2.224e-04, Y0: -0.000, Time: 2.39, Learning Rate: 1.000e-03\n",
            "It: 7100, Loss: 5.283e-04, Y0: -0.002, Time: 2.38, Learning Rate: 1.000e-03\n",
            "It: 7200, Loss: 3.338e-03, Y0: 0.005, Time: 2.38, Learning Rate: 1.000e-03\n",
            "It: 7300, Loss: 3.098e-04, Y0: 0.002, Time: 2.32, Learning Rate: 1.000e-03\n",
            "It: 7400, Loss: 1.625e-04, Y0: 0.000, Time: 2.46, Learning Rate: 1.000e-03\n",
            "It: 7500, Loss: 1.313e-03, Y0: -0.003, Time: 2.41, Learning Rate: 1.000e-03\n",
            "It: 7600, Loss: 1.154e-04, Y0: 0.000, Time: 2.37, Learning Rate: 1.000e-03\n",
            "It: 7700, Loss: 9.247e-05, Y0: -0.001, Time: 2.38, Learning Rate: 1.000e-03\n",
            "It: 7800, Loss: 1.068e-02, Y0: -0.011, Time: 2.41, Learning Rate: 1.000e-03\n",
            "It: 7900, Loss: 6.294e-04, Y0: -0.003, Time: 2.41, Learning Rate: 1.000e-03\n",
            "It: 8000, Loss: 4.188e-04, Y0: -0.002, Time: 2.41, Learning Rate: 1.000e-03\n",
            "It: 8100, Loss: 7.219e-04, Y0: -0.001, Time: 3.65, Learning Rate: 1.000e-03\n",
            "It: 8200, Loss: 1.802e-03, Y0: -0.005, Time: 3.58, Learning Rate: 1.000e-03\n",
            "It: 8300, Loss: 5.742e-02, Y0: -0.027, Time: 3.71, Learning Rate: 1.000e-03\n",
            "It: 8400, Loss: 3.470e-04, Y0: 0.002, Time: 3.72, Learning Rate: 1.000e-03\n",
            "It: 8500, Loss: 4.283e-03, Y0: 0.007, Time: 3.55, Learning Rate: 1.000e-03\n",
            "It: 8600, Loss: 1.270e-04, Y0: -0.000, Time: 3.59, Learning Rate: 1.000e-03\n",
            "It: 8700, Loss: 5.232e-02, Y0: -0.024, Time: 3.52, Learning Rate: 1.000e-03\n",
            "It: 8800, Loss: 3.025e-04, Y0: 0.002, Time: 3.55, Learning Rate: 1.000e-03\n",
            "It: 8900, Loss: 8.103e-04, Y0: 0.003, Time: 3.71, Learning Rate: 1.000e-03\n",
            "It: 9000, Loss: 5.586e-05, Y0: -0.000, Time: 3.59, Learning Rate: 1.000e-03\n",
            "It: 9100, Loss: 2.961e-04, Y0: 0.001, Time: 3.61, Learning Rate: 1.000e-03\n",
            "It: 9200, Loss: 1.177e-01, Y0: 0.032, Time: 3.65, Learning Rate: 1.000e-03\n",
            "It: 9300, Loss: 3.185e-05, Y0: -0.000, Time: 3.95, Learning Rate: 1.000e-03\n",
            "It: 9400, Loss: 5.042e-05, Y0: 0.000, Time: 3.85, Learning Rate: 1.000e-03\n",
            "It: 9500, Loss: 6.569e-05, Y0: -0.000, Time: 3.74, Learning Rate: 1.000e-03\n",
            "It: 9600, Loss: 7.200e-05, Y0: 0.000, Time: 3.84, Learning Rate: 1.000e-03\n",
            "It: 9700, Loss: 5.280e-05, Y0: 0.000, Time: 3.93, Learning Rate: 1.000e-03\n",
            "It: 9800, Loss: 5.270e-05, Y0: -0.000, Time: 3.93, Learning Rate: 1.000e-03\n",
            "It: 9900, Loss: 6.883e-05, Y0: 0.001, Time: 4.00, Learning Rate: 1.000e-03\n",
            "It: 10000, Loss: 4.558e-05, Y0: -0.001, Time: 3.81, Learning Rate: 1.000e-03\n",
            "It: 10100, Loss: 5.637e-05, Y0: 0.000, Time: 5.37, Learning Rate: 1.000e-03\n",
            "It: 10200, Loss: 1.194e-04, Y0: 0.001, Time: 5.17, Learning Rate: 1.000e-03\n",
            "It: 10300, Loss: 6.093e-04, Y0: 0.003, Time: 5.22, Learning Rate: 1.000e-03\n",
            "It: 10400, Loss: 7.473e-05, Y0: 0.000, Time: 5.32, Learning Rate: 1.000e-03\n",
            "It: 10500, Loss: 5.952e-04, Y0: -0.003, Time: 5.07, Learning Rate: 1.000e-03\n",
            "It: 10600, Loss: 2.360e-03, Y0: -0.004, Time: 5.18, Learning Rate: 1.000e-03\n",
            "It: 10700, Loss: 4.205e-04, Y0: 0.002, Time: 5.11, Learning Rate: 1.000e-03\n",
            "It: 10800, Loss: 9.305e-04, Y0: 0.003, Time: 5.16, Learning Rate: 1.000e-03\n",
            "It: 10900, Loss: 5.132e-03, Y0: -0.007, Time: 5.15, Learning Rate: 1.000e-03\n",
            "It: 11000, Loss: 6.899e-04, Y0: 0.003, Time: 5.21, Learning Rate: 1.000e-03\n",
            "It: 11100, Loss: 1.780e-04, Y0: -0.000, Time: 5.20, Learning Rate: 1.000e-03\n",
            "It: 11200, Loss: 8.096e-05, Y0: 0.000, Time: 5.14, Learning Rate: 1.000e-03\n",
            "It: 11300, Loss: 2.723e-03, Y0: 0.005, Time: 5.11, Learning Rate: 1.000e-03\n",
            "It: 11400, Loss: 1.114e-02, Y0: -0.010, Time: 5.24, Learning Rate: 1.000e-03\n",
            "It: 11500, Loss: 3.269e-05, Y0: 0.000, Time: 5.25, Learning Rate: 1.000e-03\n",
            "It: 11600, Loss: 8.026e-05, Y0: 0.000, Time: 5.10, Learning Rate: 1.000e-03\n",
            "It: 11700, Loss: 1.051e-04, Y0: 0.001, Time: 5.19, Learning Rate: 1.000e-03\n",
            "It: 11800, Loss: 5.784e-04, Y0: -0.003, Time: 5.10, Learning Rate: 1.000e-03\n",
            "It: 11900, Loss: 7.091e-04, Y0: -0.002, Time: 5.24, Learning Rate: 1.000e-03\n",
            "It: 12000, Loss: 4.082e-05, Y0: 0.000, Time: 5.17, Learning Rate: 1.000e-03\n",
            "It: 12100, Loss: 5.098e-04, Y0: -0.002, Time: 8.41, Learning Rate: 1.000e-03\n",
            "It: 12200, Loss: 8.906e-04, Y0: -0.003, Time: 8.44, Learning Rate: 1.000e-03\n",
            "It: 12300, Loss: 1.542e-03, Y0: 0.004, Time: 8.51, Learning Rate: 1.000e-03\n",
            "It: 12400, Loss: 1.246e-03, Y0: 0.004, Time: 8.22, Learning Rate: 1.000e-03\n",
            "It: 12500, Loss: 6.181e-05, Y0: 0.001, Time: 8.32, Learning Rate: 1.000e-03\n",
            "It: 12600, Loss: 2.676e-04, Y0: -0.002, Time: 8.35, Learning Rate: 1.000e-03\n",
            "It: 12700, Loss: 2.607e-04, Y0: -0.001, Time: 8.44, Learning Rate: 1.000e-03\n",
            "It: 12800, Loss: 1.504e-04, Y0: -0.001, Time: 8.46, Learning Rate: 1.000e-03\n",
            "It: 12900, Loss: 3.526e-05, Y0: 0.000, Time: 8.28, Learning Rate: 1.000e-03\n",
            "It: 13000, Loss: 4.963e-04, Y0: 0.002, Time: 8.33, Learning Rate: 1.000e-03\n",
            "It: 13100, Loss: 1.103e-03, Y0: 0.003, Time: 8.42, Learning Rate: 1.000e-03\n",
            "It: 13200, Loss: 6.155e-03, Y0: -0.008, Time: 8.39, Learning Rate: 1.000e-03\n",
            "It: 13300, Loss: 1.819e-02, Y0: -0.014, Time: 8.50, Learning Rate: 1.000e-03\n",
            "It: 13400, Loss: 7.941e+00, Y0: 0.291, Time: 8.51, Learning Rate: 1.000e-03\n",
            "It: 13500, Loss: 4.183e-04, Y0: -0.001, Time: 8.45, Learning Rate: 1.000e-03\n",
            "It: 13600, Loss: 2.861e-05, Y0: -0.000, Time: 8.38, Learning Rate: 1.000e-03\n",
            "It: 13700, Loss: 6.749e-05, Y0: 0.000, Time: 8.48, Learning Rate: 1.000e-03\n",
            "It: 13800, Loss: 1.348e-04, Y0: 0.000, Time: 8.41, Learning Rate: 1.000e-03\n",
            "It: 13900, Loss: 3.459e-05, Y0: -0.000, Time: 8.38, Learning Rate: 1.000e-03\n",
            "It: 14000, Loss: 2.897e-05, Y0: 0.000, Time: 8.45, Learning Rate: 1.000e-03\n",
            "It: 14100, Loss: 5.919e-05, Y0: -0.000, Time: 12.95, Learning Rate: 1.000e-03\n",
            "It: 14200, Loss: 5.726e-05, Y0: -0.000, Time: 12.96, Learning Rate: 1.000e-03\n",
            "It: 14300, Loss: 1.388e-04, Y0: 0.000, Time: 12.97, Learning Rate: 1.000e-03\n",
            "It: 14400, Loss: 3.648e-05, Y0: 0.000, Time: 12.88, Learning Rate: 1.000e-03\n",
            "It: 14500, Loss: 3.965e-05, Y0: -0.000, Time: 12.95, Learning Rate: 1.000e-03\n",
            "It: 14600, Loss: 9.562e-05, Y0: 0.000, Time: 12.94, Learning Rate: 1.000e-03\n",
            "It: 14700, Loss: 4.299e-05, Y0: 0.000, Time: 12.81, Learning Rate: 1.000e-03\n",
            "It: 14800, Loss: 3.073e-05, Y0: -0.000, Time: 12.86, Learning Rate: 1.000e-03\n",
            "It: 14900, Loss: 1.959e-04, Y0: -0.000, Time: 12.89, Learning Rate: 1.000e-03\n",
            "It: 15000, Loss: 5.200e-05, Y0: 0.000, Time: 12.97, Learning Rate: 1.000e-03\n",
            "It: 15100, Loss: 4.701e-05, Y0: 0.000, Time: 12.96, Learning Rate: 1.000e-03\n",
            "It: 15200, Loss: 4.696e-05, Y0: 0.000, Time: 13.01, Learning Rate: 1.000e-03\n",
            "It: 15300, Loss: 1.313e-04, Y0: 0.000, Time: 12.87, Learning Rate: 1.000e-03\n",
            "It: 15400, Loss: 3.136e-05, Y0: 0.000, Time: 12.92, Learning Rate: 1.000e-03\n",
            "It: 15500, Loss: 5.048e-05, Y0: 0.000, Time: 13.05, Learning Rate: 1.000e-03\n",
            "It: 15600, Loss: 9.698e-05, Y0: -0.000, Time: 12.93, Learning Rate: 1.000e-03\n",
            "It: 15700, Loss: 3.237e-05, Y0: 0.000, Time: 13.02, Learning Rate: 1.000e-03\n",
            "It: 15800, Loss: 4.553e-05, Y0: 0.000, Time: 13.01, Learning Rate: 1.000e-03\n",
            "It: 15900, Loss: 4.026e-05, Y0: 0.000, Time: 13.03, Learning Rate: 1.000e-03\n",
            "It: 16000, Loss: 4.913e-05, Y0: 0.000, Time: 13.16, Learning Rate: 1.000e-03\n",
            "It: 16100, Loss: 3.885e-05, Y0: 0.000, Time: 20.86, Learning Rate: 1.000e-03\n",
            "It: 16200, Loss: 4.801e-04, Y0: 0.001, Time: 20.84, Learning Rate: 1.000e-03\n",
            "It: 16300, Loss: 8.578e-05, Y0: -0.000, Time: 20.89, Learning Rate: 1.000e-03\n",
            "It: 16400, Loss: 4.071e-05, Y0: 0.000, Time: 20.76, Learning Rate: 1.000e-03\n",
            "It: 16500, Loss: 6.922e-05, Y0: 0.000, Time: 20.97, Learning Rate: 1.000e-03\n",
            "It: 16600, Loss: 4.989e-05, Y0: -0.000, Time: 20.95, Learning Rate: 1.000e-03\n",
            "It: 16700, Loss: 6.873e-05, Y0: 0.000, Time: 21.01, Learning Rate: 1.000e-03\n",
            "It: 16800, Loss: 7.449e-05, Y0: -0.000, Time: 20.95, Learning Rate: 1.000e-03\n",
            "It: 16900, Loss: 2.201e-04, Y0: 0.000, Time: 21.00, Learning Rate: 1.000e-03\n",
            "It: 17000, Loss: 1.119e-04, Y0: 0.001, Time: 20.76, Learning Rate: 1.000e-03\n",
            "It: 17100, Loss: 6.335e-05, Y0: -0.000, Time: 20.83, Learning Rate: 1.000e-03\n",
            "It: 17200, Loss: 1.082e-03, Y0: 0.004, Time: 20.81, Learning Rate: 1.000e-03\n",
            "It: 17300, Loss: 5.705e-04, Y0: 0.003, Time: 20.82, Learning Rate: 1.000e-03\n",
            "It: 17400, Loss: 1.298e-02, Y0: -0.013, Time: 21.09, Learning Rate: 1.000e-03\n",
            "It: 17500, Loss: 9.688e-05, Y0: 0.001, Time: 21.00, Learning Rate: 1.000e-03\n",
            "It: 17600, Loss: 7.382e-05, Y0: 0.001, Time: 20.99, Learning Rate: 1.000e-03\n",
            "It: 17700, Loss: 1.322e-03, Y0: 0.003, Time: 20.75, Learning Rate: 1.000e-03\n",
            "It: 17800, Loss: 4.793e-04, Y0: -0.002, Time: 20.91, Learning Rate: 1.000e-03\n",
            "It: 17900, Loss: 4.487e-05, Y0: 0.000, Time: 20.89, Learning Rate: 1.000e-03\n",
            "It: 18000, Loss: 8.274e-05, Y0: 0.000, Time: 20.95, Learning Rate: 1.000e-03\n",
            "It: 18100, Loss: 7.798e-05, Y0: 0.001, Time: 33.13, Learning Rate: 1.000e-03\n",
            "It: 18200, Loss: 6.585e-05, Y0: 0.001, Time: 33.34, Learning Rate: 1.000e-03\n",
            "It: 18300, Loss: 5.394e-04, Y0: 0.003, Time: 33.13, Learning Rate: 1.000e-03\n",
            "It: 18400, Loss: 2.090e-03, Y0: -0.005, Time: 33.18, Learning Rate: 1.000e-03\n",
            "It: 18500, Loss: 4.657e-03, Y0: 0.007, Time: 33.18, Learning Rate: 1.000e-03\n",
            "It: 18600, Loss: 6.119e-04, Y0: 0.001, Time: 33.32, Learning Rate: 1.000e-03\n",
            "It: 18700, Loss: 2.726e-02, Y0: 0.017, Time: 33.40, Learning Rate: 1.000e-03\n",
            "It: 18800, Loss: 1.122e-04, Y0: -0.000, Time: 34.16, Learning Rate: 1.000e-03\n",
            "It: 18900, Loss: 1.022e-04, Y0: 0.001, Time: 33.45, Learning Rate: 1.000e-03\n",
            "It: 19000, Loss: 9.510e-04, Y0: 0.002, Time: 33.23, Learning Rate: 1.000e-03\n",
            "It: 19100, Loss: 3.136e-04, Y0: 0.002, Time: 33.11, Learning Rate: 1.000e-03\n",
            "It: 19200, Loss: 3.134e-04, Y0: 0.002, Time: 33.32, Learning Rate: 1.000e-03\n",
            "It: 19300, Loss: 1.096e-04, Y0: 0.001, Time: 33.19, Learning Rate: 1.000e-03\n",
            "It: 19400, Loss: 9.024e-05, Y0: -0.001, Time: 33.43, Learning Rate: 1.000e-03\n",
            "It: 19500, Loss: 9.549e-04, Y0: -0.002, Time: 33.30, Learning Rate: 1.000e-03\n",
            "It: 19600, Loss: 2.748e-04, Y0: 0.002, Time: 33.41, Learning Rate: 1.000e-03\n",
            "It: 19700, Loss: 6.402e-03, Y0: -0.009, Time: 33.21, Learning Rate: 1.000e-03\n",
            "It: 19800, Loss: 1.708e-03, Y0: 0.004, Time: 33.16, Learning Rate: 1.000e-03\n",
            "It: 19900, Loss: 7.072e-04, Y0: 0.003, Time: 33.41, Learning Rate: 1.000e-03\n",
            "total time: 1799.1909918785095 s\n"
          ]
        }
      ],
      "source": [
        "tot = time.time()\n",
        "print(model.device)\n",
        "graph = model.train(n_iter, lr)\n",
        "print(\"total time:\", time.time() - tot, \"s\")"
      ]
    },
    {
      "cell_type": "code",
      "execution_count": 131,
      "metadata": {
        "id": "3HXV8CWOi1ZD"
      },
      "outputs": [],
      "source": [
        "t_test, W_test = model.fetch_minibatch()\n",
        "X_pred, Y_pred = model.predict(Xi, t_test, W_test)\n",
        "\n",
        "if type(t_test).__module__ != 'numpy':\n",
        "    t_test = t_test.cpu().numpy()\n",
        "if type(X_pred).__module__ != 'numpy':\n",
        "    X_pred = X_pred.cpu().detach().numpy()\n",
        "if type(Y_pred).__module__ != 'numpy':\n",
        "    Y_pred = Y_pred.cpu().detach().numpy()\n",
        "\n",
        "for i in range(63):\n",
        "    t_test_i, W_test_i = model.fetch_minibatch()\n",
        "    X_pred_i, Y_pred_i = model.predict(Xi, t_test_i, W_test_i)\n",
        "    if type(X_pred_i).__module__ != 'numpy':\n",
        "        X_pred_i = X_pred_i.cpu().detach().numpy()\n",
        "    if type(Y_pred_i).__module__ != 'numpy':\n",
        "        Y_pred_i = Y_pred_i.cpu().detach().numpy()\n",
        "    X_pred = np.concatenate((X_pred, X_pred_i), axis=0)\n",
        "    Y_pred = np.concatenate((Y_pred, Y_pred_i), axis=0)\n",
        "\n",
        "if type(t_test).__module__ != 'numpy':\n",
        "    t_test = t_test.cpu().numpy()\n",
        "if type(X_pred).__module__ != 'numpy':\n",
        "    X_pred = X_pred.cpu().detach().numpy()\n",
        "if type(Y_pred).__module__ != 'numpy':\n",
        "    Y_pred = Y_pred.cpu().detach().numpy()\n",
        "\n",
        "# Y_test = np.reshape(u_exact(T,np.reshape(t_test[0:M, :, :], [-1, 1]), np.reshape(X_pred[0:M, :, :], [-1, D])),\n",
        "#                     [M, -1, 1])"
      ]
    },
    {
      "cell_type": "code",
      "execution_count": 132,
      "metadata": {},
      "outputs": [
        {
          "data": {
            "text/plain": [
              "(4096, 101)"
            ]
          },
          "execution_count": 132,
          "metadata": {},
          "output_type": "execute_result"
        }
      ],
      "source": [
        "X_preds = np.sum(X_pred, axis=2) - 1\n",
        "X_preds.shape"
      ]
    },
    {
      "cell_type": "code",
      "execution_count": 134,
      "metadata": {},
      "outputs": [],
      "source": [
        "Y_preds = Y_pred.reshape(4096,101)"
      ]
    },
    {
      "cell_type": "code",
      "execution_count": 136,
      "metadata": {},
      "outputs": [
        {
          "data": {
            "text/plain": [
              "array([0.  , 0.01, 0.02, 0.03, 0.04, 0.05, 0.06, 0.07, 0.08, 0.09, 0.1 ,\n",
              "       0.11, 0.12, 0.13, 0.14, 0.15, 0.16, 0.17, 0.18, 0.19, 0.2 , 0.21,\n",
              "       0.22, 0.23, 0.24, 0.25, 0.26, 0.27, 0.28, 0.29, 0.3 , 0.31, 0.32,\n",
              "       0.33, 0.34, 0.35, 0.36, 0.37, 0.38, 0.39, 0.4 , 0.41, 0.42, 0.43,\n",
              "       0.44, 0.45, 0.46, 0.47, 0.48, 0.49, 0.5 , 0.51, 0.52, 0.53, 0.54,\n",
              "       0.55, 0.56, 0.57, 0.58, 0.59, 0.6 , 0.61, 0.62, 0.63, 0.64, 0.65,\n",
              "       0.66, 0.67, 0.68, 0.69, 0.7 , 0.71, 0.72, 0.73, 0.74, 0.75, 0.76,\n",
              "       0.77, 0.78, 0.79, 0.8 , 0.81, 0.82, 0.83, 0.84, 0.85, 0.86, 0.87,\n",
              "       0.88, 0.89, 0.9 , 0.91, 0.92, 0.93, 0.94, 0.95, 0.96, 0.97, 0.98,\n",
              "       0.99, 1.  ], dtype=float32)"
            ]
          },
          "execution_count": 136,
          "metadata": {},
          "output_type": "execute_result"
        }
      ],
      "source": [
        "time_stamps = t_test[0].reshape(101,)\n",
        "time_stamps"
      ]
    },
    {
      "cell_type": "code",
      "execution_count": 138,
      "metadata": {},
      "outputs": [
        {
          "data": {
            "text/plain": [
              "(101,)"
            ]
          },
          "execution_count": 138,
          "metadata": {},
          "output_type": "execute_result"
        }
      ],
      "source": [
        "epe = np.mean(np.maximum(Y_preds,0),axis=0)    \n",
        "epe.shape"
      ]
    },
    {
      "cell_type": "code",
      "execution_count": 140,
      "metadata": {},
      "outputs": [
        {
          "data": {
            "text/plain": [
              "array([-0.00350482, -0.01291529, -0.01782562, -0.02115841, -0.02457166,\n",
              "       -0.02705521, -0.02960248, -0.03161457, -0.03358424, -0.03522774,\n",
              "       -0.03702699, -0.03809198, -0.03958326, -0.04102708, -0.04318181,\n",
              "       -0.04433129, -0.04664447, -0.04824635, -0.05004558, -0.05090956,\n",
              "       -0.05180708, -0.05329566, -0.05419656, -0.0552511 , -0.05612473,\n",
              "       -0.05740462, -0.0580621 , -0.05866849, -0.05961902, -0.06077885,\n",
              "       -0.06186298, -0.06303844, -0.06361823, -0.06470101, -0.06570992,\n",
              "       -0.06661559, -0.06733298, -0.06819198, -0.06922049, -0.07047991,\n",
              "       -0.07160243, -0.07242978, -0.0732465 , -0.0741147 , -0.07459299,\n",
              "       -0.07568283, -0.07628146, -0.0766938 , -0.07720234, -0.07753716,\n",
              "       -0.07858743, -0.0800211 , -0.08086775, -0.08117446, -0.08222917,\n",
              "       -0.08343776, -0.08422861, -0.08463701, -0.08521702, -0.08621987,\n",
              "       -0.08683205, -0.08733352, -0.08814522, -0.08885968, -0.08922257,\n",
              "       -0.09018532, -0.09092858, -0.09149985, -0.09244548, -0.09272061,\n",
              "       -0.09345531, -0.09417277, -0.09521595, -0.09577078, -0.09651766,\n",
              "       -0.0973397 , -0.09805445, -0.09897   , -0.09975372, -0.10061583,\n",
              "       -0.101108  , -0.10213608, -0.10294197, -0.10314266, -0.10381752,\n",
              "       -0.10440164, -0.10494846, -0.10583297, -0.10643111, -0.1064566 ,\n",
              "       -0.10733978, -0.10800291, -0.10880424, -0.10973865, -0.11059504,\n",
              "       -0.11117617, -0.11202244, -0.11205388, -0.11277112, -0.11333601,\n",
              "       -0.1140196 ], dtype=float32)"
            ]
          },
          "execution_count": 140,
          "metadata": {},
          "output_type": "execute_result"
        }
      ],
      "source": [
        "ene = np.mean(np.minimum(Y_preds,0),axis=0)\n",
        "ene"
      ]
    },
    {
      "cell_type": "code",
      "execution_count": 13,
      "metadata": {},
      "outputs": [],
      "source": [
        "from scipy.stats import norm"
      ]
    },
    {
      "cell_type": "code",
      "execution_count": 141,
      "metadata": {},
      "outputs": [],
      "source": [
        "rv = norm()"
      ]
    },
    {
      "cell_type": "code",
      "execution_count": 170,
      "metadata": {},
      "outputs": [],
      "source": [
        "x_init = 1\n",
        "strike = 1\n",
        "sigma = 0.30"
      ]
    },
    {
      "cell_type": "code",
      "execution_count": 171,
      "metadata": {},
      "outputs": [],
      "source": [
        "d1 = np.array([(-0 * s + np.log(x_init/strike) + (0+sigma**2/2)*s)/sigma/np.sqrt(s) \n",
        "            for s in time_stamps[1:]])\n",
        "d2 = np.array([d1[i]-sigma*np.sqrt(s) for i,s in enumerate(time_stamps[1:])])"
      ]
    },
    {
      "cell_type": "code",
      "execution_count": 172,
      "metadata": {},
      "outputs": [
        {
          "data": {
            "text/plain": [
              "array([0.015     , 0.0212132 , 0.02598076, 0.03      , 0.03354102,\n",
              "       0.03674235, 0.03968627, 0.04242641, 0.045     , 0.04743417,\n",
              "       0.04974937, 0.05196152, 0.05408327, 0.05612486, 0.05809475,\n",
              "       0.06      , 0.06184658, 0.06363961, 0.06538348, 0.06708204,\n",
              "       0.06873864, 0.07035623, 0.07193748, 0.07348469, 0.075     ,\n",
              "       0.07648529, 0.07794229, 0.07937254, 0.08077747, 0.08215838,\n",
              "       0.08351646, 0.08485282, 0.08616844, 0.08746428, 0.08874119,\n",
              "       0.09      , 0.09124144, 0.09246621, 0.09367497, 0.09486833,\n",
              "       0.09604686, 0.09721111, 0.09836158, 0.09949874, 0.10062306,\n",
              "       0.10173495, 0.10283482, 0.10392305, 0.105     , 0.10606602,\n",
              "       0.10712142, 0.10816654, 0.10920165, 0.11022704, 0.11124297,\n",
              "       0.11224972, 0.11324752, 0.11423659, 0.11521718, 0.1161895 ,\n",
              "       0.11715374, 0.11811012, 0.11905881, 0.12      , 0.12093386,\n",
              "       0.12186058, 0.1227803 , 0.12369317, 0.12459936, 0.125499  ,\n",
              "       0.12639225, 0.12727922, 0.12816006, 0.12903488, 0.12990381,\n",
              "       0.13076697, 0.13162447, 0.13247641, 0.13332292, 0.13416408,\n",
              "       0.135     , 0.13583078, 0.1366565 , 0.13747727, 0.13829317,\n",
              "       0.13910428, 0.13991069, 0.14071247, 0.14150971, 0.1423025 ,\n",
              "       0.14309088, 0.14387495, 0.14465476, 0.1454304 , 0.14620192,\n",
              "       0.14696938, 0.14773287, 0.14849242, 0.14924812, 0.15      ])"
            ]
          },
          "execution_count": 172,
          "metadata": {},
          "output_type": "execute_result"
        }
      ],
      "source": [
        "d1"
      ]
    },
    {
      "cell_type": "code",
      "execution_count": 173,
      "metadata": {},
      "outputs": [
        {
          "data": {
            "text/plain": [
              "array([-0.015     , -0.0212132 , -0.02598076, -0.03      , -0.03354102,\n",
              "       -0.03674234, -0.03968627, -0.0424264 , -0.045     , -0.04743416,\n",
              "       -0.04974937, -0.05196152, -0.05408326, -0.05612486, -0.05809475,\n",
              "       -0.06      , -0.06184659, -0.06363961, -0.06538349, -0.06708204,\n",
              "       -0.06873863, -0.07035624, -0.07193747, -0.07348469, -0.075     ,\n",
              "       -0.07648529, -0.07794228, -0.07937253, -0.08077747, -0.08215839,\n",
              "       -0.08351648, -0.0848528 , -0.08616844, -0.08746428, -0.0887412 ,\n",
              "       -0.09000001, -0.09124143, -0.0924662 , -0.09367497, -0.09486833,\n",
              "       -0.09604687, -0.0972111 , -0.09836157, -0.09949874, -0.10062304,\n",
              "       -0.10173496, -0.10283482, -0.10392305, -0.10499999, -0.10606601,\n",
              "       -0.10712144, -0.10816653, -0.10920164, -0.11022705, -0.11124299,\n",
              "       -0.11224973, -0.11324751, -0.1142366 , -0.11521719, -0.11618951,\n",
              "       -0.11715375, -0.11811011, -0.1190588 , -0.12000001, -0.12093387,\n",
              "       -0.12186058, -0.12278028, -0.12369317, -0.12459935, -0.12549901,\n",
              "       -0.12639224, -0.12727922, -0.12816006, -0.12903488, -0.1299038 ,\n",
              "       -0.13076697, -0.13162446, -0.13247642, -0.13332292, -0.13416407,\n",
              "       -0.13499999, -0.13583077, -0.1366565 , -0.13747726, -0.13829317,\n",
              "       -0.13910427, -0.13991068, -0.14071248, -0.14150972, -0.14230248,\n",
              "       -0.14309088, -0.14387494, -0.14465476, -0.14543039, -0.14620191,\n",
              "       -0.14696938, -0.14773288, -0.14849243, -0.14924811, -0.15      ])"
            ]
          },
          "execution_count": 173,
          "metadata": {},
          "output_type": "execute_result"
        }
      ],
      "source": [
        "d2"
      ]
    },
    {
      "cell_type": "code",
      "execution_count": 174,
      "metadata": {},
      "outputs": [
        {
          "data": {
            "text/plain": [
              "array([0.01196782, 0.01692442, 0.02072732, 0.02393295, 0.02675684,\n",
              "       0.02930956, 0.03165675, 0.03384122, 0.03589269, 0.0378328 ,\n",
              "       0.03967789, 0.04144065, 0.04313118, 0.04475766, 0.04632685,\n",
              "       0.04784437, 0.049315  , 0.05074281, 0.05213133, 0.05348361,\n",
              "       0.05480233, 0.05608988, 0.05734833, 0.05857957, 0.05978529,\n",
              "       0.06096698, 0.06212604, 0.06326369, 0.06438107, 0.06547924,\n",
              "       0.06655912, 0.06762159, 0.06866748, 0.06969752, 0.07071241,\n",
              "       0.07171279, 0.07269925, 0.07367236, 0.07463265, 0.07558059,\n",
              "       0.07651665, 0.07744125, 0.07835482, 0.07925771, 0.0801503 ,\n",
              "       0.08103294, 0.08190593, 0.08276958, 0.08362419, 0.08447003,\n",
              "       0.08530735, 0.08613641, 0.08695744, 0.08777068, 0.08857633,\n",
              "       0.0893746 , 0.09016567, 0.09094976, 0.09172702, 0.09249764,\n",
              "       0.09326178, 0.09401959, 0.09477123, 0.09551685, 0.09625658,\n",
              "       0.09699056, 0.09771892, 0.09844178, 0.09915926, 0.09987149,\n",
              "       0.10057856, 0.1012806 , 0.10197769, 0.10266995, 0.10335747,\n",
              "       0.10404035, 0.10471866, 0.10539252, 0.106062  , 0.10672717,\n",
              "       0.10738812, 0.10804494, 0.10869769, 0.10934644, 0.10999128,\n",
              "       0.11063225, 0.11126944, 0.11190291, 0.11253272, 0.11315892,\n",
              "       0.11378159, 0.11440078, 0.11501654, 0.11562893, 0.116238  ,\n",
              "       0.11684381, 0.11744641, 0.11804584, 0.11864214, 0.11923538])"
            ]
          },
          "execution_count": 174,
          "metadata": {},
          "output_type": "execute_result"
        }
      ],
      "source": [
        "epe_exact = x_init*rv.cdf(d1) - strike*np.exp(-0)*rv.cdf(d2)\n",
        "epe_exact"
      ]
    },
    {
      "cell_type": "code",
      "execution_count": 175,
      "metadata": {},
      "outputs": [
        {
          "data": {
            "text/plain": [
              "array([-0.01196782, -0.01692442, -0.02072732, -0.02393295, -0.02675684,\n",
              "       -0.02930956, -0.03165675, -0.03384122, -0.03589269, -0.0378328 ,\n",
              "       -0.03967789, -0.04144065, -0.04313118, -0.04475766, -0.04632685,\n",
              "       -0.04784437, -0.049315  , -0.05074281, -0.05213133, -0.05348361,\n",
              "       -0.05480233, -0.05608988, -0.05734833, -0.05857957, -0.05978529,\n",
              "       -0.06096698, -0.06212604, -0.06326369, -0.06438107, -0.06547924,\n",
              "       -0.06655912, -0.06762159, -0.06866748, -0.06969752, -0.07071241,\n",
              "       -0.07171279, -0.07269925, -0.07367236, -0.07463265, -0.07558059,\n",
              "       -0.07651665, -0.07744125, -0.07835482, -0.07925771, -0.0801503 ,\n",
              "       -0.08103294, -0.08190593, -0.08276958, -0.08362419, -0.08447003,\n",
              "       -0.08530735, -0.08613641, -0.08695744, -0.08777068, -0.08857633,\n",
              "       -0.0893746 , -0.09016567, -0.09094976, -0.09172702, -0.09249764,\n",
              "       -0.09326178, -0.09401959, -0.09477123, -0.09551685, -0.09625658,\n",
              "       -0.09699056, -0.09771892, -0.09844178, -0.09915926, -0.09987149,\n",
              "       -0.10057856, -0.1012806 , -0.10197769, -0.10266995, -0.10335747,\n",
              "       -0.10404035, -0.10471866, -0.10539252, -0.106062  , -0.10672717,\n",
              "       -0.10738812, -0.10804494, -0.10869769, -0.10934644, -0.10999128,\n",
              "       -0.11063225, -0.11126944, -0.11190291, -0.11253272, -0.11315892,\n",
              "       -0.11378159, -0.11440078, -0.11501654, -0.11562893, -0.116238  ,\n",
              "       -0.11684381, -0.11744641, -0.11804584, -0.11864214, -0.11923538])"
            ]
          },
          "execution_count": 175,
          "metadata": {},
          "output_type": "execute_result"
        }
      ],
      "source": [
        "ene_exact = x_init*rv.cdf(-d1) - strike*np.exp(-0)*rv.cdf(-d2)\n",
        "ene_exact"
      ]
    },
    {
      "cell_type": "code",
      "execution_count": 176,
      "metadata": {},
      "outputs": [
        {
          "data": {
            "image/png": "[encoded data removed]",
            "text/plain": [
              "<Figure size 640x480 with 1 Axes>"
            ]
          },
          "metadata": {},
          "output_type": "display_data"
        }
      ],
      "source": [
        "    fig = plt.figure()\n",
        "    plt.plot(time_stamps,[0.0]+list(epe_exact),'b--',label='Exact Discounted Expected Positive Exposure')\n",
        "    plt.plot(time_stamps,np.transpose(epe1),'b',label='Solved Discounted Expected Positive Exposure' )\n",
        "\n",
        "    plt.plot(time_stamps,[0.0]+list(ene_exact),'r--',label='Exact Discounted Expected Negative Exposure')\n",
        "    plt.plot(time_stamps,np.transpose(ene1),'r',label='Solved Discounted Expected Negative Exposure')\n",
        "\n",
        "    plt.xlabel('t')\n",
        "    plt.legend()\n",
        "\n",
        "    plt.show()"
      ]
    }
  ],
  "metadata": {
    "accelerator": "GPU",
    "colab": {
      "gpuType": "V100",
      "machine_shape": "hm",
      "provenance": []
    },
    "kernelspec": {
      "display_name": "Python 3",
      "name": "python3"
    },
    "language_info": {
      "codemirror_mode": {
        "name": "ipython",
        "version": 3
      },
      "file_extension": ".py",
      "mimetype": "text/x-python",
      "name": "python",
      "nbconvert_exporter": "python",
      "pygments_lexer": "ipython3",
      "version": "3.10.12"
    },
    "orig_nbformat": 4,
    "vscode": {
      "interpreter": {
        "hash": "db8df854c49da63d7a9a70fc04e89db6090f48201a05c37ee636be674f92602b"
      }
    }
  },
  "nbformat": 4,
  "nbformat_minor": 0
}
