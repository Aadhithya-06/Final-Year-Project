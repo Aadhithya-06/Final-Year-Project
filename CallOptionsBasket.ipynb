{
  "cells": [
    {
      "cell_type": "code",
      "execution_count": 1,
      "metadata": {
        "id": "QP33ZZJQka3l"
      },
      "outputs": [],
      "source": [
        "import sys\n",
        "import os\n",
        "sys.path.append(os.path.abspath(\"Pytorch/\"))\n",
        "sys.path.append(os.path.abspath(\"models/\"))"
      ]
    },
    {
      "cell_type": "code",
      "execution_count": 2,
      "metadata": {
        "id": "vhh1gnwvi1ZB"
      },
      "outputs": [],
      "source": [
        "from FBSNNs import *\n",
        "from CallOptionsBasket import *"
      ]
    },
    {
      "cell_type": "code",
      "execution_count": 3,
      "metadata": {},
      "outputs": [],
      "source": [
        "import numpy as np\n",
        "import torch\n",
        "import matplotlib.pyplot as plt\n",
        "import time\n",
        "\n",
        "M = 64  # number of trajectories (batch size)\n",
        "N = 100  # number of time snapshots\n",
        "D = 100 # number of dimensions\n",
        "Mm = N ** (1/5)\n",
        "\n",
        "layers = [D + 1] + 4 * [256] + [1]\n",
        "\n",
        "Xi = np.array([1] * int(D))[None, :]\n",
        "T = 1.0\n",
        "\n",
        "\"Available architectures\"\n",
        "mode = \"NAIS-Net\"  # FC, Resnet and NAIS-Net are available\n",
        "activation = \"Sine\"  # Sine and ReLU are available\n",
        "model = CallOptionsBasket(Xi, T, M, N, D, Mm, layers, mode, activation)\n",
        "\n",
        "n_iter = 2 * 10**4\n",
        "lr = 1e-3"
      ]
    },
    {
      "cell_type": "code",
      "execution_count": 4,
      "metadata": {},
      "outputs": [
        {
          "name": "stdout",
          "output_type": "stream",
          "text": [
            "cuda:0\n",
            "It: 0, Loss: 1.101e+04, Y0: -1.454, Time: 0.39, Learning Rate: 1.000e-03\n",
            "It: 100, Loss: 1.114e+03, Y0: 4.450, Time: 1.32, Learning Rate: 1.000e-03\n",
            "It: 200, Loss: 7.230e+02, Y0: 4.504, Time: 1.33, Learning Rate: 1.000e-03\n",
            "It: 300, Loss: 5.652e+02, Y0: 5.371, Time: 1.33, Learning Rate: 1.000e-03\n",
            "It: 400, Loss: 5.593e+02, Y0: 5.121, Time: 1.32, Learning Rate: 1.000e-03\n",
            "It: 500, Loss: 4.245e+02, Y0: 5.714, Time: 1.27, Learning Rate: 1.000e-03\n",
            "It: 600, Loss: 5.556e+02, Y0: 5.317, Time: 1.33, Learning Rate: 1.000e-03\n",
            "It: 700, Loss: 4.251e+02, Y0: 5.337, Time: 1.36, Learning Rate: 1.000e-03\n",
            "It: 800, Loss: 4.540e+02, Y0: 5.090, Time: 1.31, Learning Rate: 1.000e-03\n",
            "It: 900, Loss: 4.470e+02, Y0: 4.834, Time: 1.34, Learning Rate: 1.000e-03\n",
            "It: 1000, Loss: 9.582e+02, Y0: 4.377, Time: 1.35, Learning Rate: 1.000e-03\n",
            "It: 1100, Loss: 4.422e+02, Y0: 5.057, Time: 1.30, Learning Rate: 1.000e-03\n",
            "It: 1200, Loss: 3.369e+02, Y0: 4.871, Time: 1.30, Learning Rate: 1.000e-03\n",
            "It: 1300, Loss: 2.461e+02, Y0: 4.825, Time: 1.34, Learning Rate: 1.000e-03\n",
            "It: 1400, Loss: 4.395e+02, Y0: 5.027, Time: 1.35, Learning Rate: 1.000e-03\n",
            "It: 1500, Loss: 2.603e+02, Y0: 5.369, Time: 1.36, Learning Rate: 1.000e-03\n",
            "It: 1600, Loss: 4.023e+02, Y0: 5.276, Time: 1.35, Learning Rate: 1.000e-03\n",
            "It: 1700, Loss: 3.975e+02, Y0: 4.875, Time: 1.36, Learning Rate: 1.000e-03\n",
            "It: 1800, Loss: 3.034e+02, Y0: 4.926, Time: 1.37, Learning Rate: 1.000e-03\n",
            "It: 1900, Loss: 4.249e+02, Y0: 4.848, Time: 1.36, Learning Rate: 1.000e-03\n",
            "It: 2000, Loss: 3.904e+02, Y0: 4.904, Time: 1.33, Learning Rate: 1.000e-03\n",
            "It: 2100, Loss: 4.179e+02, Y0: 5.362, Time: 1.32, Learning Rate: 1.000e-03\n",
            "It: 2200, Loss: 4.294e+02, Y0: 4.757, Time: 1.35, Learning Rate: 1.000e-03\n",
            "It: 2300, Loss: 3.263e+02, Y0: 4.741, Time: 1.34, Learning Rate: 1.000e-03\n",
            "It: 2400, Loss: 5.180e+02, Y0: 5.153, Time: 1.36, Learning Rate: 1.000e-03\n",
            "It: 2500, Loss: 3.753e+02, Y0: 5.045, Time: 1.31, Learning Rate: 1.000e-03\n",
            "It: 2600, Loss: 4.107e+02, Y0: 5.612, Time: 1.32, Learning Rate: 1.000e-03\n",
            "It: 2700, Loss: 2.966e+02, Y0: 5.023, Time: 1.31, Learning Rate: 1.000e-03\n",
            "It: 2800, Loss: 4.058e+02, Y0: 4.848, Time: 1.29, Learning Rate: 1.000e-03\n",
            "It: 2900, Loss: 3.109e+02, Y0: 5.412, Time: 1.33, Learning Rate: 1.000e-03\n",
            "It: 3000, Loss: 4.768e+02, Y0: 4.869, Time: 1.31, Learning Rate: 1.000e-03\n",
            "It: 3100, Loss: 3.034e+02, Y0: 4.815, Time: 1.35, Learning Rate: 1.000e-03\n",
            "It: 3200, Loss: 4.583e+02, Y0: 5.230, Time: 1.37, Learning Rate: 1.000e-03\n",
            "It: 3300, Loss: 2.956e+02, Y0: 5.191, Time: 1.33, Learning Rate: 1.000e-03\n",
            "It: 3400, Loss: 3.319e+02, Y0: 4.989, Time: 1.32, Learning Rate: 1.000e-03\n",
            "It: 3500, Loss: 3.149e+02, Y0: 4.571, Time: 1.32, Learning Rate: 1.000e-03\n",
            "It: 3600, Loss: 7.212e+02, Y0: 5.166, Time: 1.33, Learning Rate: 1.000e-03\n",
            "It: 3700, Loss: 4.079e+02, Y0: 5.360, Time: 1.31, Learning Rate: 1.000e-03\n",
            "It: 3800, Loss: 3.258e+02, Y0: 5.411, Time: 1.27, Learning Rate: 1.000e-03\n",
            "It: 3900, Loss: 4.185e+02, Y0: 5.175, Time: 1.36, Learning Rate: 1.000e-03\n",
            "It: 4000, Loss: 4.618e+02, Y0: 5.102, Time: 1.37, Learning Rate: 1.000e-03\n",
            "It: 4100, Loss: 4.002e+02, Y0: 4.481, Time: 2.68, Learning Rate: 1.000e-03\n",
            "It: 4200, Loss: 3.923e+02, Y0: 4.794, Time: 2.69, Learning Rate: 1.000e-03\n",
            "It: 4300, Loss: 3.572e+02, Y0: 5.612, Time: 2.70, Learning Rate: 1.000e-03\n",
            "It: 4400, Loss: 3.680e+02, Y0: 4.978, Time: 2.67, Learning Rate: 1.000e-03\n",
            "It: 4500, Loss: 5.057e+02, Y0: 5.150, Time: 2.63, Learning Rate: 1.000e-03\n",
            "It: 4600, Loss: 3.454e+02, Y0: 4.665, Time: 2.71, Learning Rate: 1.000e-03\n",
            "It: 4700, Loss: 3.818e+02, Y0: 5.199, Time: 2.64, Learning Rate: 1.000e-03\n",
            "It: 4800, Loss: 3.175e+02, Y0: 4.822, Time: 2.70, Learning Rate: 1.000e-03\n",
            "It: 4900, Loss: 4.759e+02, Y0: 4.854, Time: 2.61, Learning Rate: 1.000e-03\n",
            "It: 5000, Loss: 4.444e+02, Y0: 4.939, Time: 2.66, Learning Rate: 1.000e-03\n",
            "It: 5100, Loss: 6.823e+02, Y0: 4.953, Time: 2.69, Learning Rate: 1.000e-03\n",
            "It: 5200, Loss: 4.008e+02, Y0: 4.543, Time: 2.64, Learning Rate: 1.000e-03\n",
            "It: 5300, Loss: 3.249e+02, Y0: 4.791, Time: 2.65, Learning Rate: 1.000e-03\n",
            "It: 5400, Loss: 3.553e+02, Y0: 4.973, Time: 2.66, Learning Rate: 1.000e-03\n",
            "It: 5500, Loss: 6.583e+02, Y0: 5.132, Time: 2.69, Learning Rate: 1.000e-03\n",
            "It: 5600, Loss: 4.194e+02, Y0: 4.860, Time: 2.62, Learning Rate: 1.000e-03\n",
            "It: 5700, Loss: 3.214e+02, Y0: 5.193, Time: 2.64, Learning Rate: 1.000e-03\n",
            "It: 5800, Loss: 5.934e+02, Y0: 5.066, Time: 2.65, Learning Rate: 1.000e-03\n",
            "It: 5900, Loss: 4.516e+02, Y0: 4.914, Time: 2.67, Learning Rate: 1.000e-03\n",
            "It: 6000, Loss: 5.827e+02, Y0: 5.034, Time: 2.69, Learning Rate: 1.000e-03\n",
            "It: 6100, Loss: 5.415e+02, Y0: 5.189, Time: 2.61, Learning Rate: 1.000e-03\n",
            "It: 6200, Loss: 4.807e+02, Y0: 4.867, Time: 2.64, Learning Rate: 1.000e-03\n",
            "It: 6300, Loss: 5.027e+02, Y0: 4.730, Time: 2.61, Learning Rate: 1.000e-03\n",
            "It: 6400, Loss: 4.196e+02, Y0: 5.269, Time: 2.76, Learning Rate: 1.000e-03\n",
            "It: 6500, Loss: 4.579e+02, Y0: 5.312, Time: 2.58, Learning Rate: 1.000e-03\n",
            "It: 6600, Loss: 3.854e+02, Y0: 5.149, Time: 2.61, Learning Rate: 1.000e-03\n",
            "It: 6700, Loss: 5.312e+02, Y0: 5.067, Time: 2.66, Learning Rate: 1.000e-03\n",
            "It: 6800, Loss: 5.567e+02, Y0: 5.007, Time: 2.64, Learning Rate: 1.000e-03\n",
            "It: 6900, Loss: 5.161e+02, Y0: 5.087, Time: 2.68, Learning Rate: 1.000e-03\n",
            "It: 7000, Loss: 3.365e+02, Y0: 5.351, Time: 2.69, Learning Rate: 1.000e-03\n",
            "It: 7100, Loss: 3.264e+02, Y0: 5.082, Time: 2.72, Learning Rate: 1.000e-03\n",
            "It: 7200, Loss: 3.110e+02, Y0: 5.309, Time: 2.62, Learning Rate: 1.000e-03\n",
            "It: 7300, Loss: 4.520e+02, Y0: 5.081, Time: 2.68, Learning Rate: 1.000e-03\n",
            "It: 7400, Loss: 2.789e+02, Y0: 5.388, Time: 2.69, Learning Rate: 1.000e-03\n",
            "It: 7500, Loss: 4.122e+02, Y0: 4.952, Time: 2.67, Learning Rate: 1.000e-03\n",
            "It: 7600, Loss: 2.960e+02, Y0: 5.223, Time: 2.67, Learning Rate: 1.000e-03\n",
            "It: 7700, Loss: 4.347e+02, Y0: 4.904, Time: 2.70, Learning Rate: 1.000e-03\n",
            "It: 7800, Loss: 3.296e+02, Y0: 4.968, Time: 2.62, Learning Rate: 1.000e-03\n",
            "It: 7900, Loss: 4.494e+02, Y0: 5.211, Time: 2.72, Learning Rate: 1.000e-03\n",
            "It: 8000, Loss: 4.525e+02, Y0: 4.553, Time: 2.63, Learning Rate: 1.000e-03\n",
            "It: 8100, Loss: 5.789e+02, Y0: 4.747, Time: 5.26, Learning Rate: 1.000e-03\n",
            "It: 8200, Loss: 6.204e+02, Y0: 5.198, Time: 5.45, Learning Rate: 1.000e-03\n",
            "It: 8300, Loss: 3.507e+02, Y0: 4.864, Time: 5.44, Learning Rate: 1.000e-03\n",
            "It: 8400, Loss: 3.004e+02, Y0: 5.103, Time: 5.25, Learning Rate: 1.000e-03\n",
            "It: 8500, Loss: 4.181e+02, Y0: 5.155, Time: 5.27, Learning Rate: 1.000e-03\n",
            "It: 8600, Loss: 3.529e+02, Y0: 5.344, Time: 5.23, Learning Rate: 1.000e-03\n",
            "It: 8700, Loss: 4.241e+02, Y0: 5.234, Time: 5.28, Learning Rate: 1.000e-03\n",
            "It: 8800, Loss: 4.994e+02, Y0: 4.761, Time: 5.21, Learning Rate: 1.000e-03\n",
            "It: 8900, Loss: 3.211e+02, Y0: 5.027, Time: 5.30, Learning Rate: 1.000e-03\n",
            "It: 9000, Loss: 3.783e+02, Y0: 5.109, Time: 5.30, Learning Rate: 1.000e-03\n",
            "It: 9100, Loss: 5.728e+02, Y0: 4.721, Time: 5.27, Learning Rate: 1.000e-03\n",
            "It: 9200, Loss: 6.436e+02, Y0: 4.507, Time: 5.38, Learning Rate: 1.000e-03\n",
            "It: 9300, Loss: 4.873e+02, Y0: 5.038, Time: 5.27, Learning Rate: 1.000e-03\n",
            "It: 9400, Loss: 3.383e+02, Y0: 5.098, Time: 5.23, Learning Rate: 1.000e-03\n",
            "It: 9500, Loss: 3.523e+02, Y0: 5.377, Time: 5.24, Learning Rate: 1.000e-03\n",
            "It: 9600, Loss: 4.403e+02, Y0: 4.848, Time: 5.19, Learning Rate: 1.000e-03\n",
            "It: 9700, Loss: 2.415e+02, Y0: 4.845, Time: 5.28, Learning Rate: 1.000e-03\n",
            "It: 9800, Loss: 2.348e+02, Y0: 5.209, Time: 5.33, Learning Rate: 1.000e-03\n",
            "It: 9900, Loss: 4.093e+02, Y0: 5.046, Time: 5.33, Learning Rate: 1.000e-03\n",
            "It: 10000, Loss: 2.612e+02, Y0: 4.816, Time: 5.42, Learning Rate: 1.000e-03\n",
            "It: 10100, Loss: 4.152e+02, Y0: 4.818, Time: 5.31, Learning Rate: 1.000e-03\n",
            "It: 10200, Loss: 3.410e+02, Y0: 5.057, Time: 5.41, Learning Rate: 1.000e-03\n",
            "It: 10300, Loss: 3.757e+02, Y0: 5.213, Time: 5.26, Learning Rate: 1.000e-03\n",
            "It: 10400, Loss: 5.870e+02, Y0: 4.860, Time: 5.36, Learning Rate: 1.000e-03\n",
            "It: 10500, Loss: 3.744e+02, Y0: 5.044, Time: 5.31, Learning Rate: 1.000e-03\n",
            "It: 10600, Loss: 2.871e+02, Y0: 5.084, Time: 5.35, Learning Rate: 1.000e-03\n",
            "It: 10700, Loss: 4.551e+02, Y0: 4.924, Time: 5.36, Learning Rate: 1.000e-03\n",
            "It: 10800, Loss: 3.736e+02, Y0: 5.434, Time: 5.33, Learning Rate: 1.000e-03\n",
            "It: 10900, Loss: 5.742e+02, Y0: 5.353, Time: 5.63, Learning Rate: 1.000e-03\n",
            "It: 11000, Loss: 3.204e+02, Y0: 5.634, Time: 5.67, Learning Rate: 1.000e-03\n",
            "It: 11100, Loss: 4.221e+02, Y0: 5.101, Time: 5.72, Learning Rate: 1.000e-03\n",
            "It: 11200, Loss: 2.504e+02, Y0: 5.235, Time: 5.65, Learning Rate: 1.000e-03\n",
            "It: 11300, Loss: 3.247e+02, Y0: 5.363, Time: 5.78, Learning Rate: 1.000e-03\n",
            "It: 11400, Loss: 3.151e+02, Y0: 4.896, Time: 5.49, Learning Rate: 1.000e-03\n",
            "It: 11500, Loss: 5.154e+02, Y0: 5.242, Time: 5.34, Learning Rate: 1.000e-03\n",
            "It: 11600, Loss: 4.408e+02, Y0: 4.817, Time: 5.33, Learning Rate: 1.000e-03\n",
            "It: 11700, Loss: 2.955e+02, Y0: 4.690, Time: 5.28, Learning Rate: 1.000e-03\n",
            "It: 11800, Loss: 3.840e+02, Y0: 5.021, Time: 5.31, Learning Rate: 1.000e-03\n",
            "It: 11900, Loss: 3.571e+02, Y0: 4.858, Time: 5.42, Learning Rate: 1.000e-03\n",
            "It: 12000, Loss: 2.993e+02, Y0: 5.050, Time: 5.46, Learning Rate: 1.000e-03\n",
            "It: 12100, Loss: 2.187e+02, Y0: 5.319, Time: 12.85, Learning Rate: 1.000e-03\n",
            "It: 12200, Loss: 2.595e+02, Y0: 5.197, Time: 12.85, Learning Rate: 1.000e-03\n",
            "It: 12300, Loss: 2.349e+02, Y0: 5.363, Time: 12.87, Learning Rate: 1.000e-03\n",
            "It: 12400, Loss: 2.426e+02, Y0: 5.424, Time: 12.85, Learning Rate: 1.000e-03\n",
            "It: 12500, Loss: 3.832e+02, Y0: 5.102, Time: 12.92, Learning Rate: 1.000e-03\n",
            "It: 12600, Loss: 4.270e+02, Y0: 4.985, Time: 12.84, Learning Rate: 1.000e-03\n",
            "It: 12700, Loss: 3.620e+02, Y0: 4.833, Time: 12.90, Learning Rate: 1.000e-03\n",
            "It: 12800, Loss: 2.097e+02, Y0: 4.880, Time: 12.89, Learning Rate: 1.000e-03\n",
            "It: 12900, Loss: 2.934e+02, Y0: 5.051, Time: 12.92, Learning Rate: 1.000e-03\n",
            "It: 13000, Loss: 3.178e+02, Y0: 5.246, Time: 12.73, Learning Rate: 1.000e-03\n",
            "It: 13100, Loss: 3.750e+02, Y0: 5.008, Time: 12.94, Learning Rate: 1.000e-03\n",
            "It: 13200, Loss: 5.085e+02, Y0: 5.060, Time: 12.85, Learning Rate: 1.000e-03\n",
            "It: 13300, Loss: 3.498e+02, Y0: 5.264, Time: 12.72, Learning Rate: 1.000e-03\n",
            "It: 13400, Loss: 2.535e+02, Y0: 5.135, Time: 12.83, Learning Rate: 1.000e-03\n",
            "It: 13500, Loss: 4.041e+02, Y0: 4.861, Time: 12.79, Learning Rate: 1.000e-03\n",
            "It: 13600, Loss: 4.953e+02, Y0: 5.162, Time: 12.92, Learning Rate: 1.000e-03\n",
            "It: 13700, Loss: 3.696e+02, Y0: 4.865, Time: 12.66, Learning Rate: 1.000e-03\n",
            "It: 13800, Loss: 3.855e+02, Y0: 5.123, Time: 12.76, Learning Rate: 1.000e-03\n",
            "It: 13900, Loss: 1.879e+02, Y0: 5.051, Time: 12.79, Learning Rate: 1.000e-03\n",
            "It: 14000, Loss: 3.097e+02, Y0: 5.063, Time: 12.77, Learning Rate: 1.000e-03\n",
            "It: 14100, Loss: 2.257e+02, Y0: 5.112, Time: 12.88, Learning Rate: 1.000e-03\n",
            "It: 14200, Loss: 4.240e+02, Y0: 5.134, Time: 12.77, Learning Rate: 1.000e-03\n",
            "It: 14300, Loss: 2.541e+02, Y0: 5.035, Time: 12.79, Learning Rate: 1.000e-03\n",
            "It: 14400, Loss: 2.122e+02, Y0: 4.959, Time: 12.92, Learning Rate: 1.000e-03\n",
            "It: 14500, Loss: 2.298e+02, Y0: 5.073, Time: 12.74, Learning Rate: 1.000e-03\n",
            "It: 14600, Loss: 2.072e+02, Y0: 5.036, Time: 12.78, Learning Rate: 1.000e-03\n",
            "It: 14700, Loss: 3.238e+02, Y0: 5.323, Time: 12.87, Learning Rate: 1.000e-03\n",
            "It: 14800, Loss: 2.288e+02, Y0: 4.936, Time: 12.76, Learning Rate: 1.000e-03\n",
            "It: 14900, Loss: 3.910e+02, Y0: 5.158, Time: 12.61, Learning Rate: 1.000e-03\n",
            "It: 15000, Loss: 2.466e+02, Y0: 5.114, Time: 12.75, Learning Rate: 1.000e-03\n",
            "It: 15100, Loss: 3.240e+02, Y0: 4.713, Time: 12.87, Learning Rate: 1.000e-03\n",
            "It: 15200, Loss: 1.970e+02, Y0: 5.095, Time: 12.86, Learning Rate: 1.000e-03\n",
            "It: 15300, Loss: 2.269e+02, Y0: 4.958, Time: 12.70, Learning Rate: 1.000e-03\n",
            "It: 15400, Loss: 2.348e+02, Y0: 5.104, Time: 12.73, Learning Rate: 1.000e-03\n",
            "It: 15500, Loss: 2.179e+02, Y0: 4.896, Time: 12.79, Learning Rate: 1.000e-03\n",
            "It: 15600, Loss: 2.218e+02, Y0: 5.251, Time: 12.77, Learning Rate: 1.000e-03\n",
            "It: 15700, Loss: 1.960e+02, Y0: 5.043, Time: 12.73, Learning Rate: 1.000e-03\n",
            "It: 15800, Loss: 4.554e+02, Y0: 5.554, Time: 12.70, Learning Rate: 1.000e-03\n",
            "It: 15900, Loss: 5.851e+02, Y0: 4.718, Time: 12.74, Learning Rate: 1.000e-03\n",
            "It: 16000, Loss: 2.289e+02, Y0: 5.039, Time: 13.15, Learning Rate: 1.000e-03\n",
            "It: 16100, Loss: 3.841e+02, Y0: 5.027, Time: 32.28, Learning Rate: 1.000e-03\n",
            "It: 16200, Loss: 4.709e+02, Y0: 4.924, Time: 31.61, Learning Rate: 1.000e-03\n",
            "It: 16300, Loss: 2.912e+02, Y0: 5.513, Time: 31.42, Learning Rate: 1.000e-03\n",
            "It: 16400, Loss: 3.233e+02, Y0: 5.228, Time: 31.31, Learning Rate: 1.000e-03\n",
            "It: 16500, Loss: 2.388e+02, Y0: 4.723, Time: 31.76, Learning Rate: 1.000e-03\n",
            "It: 16600, Loss: 8.525e+02, Y0: 5.106, Time: 31.37, Learning Rate: 1.000e-03\n",
            "It: 16700, Loss: 5.283e+02, Y0: 5.127, Time: 31.63, Learning Rate: 1.000e-03\n",
            "It: 16800, Loss: 3.151e+02, Y0: 4.887, Time: 31.53, Learning Rate: 1.000e-03\n",
            "It: 16900, Loss: 1.917e+02, Y0: 4.859, Time: 31.67, Learning Rate: 1.000e-03\n",
            "It: 17000, Loss: 5.570e+02, Y0: 4.944, Time: 31.57, Learning Rate: 1.000e-03\n",
            "It: 17100, Loss: 2.707e+02, Y0: 5.213, Time: 31.55, Learning Rate: 1.000e-03\n",
            "It: 17200, Loss: 4.668e+02, Y0: 5.236, Time: 31.51, Learning Rate: 1.000e-03\n",
            "It: 17300, Loss: 4.986e+02, Y0: 4.843, Time: 31.27, Learning Rate: 1.000e-03\n",
            "It: 17400, Loss: 2.484e+02, Y0: 5.285, Time: 31.49, Learning Rate: 1.000e-03\n",
            "It: 17500, Loss: 1.615e+02, Y0: 5.027, Time: 31.94, Learning Rate: 1.000e-03\n",
            "It: 17600, Loss: 2.593e+02, Y0: 4.945, Time: 31.32, Learning Rate: 1.000e-03\n",
            "It: 17700, Loss: 2.203e+02, Y0: 4.755, Time: 31.43, Learning Rate: 1.000e-03\n",
            "It: 17800, Loss: 7.312e+02, Y0: 4.676, Time: 31.28, Learning Rate: 1.000e-03\n",
            "It: 17900, Loss: 2.013e+02, Y0: 4.944, Time: 31.70, Learning Rate: 1.000e-03\n",
            "It: 18000, Loss: 2.360e+02, Y0: 4.799, Time: 31.66, Learning Rate: 1.000e-03\n",
            "It: 18100, Loss: 1.626e+02, Y0: 5.163, Time: 31.56, Learning Rate: 1.000e-03\n",
            "It: 18200, Loss: 3.828e+02, Y0: 5.038, Time: 31.51, Learning Rate: 1.000e-03\n",
            "It: 18300, Loss: 2.335e+02, Y0: 5.085, Time: 31.53, Learning Rate: 1.000e-03\n",
            "It: 18400, Loss: 3.915e+02, Y0: 5.110, Time: 31.71, Learning Rate: 1.000e-03\n",
            "It: 18500, Loss: 2.119e+02, Y0: 5.073, Time: 31.68, Learning Rate: 1.000e-03\n",
            "It: 18600, Loss: 2.743e+02, Y0: 5.133, Time: 31.62, Learning Rate: 1.000e-03\n",
            "It: 18700, Loss: 3.190e+02, Y0: 4.903, Time: 31.61, Learning Rate: 1.000e-03\n",
            "It: 18800, Loss: 4.008e+02, Y0: 4.781, Time: 31.63, Learning Rate: 1.000e-03\n",
            "It: 18900, Loss: 3.042e+02, Y0: 5.087, Time: 31.71, Learning Rate: 1.000e-03\n",
            "It: 19000, Loss: 2.456e+02, Y0: 5.391, Time: 31.60, Learning Rate: 1.000e-03\n",
            "It: 19100, Loss: 2.211e+02, Y0: 5.339, Time: 31.87, Learning Rate: 1.000e-03\n",
            "It: 19200, Loss: 3.213e+02, Y0: 5.076, Time: 31.52, Learning Rate: 1.000e-03\n",
            "It: 19300, Loss: 2.973e+02, Y0: 4.566, Time: 31.38, Learning Rate: 1.000e-03\n",
            "It: 19400, Loss: 2.343e+02, Y0: 4.756, Time: 31.56, Learning Rate: 1.000e-03\n",
            "It: 19500, Loss: 5.177e+02, Y0: 5.482, Time: 31.75, Learning Rate: 1.000e-03\n",
            "It: 19600, Loss: 2.885e+02, Y0: 4.811, Time: 31.66, Learning Rate: 1.000e-03\n",
            "It: 19700, Loss: 1.923e+02, Y0: 5.036, Time: 31.87, Learning Rate: 1.000e-03\n",
            "It: 19800, Loss: 2.470e+02, Y0: 4.977, Time: 31.52, Learning Rate: 1.000e-03\n",
            "It: 19900, Loss: 2.815e+02, Y0: 4.784, Time: 31.29, Learning Rate: 1.000e-03\n",
            "total time: 2150.511511325836 s\n"
          ]
        }
      ],
      "source": [
        "tot = time.time()\n",
        "print(model.device)\n",
        "graph = model.train(n_iter, lr)\n",
        "print(\"total time:\", time.time() - tot, \"s\")"
      ]
    },
    {
      "cell_type": "code",
      "execution_count": 30,
      "metadata": {},
      "outputs": [],
      "source": [
        "t_test, W_test = model.fetch_minibatch()\n",
        "X_pred, Y_pred = model.predict(Xi, t_test, W_test)\n",
        "\n",
        "if type(t_test).__module__ != 'numpy':\n",
        "    t_test = t_test.cpu().numpy()\n",
        "if type(X_pred).__module__ != 'numpy':\n",
        "    X_pred = X_pred.cpu().detach().numpy()\n",
        "if type(Y_pred).__module__ != 'numpy':\n",
        "    Y_pred = Y_pred.cpu().detach().numpy()\n",
        "\n",
        "for i in range(63):\n",
        "    t_test_i, W_test_i = model.fetch_minibatch()\n",
        "    X_pred_i, Y_pred_i = model.predict(Xi, t_test_i, W_test_i)\n",
        "    if type(X_pred_i).__module__ != 'numpy':\n",
        "        X_pred_i = X_pred_i.cpu().detach().numpy()\n",
        "    if type(Y_pred_i).__module__ != 'numpy':\n",
        "        Y_pred_i = Y_pred_i.cpu().detach().numpy()\n",
        "    X_pred = np.concatenate((X_pred, X_pred_i), axis=0)\n",
        "    Y_pred = np.concatenate((Y_pred, Y_pred_i), axis=0)\n"
      ]
    },
    {
      "cell_type": "code",
      "execution_count": 31,
      "metadata": {},
      "outputs": [
        {
          "data": {
            "image/png": "[encoded data removed]",
            "text/plain": [
              "<Figure size 640x480 with 1 Axes>"
            ]
          },
          "metadata": {},
          "output_type": "display_data"
        },
        {
          "data": {
            "image/png": "[encoded data removed]",
            "text/plain": [
              "<Figure size 640x480 with 1 Axes>"
            ]
          },
          "metadata": {},
          "output_type": "display_data"
        }
      ],
      "source": [
        "plt.figure()\n",
        "plt.plot(graph[0], graph[1])\n",
        "plt.xlabel('Iterations')\n",
        "plt.ylabel('Value')\n",
        "plt.yscale(\"log\")\n",
        "plt.title('Evolution of the training loss')\n",
        "samples = 64\n",
        "\n",
        "plt.figure()\n",
        "plt.plot(t_test[0:1, :, 0].T, Y_pred[0:1, :, 0].T, 'b', label='Learned $u(t,X_t)$')\n",
        "\n",
        "\n",
        "plt.plot(t_test[1:samples, :, 0].T, Y_pred[1:samples, :, 0].T, 'b')\n",
        "\n",
        "plt.xlabel('$t$')\n",
        "plt.ylabel('$Y_t = u(t,X_t)$')\n",
        "plt.title(str(D) + '-dimensional Black-Scholes-Barenblatt, ' + model.mode + \"-\" + model.activation)\n",
        "plt.legend()\n",
        "\n",
        "plt.show()"
      ]
    },
    {
      "cell_type": "code",
      "execution_count": 32,
      "metadata": {},
      "outputs": [],
      "source": [
        "Y_preds = Y_pred.reshape(4096, 101)"
      ]
    },
    {
      "cell_type": "code",
      "execution_count": 33,
      "metadata": {},
      "outputs": [
        {
          "data": {
            "text/plain": [
              "array([0.  , 0.01, 0.02, 0.03, 0.04, 0.05, 0.06, 0.07, 0.08, 0.09, 0.1 ,\n",
              "       0.11, 0.12, 0.13, 0.14, 0.15, 0.16, 0.17, 0.18, 0.19, 0.2 , 0.21,\n",
              "       0.22, 0.23, 0.24, 0.25, 0.26, 0.27, 0.28, 0.29, 0.3 , 0.31, 0.32,\n",
              "       0.33, 0.34, 0.35, 0.36, 0.37, 0.38, 0.39, 0.4 , 0.41, 0.42, 0.43,\n",
              "       0.44, 0.45, 0.46, 0.47, 0.48, 0.49, 0.5 , 0.51, 0.52, 0.53, 0.54,\n",
              "       0.55, 0.56, 0.57, 0.58, 0.59, 0.6 , 0.61, 0.62, 0.63, 0.64, 0.65,\n",
              "       0.66, 0.67, 0.68, 0.69, 0.7 , 0.71, 0.72, 0.73, 0.74, 0.75, 0.76,\n",
              "       0.77, 0.78, 0.79, 0.8 , 0.81, 0.82, 0.83, 0.84, 0.85, 0.86, 0.87,\n",
              "       0.88, 0.89, 0.9 , 0.91, 0.92, 0.93, 0.94, 0.95, 0.96, 0.97, 0.98,\n",
              "       0.99, 1.  ], dtype=float32)"
            ]
          },
          "execution_count": 33,
          "metadata": {},
          "output_type": "execute_result"
        }
      ],
      "source": [
        "time_stamps = t_test[0].reshape(101,)\n",
        "time_stamps"
      ]
    },
    {
      "cell_type": "code",
      "execution_count": 34,
      "metadata": {},
      "outputs": [],
      "source": [
        "r = 0.05"
      ]
    },
    {
      "cell_type": "code",
      "execution_count": 35,
      "metadata": {},
      "outputs": [
        {
          "data": {
            "text/plain": [
              "array([5.3279443, 5.324352 , 5.320406 , 5.3154593, 5.3097754, 5.303117 ,\n",
              "       5.2960496, 5.288522 , 5.2805805, 5.272582 , 5.2644515, 5.2565084,\n",
              "       5.24869  , 5.2410517, 5.2337446, 5.226869 , 5.2205734, 5.2151   ,\n",
              "       5.2105293, 5.2070594, 5.2047653, 5.203393 , 5.2032766, 5.2039537,\n",
              "       5.2061205, 5.209059 , 5.212713 , 5.2171903, 5.222244 , 5.2277656,\n",
              "       5.233535 , 5.2395496, 5.245713 , 5.251698 , 5.2571335, 5.262228 ,\n",
              "       5.266403 , 5.269835 , 5.2721467, 5.2733836, 5.273197 , 5.2721906,\n",
              "       5.2702518, 5.267954 , 5.264676 , 5.261028 , 5.257586 , 5.254006 ,\n",
              "       5.2506113, 5.24761  , 5.244664 , 5.242182 , 5.240417 , 5.2392483,\n",
              "       5.238834 , 5.238684 , 5.239229 , 5.240271 , 5.241605 , 5.24352  ,\n",
              "       5.2461753, 5.2486663, 5.251625 , 5.2551036, 5.258661 , 5.2623973,\n",
              "       5.266435 , 5.269987 , 5.273638 , 5.276302 , 5.278329 , 5.279329 ,\n",
              "       5.280601 , 5.2799363, 5.2785544, 5.2777967, 5.274826 , 5.2721906,\n",
              "       5.2705464, 5.270119 , 5.2719235, 5.2744527, 5.279768 , 5.285065 ,\n",
              "       5.2912927, 5.3004003, 5.3082075, 5.3125763, 5.314241 , 5.312781 ,\n",
              "       5.308637 , 5.3000507, 5.2788377, 5.2495236, 5.1983476, 5.126941 ,\n",
              "       5.019547 , 4.9226055, 4.8362637, 4.78913  , 4.750377 ],\n",
              "      dtype=float32)"
            ]
          },
          "execution_count": 35,
          "metadata": {},
          "output_type": "execute_result"
        }
      ],
      "source": [
        "epe = np.mean(np.exp(-r*time_stamps) * np.maximum(Y_preds,0),axis=0)    \n",
        "epe"
      ]
    },
    {
      "cell_type": "code",
      "execution_count": 36,
      "metadata": {},
      "outputs": [
        {
          "data": {
            "text/plain": [
              "array([ 0.0000000e+00,  0.0000000e+00,  0.0000000e+00,  0.0000000e+00,\n",
              "        0.0000000e+00,  0.0000000e+00,  0.0000000e+00,  0.0000000e+00,\n",
              "        0.0000000e+00,  0.0000000e+00,  0.0000000e+00,  0.0000000e+00,\n",
              "        0.0000000e+00,  0.0000000e+00,  0.0000000e+00,  0.0000000e+00,\n",
              "        0.0000000e+00,  0.0000000e+00,  0.0000000e+00,  0.0000000e+00,\n",
              "        0.0000000e+00,  0.0000000e+00,  0.0000000e+00,  0.0000000e+00,\n",
              "        0.0000000e+00,  0.0000000e+00,  0.0000000e+00,  0.0000000e+00,\n",
              "        0.0000000e+00,  0.0000000e+00,  0.0000000e+00,  0.0000000e+00,\n",
              "        0.0000000e+00,  0.0000000e+00,  0.0000000e+00,  0.0000000e+00,\n",
              "        0.0000000e+00,  0.0000000e+00,  0.0000000e+00,  0.0000000e+00,\n",
              "        0.0000000e+00,  0.0000000e+00,  0.0000000e+00,  0.0000000e+00,\n",
              "        0.0000000e+00,  0.0000000e+00,  0.0000000e+00,  0.0000000e+00,\n",
              "        0.0000000e+00,  0.0000000e+00,  0.0000000e+00,  0.0000000e+00,\n",
              "        0.0000000e+00,  0.0000000e+00,  0.0000000e+00,  0.0000000e+00,\n",
              "        0.0000000e+00,  0.0000000e+00,  0.0000000e+00,  0.0000000e+00,\n",
              "        0.0000000e+00,  0.0000000e+00,  0.0000000e+00,  0.0000000e+00,\n",
              "        0.0000000e+00,  0.0000000e+00,  0.0000000e+00,  0.0000000e+00,\n",
              "        0.0000000e+00,  0.0000000e+00,  0.0000000e+00,  0.0000000e+00,\n",
              "        0.0000000e+00,  0.0000000e+00,  0.0000000e+00,  0.0000000e+00,\n",
              "        0.0000000e+00,  0.0000000e+00,  0.0000000e+00,  0.0000000e+00,\n",
              "        0.0000000e+00,  0.0000000e+00,  0.0000000e+00,  0.0000000e+00,\n",
              "        0.0000000e+00,  0.0000000e+00,  0.0000000e+00,  0.0000000e+00,\n",
              "        0.0000000e+00,  0.0000000e+00,  0.0000000e+00,  0.0000000e+00,\n",
              "        0.0000000e+00,  0.0000000e+00,  0.0000000e+00,  0.0000000e+00,\n",
              "        0.0000000e+00,  0.0000000e+00, -2.6177006e-06, -2.3968029e-04,\n",
              "       -1.6129534e-03], dtype=float32)"
            ]
          },
          "execution_count": 36,
          "metadata": {},
          "output_type": "execute_result"
        }
      ],
      "source": [
        "ene = np.mean(np.exp(-r*time_stamps) * np.minimum(Y_preds,0),axis=0)    \n",
        "ene"
      ]
    },
    {
      "cell_type": "code",
      "execution_count": 37,
      "metadata": {},
      "outputs": [],
      "source": [
        "for i in range(63):\n",
        "    t_test_i, W_test_i = model.fetch_minibatch()\n",
        "    X_pred_i, Y_pred_i = model.predict(Xi, t_test_i, W_test_i)\n",
        "    if type(X_pred_i).__module__ != 'numpy':\n",
        "        X_pred_i = X_pred_i.cpu().detach().numpy()\n",
        "    if type(Y_pred_i).__module__ != 'numpy':\n",
        "        Y_pred_i = Y_pred_i.cpu().detach().numpy()\n",
        "    X_pred = np.concatenate((X_pred, X_pred_i), axis=0)"
      ]
    },
    {
      "cell_type": "code",
      "execution_count": 38,
      "metadata": {},
      "outputs": [
        {
          "data": {
            "text/plain": [
              "array([[[1.        , 1.        , 1.        , ..., 1.        ,\n",
              "         1.        , 1.        ],\n",
              "        [1.0543002 , 0.9790009 , 1.0209774 , ..., 1.0481902 ,\n",
              "         0.92734224, 1.0431652 ],\n",
              "        [1.0674576 , 1.0423086 , 0.95045984, ..., 0.9916607 ,\n",
              "         0.94036955, 0.90255976],\n",
              "        ...,\n",
              "        [0.9069162 , 3.66287   , 0.82502306, ..., 0.76926166,\n",
              "         1.0229023 , 1.2434546 ],\n",
              "        [0.8593582 , 3.8066895 , 0.8225436 , ..., 0.7380451 ,\n",
              "         0.9916425 , 1.3268063 ],\n",
              "        [0.8306717 , 3.8065367 , 0.76266706, ..., 0.74140185,\n",
              "         0.9353125 , 1.3022132 ]],\n",
              "\n",
              "       [[1.        , 1.        , 1.        , ..., 1.        ,\n",
              "         1.        , 1.        ],\n",
              "        [1.0889834 , 1.0041261 , 1.0010315 , ..., 0.9835782 ,\n",
              "         0.9178016 , 0.98442817],\n",
              "        [1.0927398 , 1.0165493 , 1.0323702 , ..., 0.9995665 ,\n",
              "         0.869371  , 0.94868094],\n",
              "        ...,\n",
              "        [1.3438761 , 0.9677715 , 1.131879  , ..., 1.2340451 ,\n",
              "         0.75197953, 1.3929651 ],\n",
              "        [1.2608443 , 0.9721407 , 1.1194842 , ..., 1.2309412 ,\n",
              "         0.70859   , 1.3247459 ],\n",
              "        [1.2953601 , 0.97377324, 1.1401142 , ..., 1.1868892 ,\n",
              "         0.6898886 , 1.3950456 ]],\n",
              "\n",
              "       [[1.        , 1.        , 1.        , ..., 1.        ,\n",
              "         1.        , 1.        ],\n",
              "        [1.0276823 , 0.99623203, 1.0508242 , ..., 1.0060582 ,\n",
              "         0.97323054, 1.0296013 ],\n",
              "        [1.05663   , 0.9784657 , 1.0610011 , ..., 0.99055123,\n",
              "         1.0021217 , 1.0108852 ],\n",
              "        ...,\n",
              "        [0.933434  , 1.7806243 , 0.6448788 , ..., 1.0444801 ,\n",
              "         1.4839886 , 1.3245684 ],\n",
              "        [0.9343715 , 1.6563606 , 0.6641032 , ..., 1.0579108 ,\n",
              "         1.4265748 , 1.3817103 ],\n",
              "        [0.9013978 , 1.574107  , 0.7003255 , ..., 1.1124114 ,\n",
              "         1.4240783 , 1.254998  ]],\n",
              "\n",
              "       ...,\n",
              "\n",
              "       [[1.        , 1.        , 1.        , ..., 1.        ,\n",
              "         1.        , 1.        ],\n",
              "        [1.0204339 , 0.9504094 , 1.0191493 , ..., 1.0077643 ,\n",
              "         1.0624186 , 0.9635829 ],\n",
              "        [1.0400652 , 0.9235079 , 1.0056986 , ..., 1.0562986 ,\n",
              "         1.1313294 , 0.944987  ],\n",
              "        ...,\n",
              "        [1.1299613 , 1.1768523 , 0.54066324, ..., 1.0413394 ,\n",
              "         0.5854329 , 0.71363884],\n",
              "        [1.1353835 , 1.1814308 , 0.55918366, ..., 1.019745  ,\n",
              "         0.57818335, 0.7107181 ],\n",
              "        [1.1454552 , 1.1808087 , 0.5747943 , ..., 1.0714287 ,\n",
              "         0.5999435 , 0.73129106]],\n",
              "\n",
              "       [[1.        , 1.        , 1.        , ..., 1.        ,\n",
              "         1.        , 1.        ],\n",
              "        [1.0478542 , 0.9762422 , 1.0498253 , ..., 0.99555045,\n",
              "         0.9285865 , 1.0202755 ],\n",
              "        [1.0899221 , 0.94767356, 1.0736029 , ..., 1.0621446 ,\n",
              "         0.9642146 , 1.0416782 ],\n",
              "        ...,\n",
              "        [1.2236811 , 1.2465905 , 0.9711939 , ..., 1.0396296 ,\n",
              "         1.4241277 , 0.8334921 ],\n",
              "        [1.2147223 , 1.3063695 , 0.96375775, ..., 1.0263821 ,\n",
              "         1.3988948 , 0.8470613 ],\n",
              "        [1.2324086 , 1.3268437 , 0.89459354, ..., 1.0156024 ,\n",
              "         1.3963183 , 0.857942  ]],\n",
              "\n",
              "       [[1.        , 1.        , 1.        , ..., 1.        ,\n",
              "         1.        , 1.        ],\n",
              "        [0.9671992 , 0.9740379 , 0.9799039 , ..., 1.0246986 ,\n",
              "         0.98068756, 1.045322  ],\n",
              "        [0.9510535 , 0.95691437, 0.9008811 , ..., 1.0772597 ,\n",
              "         0.97122806, 0.9887103 ],\n",
              "        ...,\n",
              "        [1.3285545 , 1.2547346 , 1.1910334 , ..., 0.8009545 ,\n",
              "         1.8910124 , 0.78231734],\n",
              "        [1.359795  , 1.3198078 , 1.2445585 , ..., 0.7947029 ,\n",
              "         2.1159751 , 0.7928927 ],\n",
              "        [1.3148273 , 1.278104  , 1.150234  , ..., 0.76320875,\n",
              "         2.2414718 , 0.8264902 ]]], dtype=float32)"
            ]
          },
          "execution_count": 38,
          "metadata": {},
          "output_type": "execute_result"
        }
      ],
      "source": [
        "X_pred"
      ]
    },
    {
      "cell_type": "code",
      "execution_count": 39,
      "metadata": {},
      "outputs": [
        {
          "data": {
            "text/plain": [
              "array([[[100.      ],\n",
              "        [100.22372 ],\n",
              "        [100.30918 ],\n",
              "        ...,\n",
              "        [106.78387 ],\n",
              "        [107.10793 ],\n",
              "        [107.72917 ]],\n",
              "\n",
              "       [[100.      ],\n",
              "        [100.029594],\n",
              "        [ 99.96498 ],\n",
              "        ...,\n",
              "        [102.04117 ],\n",
              "        [102.57479 ],\n",
              "        [102.72758 ]],\n",
              "\n",
              "       [[100.      ],\n",
              "        [100.33068 ],\n",
              "        [101.51429 ],\n",
              "        ...,\n",
              "        [102.94333 ],\n",
              "        [102.516525],\n",
              "        [103.430176]],\n",
              "\n",
              "       ...,\n",
              "\n",
              "       [[100.      ],\n",
              "        [100.46227 ],\n",
              "        [100.78126 ],\n",
              "        ...,\n",
              "        [107.37579 ],\n",
              "        [107.22235 ],\n",
              "        [106.462715]],\n",
              "\n",
              "       [[100.      ],\n",
              "        [100.33129 ],\n",
              "        [100.73069 ],\n",
              "        ...,\n",
              "        [101.74862 ],\n",
              "        [102.21602 ],\n",
              "        [102.40911 ]],\n",
              "\n",
              "       [[100.      ],\n",
              "        [100.664474],\n",
              "        [100.47702 ],\n",
              "        ...,\n",
              "        [104.17319 ],\n",
              "        [105.15837 ],\n",
              "        [105.37824 ]]], dtype=float32)"
            ]
          },
          "execution_count": 39,
          "metadata": {},
          "output_type": "execute_result"
        }
      ],
      "source": [
        "portfolio = np.sum(X_pred, axis=2, keepdims=True)\n",
        "portfolio"
      ]
    },
    {
      "cell_type": "code",
      "execution_count": 40,
      "metadata": {},
      "outputs": [
        {
          "data": {
            "text/plain": [
              "array([[[0.        ],\n",
              "        [0.22371674],\n",
              "        [0.3091812 ],\n",
              "        ...,\n",
              "        [6.783867  ],\n",
              "        [7.107933  ],\n",
              "        [7.7291718 ]],\n",
              "\n",
              "       [[0.        ],\n",
              "        [0.02959442],\n",
              "        [0.        ],\n",
              "        ...,\n",
              "        [2.0411682 ],\n",
              "        [2.574791  ],\n",
              "        [2.7275772 ]],\n",
              "\n",
              "       [[0.        ],\n",
              "        [0.33068085],\n",
              "        [1.5142899 ],\n",
              "        ...,\n",
              "        [2.9433289 ],\n",
              "        [2.5165253 ],\n",
              "        [3.4301758 ]],\n",
              "\n",
              "       ...,\n",
              "\n",
              "       [[0.        ],\n",
              "        [0.46227264],\n",
              "        [0.7812576 ],\n",
              "        ...,\n",
              "        [7.3757935 ],\n",
              "        [7.222351  ],\n",
              "        [6.462715  ]],\n",
              "\n",
              "       [[0.        ],\n",
              "        [0.3312912 ],\n",
              "        [0.73069   ],\n",
              "        ...,\n",
              "        [1.7486191 ],\n",
              "        [2.2160187 ],\n",
              "        [2.409111  ]],\n",
              "\n",
              "       [[0.        ],\n",
              "        [0.6644745 ],\n",
              "        [0.47702026],\n",
              "        ...,\n",
              "        [4.1731873 ],\n",
              "        [5.158371  ],\n",
              "        [5.3782425 ]]], dtype=float32)"
            ]
          },
          "execution_count": 40,
          "metadata": {},
          "output_type": "execute_result"
        }
      ],
      "source": [
        "payoff = np.maximum(portfolio - 1 * 100, 0)\n",
        "payoff"
      ]
    },
    {
      "cell_type": "code",
      "execution_count": 41,
      "metadata": {},
      "outputs": [
        {
          "data": {
            "text/plain": [
              "array([[[0.        ],\n",
              "        [0.18689479],\n",
              "        [0.2841876 ],\n",
              "        [0.359845  ],\n",
              "        [0.43081826],\n",
              "        [0.49643493],\n",
              "        [0.55399954],\n",
              "        [0.6119225 ],\n",
              "        [0.6723806 ],\n",
              "        [0.72924334],\n",
              "        [0.7919332 ],\n",
              "        [0.8494463 ],\n",
              "        [0.9043384 ],\n",
              "        [0.96683574],\n",
              "        [1.0158173 ],\n",
              "        [1.06961   ],\n",
              "        [1.1199749 ],\n",
              "        [1.1677455 ],\n",
              "        [1.2245218 ],\n",
              "        [1.2865695 ],\n",
              "        [1.3357058 ],\n",
              "        [1.3893656 ],\n",
              "        [1.4431819 ],\n",
              "        [1.4913487 ],\n",
              "        [1.545927  ],\n",
              "        [1.5965177 ],\n",
              "        [1.6497147 ],\n",
              "        [1.701408  ],\n",
              "        [1.7534008 ],\n",
              "        [1.8073617 ],\n",
              "        [1.8613155 ],\n",
              "        [1.9021957 ],\n",
              "        [1.9495217 ],\n",
              "        [2.0026581 ],\n",
              "        [2.0570276 ],\n",
              "        [2.1016576 ],\n",
              "        [2.1533275 ],\n",
              "        [2.1961203 ],\n",
              "        [2.2527535 ],\n",
              "        [2.3025036 ],\n",
              "        [2.347888  ],\n",
              "        [2.399008  ],\n",
              "        [2.4393053 ],\n",
              "        [2.4938576 ],\n",
              "        [2.5347579 ],\n",
              "        [2.5829263 ],\n",
              "        [2.6418266 ],\n",
              "        [2.6947222 ],\n",
              "        [2.7431266 ],\n",
              "        [2.795584  ],\n",
              "        [2.845029  ],\n",
              "        [2.8962045 ],\n",
              "        [2.9419224 ],\n",
              "        [2.9913318 ],\n",
              "        [3.0370724 ],\n",
              "        [3.0902042 ],\n",
              "        [3.134697  ],\n",
              "        [3.1872022 ],\n",
              "        [3.2361884 ],\n",
              "        [3.2843919 ],\n",
              "        [3.332738  ],\n",
              "        [3.3855758 ],\n",
              "        [3.4326305 ],\n",
              "        [3.485404  ],\n",
              "        [3.538412  ],\n",
              "        [3.5841496 ],\n",
              "        [3.6405373 ],\n",
              "        [3.6936722 ],\n",
              "        [3.7479017 ],\n",
              "        [3.7970495 ],\n",
              "        [3.83612   ],\n",
              "        [3.8772602 ],\n",
              "        [3.9364085 ],\n",
              "        [3.9851341 ],\n",
              "        [4.0349617 ],\n",
              "        [4.089409  ],\n",
              "        [4.139081  ],\n",
              "        [4.188543  ],\n",
              "        [4.235691  ],\n",
              "        [4.2791758 ],\n",
              "        [4.3249636 ],\n",
              "        [4.375046  ],\n",
              "        [4.4308763 ],\n",
              "        [4.4818945 ],\n",
              "        [4.5315623 ],\n",
              "        [4.5884514 ],\n",
              "        [4.640064  ],\n",
              "        [4.690301  ],\n",
              "        [4.7318234 ],\n",
              "        [4.774838  ],\n",
              "        [4.8194046 ],\n",
              "        [4.874611  ],\n",
              "        [4.914141  ],\n",
              "        [4.965497  ],\n",
              "        [5.013402  ],\n",
              "        [5.0624833 ],\n",
              "        [5.112092  ],\n",
              "        [5.168784  ],\n",
              "        [5.215992  ],\n",
              "        [5.270041  ],\n",
              "        [5.319758  ]]], dtype=float32)"
            ]
          },
          "execution_count": 41,
          "metadata": {},
          "output_type": "execute_result"
        }
      ],
      "source": [
        "average = np.mean(payoff, axis=0, keepdims=True)\n",
        "average"
      ]
    },
    {
      "cell_type": "code",
      "execution_count": 42,
      "metadata": {},
      "outputs": [
        {
          "data": {
            "text/plain": [
              "(1, 101, 1)"
            ]
          },
          "execution_count": 42,
          "metadata": {},
          "output_type": "execute_result"
        }
      ],
      "source": [
        "average.shape"
      ]
    },
    {
      "cell_type": "code",
      "execution_count": 43,
      "metadata": {},
      "outputs": [
        {
          "data": {
            "text/plain": [
              "5.0603104"
            ]
          },
          "execution_count": 43,
          "metadata": {},
          "output_type": "execute_result"
        }
      ],
      "source": [
        "mc_price = np.exp(-r * 1) * average[:, -1,: ]\n",
        "mc_price[0][0]"
      ]
    },
    {
      "cell_type": "code",
      "execution_count": 44,
      "metadata": {},
      "outputs": [],
      "source": [
        "epe_exact = np.array([mc_price[0][0] for s in time_stamps[1:]])\n",
        "ene_exact = np.array([0.0 for s in time_stamps[1:]])"
      ]
    },
    {
      "cell_type": "code",
      "execution_count": 47,
      "metadata": {},
      "outputs": [
        {
          "data": {
            "image/png": "[encoded data removed]",
            "text/plain": [
              "<Figure size 640x480 with 1 Axes>"
            ]
          },
          "metadata": {},
          "output_type": "display_data"
        }
      ],
      "source": [
        "fig = plt.figure()\n",
        "plt.plot(time_stamps,np.transpose(epe),'b',label='Solved Discounted Expected Positive Exposure' )\n",
        "plt.plot(time_stamps,[mc_price[0][0]] + list(epe_exact),'r--',label='Exact Discounted Expected Positive Exposure')\n",
        "plt.plot(time_stamps,np.transpose(ene),'r',label='Solved Discounted Expected Negative Exposure')\n",
        "plt.plot(time_stamps,[0.0]+list(ene_exact),'b--',label='Exact Discounted Expected Negative Exposure')\n",
        "\n",
        "plt.xlabel('t')\n",
        "plt.legend()\n",
        "\n",
        "plt.show()"
      ]
    },
    {
      "cell_type": "code",
      "execution_count": 46,
      "metadata": {},
      "outputs": [],
      "source": [
        "model.save_model(\"models/100DCallOption.pth\")"
      ]
    }
  ],
  "metadata": {
    "accelerator": "GPU",
    "colab": {
      "gpuType": "V100",
      "machine_shape": "hm",
      "provenance": []
    },
    "kernelspec": {
      "display_name": "Python 3",
      "name": "python3"
    },
    "language_info": {
      "codemirror_mode": {
        "name": "ipython",
        "version": 3
      },
      "file_extension": ".py",
      "mimetype": "text/x-python",
      "name": "python",
      "nbconvert_exporter": "python",
      "pygments_lexer": "ipython3",
      "version": "3.10.12"
    },
    "orig_nbformat": 4,
    "vscode": {
      "interpreter": {
        "hash": "db8df854c49da63d7a9a70fc04e89db6090f48201a05c37ee636be674f92602b"
      }
    }
  },
  "nbformat": 4,
  "nbformat_minor": 0
}
