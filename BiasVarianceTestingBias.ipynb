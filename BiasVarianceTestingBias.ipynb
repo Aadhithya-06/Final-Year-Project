{
 "cells": [
  {
   "cell_type": "code",
   "execution_count": 1,
   "metadata": {},
   "outputs": [],
   "source": [
    "import sys\n",
    "import os\n",
    "sys.path.append(os.path.abspath(\"Pytorch/\"))\n",
    "sys.path.append(os.path.abspath(\"models/\"))"
   ]
  },
  {
   "cell_type": "code",
   "execution_count": 2,
   "metadata": {},
   "outputs": [],
   "source": [
    "from FBSNNs import *\n",
    "from BlackScholesBarenblatt100D import *"
   ]
  },
  {
   "cell_type": "code",
   "execution_count": 3,
   "metadata": {},
   "outputs": [],
   "source": [
    "f_bar = np.loadtxt(\"f_bar.csv\", delimiter=\",\")\n",
    "Y_bar = np.loadtxt(\"Y_bar.csv\", delimiter=\",\")"
   ]
  },
  {
   "cell_type": "code",
   "execution_count": 4,
   "metadata": {},
   "outputs": [
    {
     "data": {
      "text/plain": [
       "array([76.85566597, 76.79921722, 76.72099457, 76.67081528, 76.61219635,\n",
       "       76.54771881, 76.48649559, 76.42395325, 76.34550934, 76.27450104,\n",
       "       76.21020088, 76.12294235, 76.03874359, 75.96946068, 75.88994865,\n",
       "       75.80505524, 75.72767143, 75.65523186, 75.59217072, 75.52199821,\n",
       "       75.46158829, 75.38463326, 75.31829681, 75.23157043, 75.15913162,\n",
       "       75.08171501, 75.01778488, 74.94503136, 74.85663757, 74.78078537,\n",
       "       74.70158348, 74.65962067, 74.57217979, 74.51051102, 74.42302017,\n",
       "       74.37076454, 74.29325829, 74.22374039, 74.14215431, 74.05516167,\n",
       "       73.98582077, 73.89376564, 73.826931  , 73.76154594, 73.66600227,\n",
       "       73.60206032, 73.53094978, 73.45954475, 73.39711342, 73.33798714,\n",
       "       73.28809929])"
      ]
     },
     "execution_count": 4,
     "metadata": {},
     "output_type": "execute_result"
    }
   ],
   "source": [
    "f_bar"
   ]
  },
  {
   "cell_type": "code",
   "execution_count": 5,
   "metadata": {},
   "outputs": [
    {
     "data": {
      "text/plain": [
       "array([77.10804749, 77.03768921, 76.9475174 , 76.88769531, 76.8192215 ,\n",
       "       76.7458725 , 76.67635345, 76.60754395, 76.52224731, 76.44460297,\n",
       "       76.37459564, 76.28005219, 76.19004822, 76.11679077, 76.03327179,\n",
       "       75.94394684, 75.8616333 , 75.78591919, 75.71842957, 75.64513397,\n",
       "       75.5825119 , 75.50343323, 75.43473816, 75.3454895 , 75.27038574,\n",
       "       75.18962097, 75.12445068, 75.04785919, 74.95802307, 74.87927246,\n",
       "       74.79845428, 74.75627136, 74.66599274, 74.60150909, 74.51072693,\n",
       "       74.45528412, 74.37404633, 74.30075073, 74.21530914, 74.12260437,\n",
       "       74.04946136, 73.95179749, 73.88095093, 73.81017303, 73.7080307 ,\n",
       "       73.63790131, 73.56020355, 73.48159027, 73.412323  , 73.34554291,\n",
       "       73.28800964])"
      ]
     },
     "execution_count": 5,
     "metadata": {},
     "output_type": "execute_result"
    }
   ],
   "source": [
    "Y_bar"
   ]
  },
  {
   "cell_type": "markdown",
   "metadata": {},
   "source": [
    "1) 1 Layer 256"
   ]
  },
  {
   "cell_type": "code",
   "execution_count": 6,
   "metadata": {},
   "outputs": [],
   "source": [
    "import numpy as np\n",
    "import torch\n",
    "import matplotlib.pyplot as plt\n",
    "import time\n",
    "\n",
    "M = 10000  # number of trajectories (batch size)\n",
    "N = 50  # number of time snapshots\n",
    "D = 100 # number of dimensions\n",
    "Mm = N ** (1/5)\n",
    "\n",
    "layers = [D + 1] + 1 * [256] + [1]\n",
    "\n",
    "Xi = np.array([1.0, 0.5] * int(D / 2))[None, :]\n",
    "T = 1.0\n",
    "\n",
    "\"Available architectures\"\n",
    "mode = \"Naisnet\"  # FC and Naisnet are available\n",
    "activation = \"Sine\"  # Sine, ReLU and Tanh are available\n",
    "model = BlackScholesBarenblatt(Xi, T, M, N, D, Mm, layers, mode, activation)\n",
    "\n",
    "n_iter = 2 * 10**4\n",
    "lr = 1e-3"
   ]
  },
  {
   "cell_type": "code",
   "execution_count": 7,
   "metadata": {},
   "outputs": [],
   "source": [
    "model.load_model(\"models/BlackScholesBarenblattMLMC100D1Layer256.pth\")"
   ]
  },
  {
   "cell_type": "code",
   "execution_count": 8,
   "metadata": {},
   "outputs": [],
   "source": [
    "np.random.seed(37)\n",
    "t_test, W_test = model.fetch_minibatch()\n",
    "X_pred, Y_pred = model.predict(Xi, t_test, W_test)\n",
    "samples = 10\n",
    "\n",
    "if type(t_test).__module__ != 'numpy':\n",
    "    t_test = t_test.cpu().numpy()\n",
    "if type(X_pred).__module__ != 'numpy':\n",
    "    X_pred = X_pred.cpu().detach().numpy()\n",
    "if type(Y_pred).__module__ != 'numpy':\n",
    "    Y_pred = Y_pred.cpu().detach().numpy()"
   ]
  },
  {
   "cell_type": "code",
   "execution_count": 9,
   "metadata": {},
   "outputs": [],
   "source": [
    "Y_hat = np.mean(Y_pred, axis=0)"
   ]
  },
  {
   "cell_type": "code",
   "execution_count": 10,
   "metadata": {},
   "outputs": [
    {
     "data": {
      "text/plain": [
       "(51, 1)"
      ]
     },
     "execution_count": 10,
     "metadata": {},
     "output_type": "execute_result"
    }
   ],
   "source": [
    "Y_hat.shape"
   ]
  },
  {
   "cell_type": "code",
   "execution_count": 11,
   "metadata": {},
   "outputs": [],
   "source": [
    "Y_hat = Y_hat.reshape(51,)"
   ]
  },
  {
   "cell_type": "code",
   "execution_count": 12,
   "metadata": {},
   "outputs": [],
   "source": [
    "bias_squared = np.mean((Y_hat - Y_bar)**2) "
   ]
  },
  {
   "cell_type": "code",
   "execution_count": 13,
   "metadata": {},
   "outputs": [
    {
     "data": {
      "text/plain": [
       "0.5598046999817312"
      ]
     },
     "execution_count": 13,
     "metadata": {},
     "output_type": "execute_result"
    }
   ],
   "source": [
    "bias_squared"
   ]
  },
  {
   "cell_type": "markdown",
   "metadata": {},
   "source": [
    "2) 2 Layer 256 M = 100"
   ]
  },
  {
   "cell_type": "code",
   "execution_count": 14,
   "metadata": {},
   "outputs": [],
   "source": [
    "import numpy as np\n",
    "import torch\n",
    "import matplotlib.pyplot as plt\n",
    "import time\n",
    "\n",
    "M = 10000  # number of trajectories (batch size)\n",
    "N = 50  # number of time snapshots\n",
    "D = 100 # number of dimensions\n",
    "Mm = N ** (1/5)\n",
    "\n",
    "layers = [D + 1] + 2 * [256] + [1]\n",
    "\n",
    "Xi = np.array([1.0, 0.5] * int(D / 2))[None, :]\n",
    "T = 1.0\n",
    "\n",
    "\"Available architectures\"\n",
    "mode = \"Naisnet\"  # FC and Naisnet are available\n",
    "activation = \"Sine\"  # Sine, ReLU and Tanh are available\n",
    "model = BlackScholesBarenblatt(Xi, T, M, N, D, Mm, layers, mode, activation)\n",
    "\n",
    "n_iter = 2 * 10**4\n",
    "lr = 1e-3"
   ]
  },
  {
   "cell_type": "code",
   "execution_count": 15,
   "metadata": {},
   "outputs": [],
   "source": [
    "model.load_model(\"models/BlackScholesBarenblattMLMC100D2Layer256.pth\")"
   ]
  },
  {
   "cell_type": "code",
   "execution_count": 16,
   "metadata": {},
   "outputs": [],
   "source": [
    "np.random.seed(37)\n",
    "t_test, W_test = model.fetch_minibatch()\n",
    "X_pred, Y_pred = model.predict(Xi, t_test, W_test)\n",
    "samples = 10\n",
    "\n",
    "if type(t_test).__module__ != 'numpy':\n",
    "    t_test = t_test.cpu().numpy()\n",
    "if type(X_pred).__module__ != 'numpy':\n",
    "    X_pred = X_pred.cpu().detach().numpy()\n",
    "if type(Y_pred).__module__ != 'numpy':\n",
    "    Y_pred = Y_pred.cpu().detach().numpy()\n",
    "\n",
    "Y_test = np.reshape(u_exact(T,np.reshape(t_test[0:M, :, :], [-1, 1]), np.reshape(X_pred[0:M, :, :], [-1, D])),\n",
    "                    [M, -1, 1])"
   ]
  },
  {
   "cell_type": "code",
   "execution_count": 17,
   "metadata": {},
   "outputs": [],
   "source": [
    "Y_hat = np.mean(Y_pred, axis=0)"
   ]
  },
  {
   "cell_type": "code",
   "execution_count": 18,
   "metadata": {},
   "outputs": [],
   "source": [
    "Y_hat = Y_hat.reshape(51,)"
   ]
  },
  {
   "cell_type": "code",
   "execution_count": 19,
   "metadata": {},
   "outputs": [],
   "source": [
    "bias_squared = np.mean((Y_hat - Y_bar)**2)"
   ]
  },
  {
   "cell_type": "code",
   "execution_count": 20,
   "metadata": {},
   "outputs": [
    {
     "data": {
      "text/plain": [
       "0.007876561397650078"
      ]
     },
     "execution_count": 20,
     "metadata": {},
     "output_type": "execute_result"
    }
   ],
   "source": [
    "bias_squared"
   ]
  },
  {
   "cell_type": "markdown",
   "metadata": {},
   "source": [
    "3) 3 Layer 256 M = 100"
   ]
  },
  {
   "cell_type": "code",
   "execution_count": 21,
   "metadata": {},
   "outputs": [],
   "source": [
    "import numpy as np\n",
    "import torch\n",
    "import matplotlib.pyplot as plt\n",
    "import time\n",
    "\n",
    "M = 500  # number of trajectories (batch size)\n",
    "N = 50  # number of time snapshots\n",
    "D = 100 # number of dimensions\n",
    "Mm = N ** (1/5)\n",
    "\n",
    "layers = [D + 1] + 3 * [256] + [1]\n",
    "\n",
    "Xi = np.array([1.0, 0.5] * int(D / 2))[None, :]\n",
    "T = 1.0\n",
    "\n",
    "\"Available architectures\"\n",
    "mode = \"Naisnet\"  # FC and Naisnet are available\n",
    "activation = \"Sine\"  # Sine, ReLU and Tanh are available\n",
    "model = BlackScholesBarenblatt(Xi, T, M, N, D, Mm, layers, mode, activation)\n",
    "\n",
    "n_iter = 2 * 10**4\n",
    "lr = 1e-3"
   ]
  },
  {
   "cell_type": "code",
   "execution_count": 22,
   "metadata": {},
   "outputs": [],
   "source": [
    "model.load_model(\"models/BlackScholesBarenblattMLMC100D3Layer256.pth\")"
   ]
  },
  {
   "cell_type": "code",
   "execution_count": 23,
   "metadata": {},
   "outputs": [],
   "source": [
    "np.random.seed(37)\n",
    "t_test, W_test = model.fetch_minibatch()\n",
    "X_pred, Y_pred = model.predict(Xi, t_test, W_test)\n",
    "\n",
    "if type(t_test).__module__ != 'numpy':\n",
    "    t_test = t_test.cpu().numpy()\n",
    "if type(X_pred).__module__ != 'numpy':\n",
    "    X_pred = X_pred.cpu().detach().numpy()\n",
    "if type(Y_pred).__module__ != 'numpy':\n",
    "    Y_pred = Y_pred.cpu().detach().numpy()\n",
    "\n",
    "for i in range(19):\n",
    "    t_test_i, W_test_i = model.fetch_minibatch()\n",
    "    X_pred_i, Y_pred_i = model.predict(Xi, t_test_i, W_test_i)\n",
    "    if type(X_pred_i).__module__ != 'numpy':\n",
    "        X_pred_i = X_pred_i.cpu().detach().numpy()\n",
    "    if type(Y_pred_i).__module__ != 'numpy':\n",
    "        Y_pred_i = Y_pred_i.cpu().detach().numpy()\n",
    "    X_pred = np.concatenate((X_pred, X_pred_i), axis=0)\n",
    "    Y_pred = np.concatenate((Y_pred, Y_pred_i), axis=0)"
   ]
  },
  {
   "cell_type": "code",
   "execution_count": 24,
   "metadata": {},
   "outputs": [],
   "source": [
    "Y_hat = np.mean(Y_pred, axis=0)"
   ]
  },
  {
   "cell_type": "code",
   "execution_count": 25,
   "metadata": {},
   "outputs": [],
   "source": [
    "Y_hat = Y_hat.reshape(51,)"
   ]
  },
  {
   "cell_type": "code",
   "execution_count": 26,
   "metadata": {},
   "outputs": [],
   "source": [
    "bias_squared = np.mean((Y_hat - Y_bar)**2)"
   ]
  },
  {
   "cell_type": "code",
   "execution_count": 27,
   "metadata": {},
   "outputs": [
    {
     "data": {
      "text/plain": [
       "0.002883269013289143"
      ]
     },
     "execution_count": 27,
     "metadata": {},
     "output_type": "execute_result"
    }
   ],
   "source": [
    "bias_squared"
   ]
  },
  {
   "cell_type": "markdown",
   "metadata": {},
   "source": [
    "4) 2 Layer 100 M = 100"
   ]
  },
  {
   "cell_type": "code",
   "execution_count": 28,
   "metadata": {},
   "outputs": [],
   "source": [
    "import numpy as np\n",
    "import torch\n",
    "import matplotlib.pyplot as plt\n",
    "import time\n",
    "\n",
    "M = 500  # number of trajectories (batch size)\n",
    "N = 50  # number of time snapshots\n",
    "D = 100 # number of dimensions\n",
    "Mm = N ** (1/5)\n",
    "\n",
    "layers = [D + 1] + 2 * [100] + [1]\n",
    "\n",
    "Xi = np.array([1.0, 0.5] * int(D / 2))[None, :]\n",
    "T = 1.0\n",
    "\n",
    "\"Available architectures\"\n",
    "mode = \"Naisnet\"  # FC and Naisnet are available\n",
    "activation = \"Sine\"  # Sine, ReLU and Tanh are available\n",
    "model = BlackScholesBarenblatt(Xi, T, M, N, D, Mm, layers, mode, activation)\n",
    "\n",
    "n_iter = 2 * 10**4\n",
    "lr = 1e-3"
   ]
  },
  {
   "cell_type": "code",
   "execution_count": 29,
   "metadata": {},
   "outputs": [],
   "source": [
    "model.load_model(\"models/BlackScholesBarenblattMLMC100D2Layer100.pth\")"
   ]
  },
  {
   "cell_type": "code",
   "execution_count": 30,
   "metadata": {},
   "outputs": [],
   "source": [
    "np.random.seed(37)\n",
    "t_test, W_test = model.fetch_minibatch()\n",
    "X_pred, Y_pred = model.predict(Xi, t_test, W_test)\n",
    "\n",
    "if type(t_test).__module__ != 'numpy':\n",
    "    t_test = t_test.cpu().numpy()\n",
    "if type(X_pred).__module__ != 'numpy':\n",
    "    X_pred = X_pred.cpu().detach().numpy()\n",
    "if type(Y_pred).__module__ != 'numpy':\n",
    "    Y_pred = Y_pred.cpu().detach().numpy()\n",
    "\n",
    "for i in range(19):\n",
    "    t_test_i, W_test_i = model.fetch_minibatch()\n",
    "    X_pred_i, Y_pred_i = model.predict(Xi, t_test_i, W_test_i)\n",
    "    if type(X_pred_i).__module__ != 'numpy':\n",
    "        X_pred_i = X_pred_i.cpu().detach().numpy()\n",
    "    if type(Y_pred_i).__module__ != 'numpy':\n",
    "        Y_pred_i = Y_pred_i.cpu().detach().numpy()\n",
    "    X_pred = np.concatenate((X_pred, X_pred_i), axis=0)\n",
    "    Y_pred = np.concatenate((Y_pred, Y_pred_i), axis=0)"
   ]
  },
  {
   "cell_type": "code",
   "execution_count": 31,
   "metadata": {},
   "outputs": [],
   "source": [
    "Y_hat = np.mean(Y_pred, axis=0)"
   ]
  },
  {
   "cell_type": "code",
   "execution_count": 34,
   "metadata": {},
   "outputs": [],
   "source": [
    "Y_hat = Y_hat.reshape(51,)"
   ]
  },
  {
   "cell_type": "code",
   "execution_count": 35,
   "metadata": {},
   "outputs": [],
   "source": [
    "bias_squared = np.mean((Y_hat - Y_bar)**2)"
   ]
  },
  {
   "cell_type": "code",
   "execution_count": 36,
   "metadata": {},
   "outputs": [
    {
     "data": {
      "text/plain": [
       "0.005000825611847069"
      ]
     },
     "execution_count": 36,
     "metadata": {},
     "output_type": "execute_result"
    }
   ],
   "source": [
    "bias_squared"
   ]
  },
  {
   "cell_type": "markdown",
   "metadata": {},
   "source": [
    "5) 2 Layer 64 M = 100"
   ]
  },
  {
   "cell_type": "code",
   "execution_count": 37,
   "metadata": {},
   "outputs": [],
   "source": [
    "import numpy as np\n",
    "import torch\n",
    "import matplotlib.pyplot as plt\n",
    "import time\n",
    "\n",
    "M = 500  # number of trajectories (batch size)\n",
    "N = 50  # number of time snapshots\n",
    "D = 100 # number of dimensions\n",
    "Mm = N ** (1/5)\n",
    "\n",
    "layers = [D + 1] + 2 * [64] + [1]\n",
    "\n",
    "Xi = np.array([1.0, 0.5] * int(D / 2))[None, :]\n",
    "T = 1.0\n",
    "\n",
    "\"Available architectures\"\n",
    "mode = \"Naisnet\"  # FC and Naisnet are available\n",
    "activation = \"Sine\"  # Sine, ReLU and Tanh are available\n",
    "model = BlackScholesBarenblatt(Xi, T, M, N, D, Mm, layers, mode, activation)\n",
    "\n",
    "n_iter = 2 * 10**4\n",
    "lr = 1e-3"
   ]
  },
  {
   "cell_type": "code",
   "execution_count": 38,
   "metadata": {},
   "outputs": [],
   "source": [
    "model.load_model(\"models/BlackScholesBarenblattMLMC100D2Layer64.pth\")"
   ]
  },
  {
   "cell_type": "code",
   "execution_count": 39,
   "metadata": {},
   "outputs": [],
   "source": [
    "np.random.seed(37)\n",
    "t_test, W_test = model.fetch_minibatch()\n",
    "X_pred, Y_pred = model.predict(Xi, t_test, W_test)\n",
    "\n",
    "if type(t_test).__module__ != 'numpy':\n",
    "    t_test = t_test.cpu().numpy()\n",
    "if type(X_pred).__module__ != 'numpy':\n",
    "    X_pred = X_pred.cpu().detach().numpy()\n",
    "if type(Y_pred).__module__ != 'numpy':\n",
    "    Y_pred = Y_pred.cpu().detach().numpy()\n",
    "\n",
    "for i in range(19):\n",
    "    t_test_i, W_test_i = model.fetch_minibatch()\n",
    "    X_pred_i, Y_pred_i = model.predict(Xi, t_test_i, W_test_i)\n",
    "    if type(X_pred_i).__module__ != 'numpy':\n",
    "        X_pred_i = X_pred_i.cpu().detach().numpy()\n",
    "    if type(Y_pred_i).__module__ != 'numpy':\n",
    "        Y_pred_i = Y_pred_i.cpu().detach().numpy()\n",
    "    X_pred = np.concatenate((X_pred, X_pred_i), axis=0)\n",
    "    Y_pred = np.concatenate((Y_pred, Y_pred_i), axis=0)"
   ]
  },
  {
   "cell_type": "code",
   "execution_count": 40,
   "metadata": {},
   "outputs": [],
   "source": [
    "Y_hat = Y_pred.mean(axis=0)"
   ]
  },
  {
   "cell_type": "code",
   "execution_count": 41,
   "metadata": {},
   "outputs": [],
   "source": [
    "Y_hat = Y_hat.reshape(51,)"
   ]
  },
  {
   "cell_type": "code",
   "execution_count": 42,
   "metadata": {},
   "outputs": [],
   "source": [
    "bias_squared = np.mean((Y_hat - Y_bar)**2)"
   ]
  },
  {
   "cell_type": "code",
   "execution_count": 44,
   "metadata": {},
   "outputs": [
    {
     "data": {
      "text/plain": [
       "0.016425314433553127"
      ]
     },
     "execution_count": 44,
     "metadata": {},
     "output_type": "execute_result"
    }
   ],
   "source": [
    "bias_squared"
   ]
  },
  {
   "cell_type": "markdown",
   "metadata": {},
   "source": [
    "6) 4 Layer 256 M = 100"
   ]
  },
  {
   "cell_type": "code",
   "execution_count": 45,
   "metadata": {},
   "outputs": [],
   "source": [
    "import numpy as np\n",
    "import torch\n",
    "import matplotlib.pyplot as plt\n",
    "import time\n",
    "\n",
    "M = 500  # number of trajectories (batch size)\n",
    "N = 50  # number of time snapshots\n",
    "D = 100 # number of dimensions\n",
    "Mm = N ** (1/5)\n",
    "\n",
    "layers = [D + 1] + 4 * [256] + [1]\n",
    "\n",
    "Xi = np.array([1.0, 0.5] * int(D / 2))[None, :]\n",
    "T = 1.0\n",
    "\n",
    "\"Available architectures\"\n",
    "mode = \"Naisnet\"  # FC and Naisnet are available\n",
    "activation = \"Sine\"  # Sine, ReLU and Tanh are available\n",
    "model = BlackScholesBarenblatt(Xi, T, M, N, D, Mm, layers, mode, activation)\n",
    "\n",
    "n_iter = 2 * 10**4\n",
    "lr = 1e-3"
   ]
  },
  {
   "cell_type": "code",
   "execution_count": 46,
   "metadata": {},
   "outputs": [],
   "source": [
    "model.load_model(\"models/BlackScholesBarenblattMLMC100D.pth\")"
   ]
  },
  {
   "cell_type": "code",
   "execution_count": 47,
   "metadata": {},
   "outputs": [],
   "source": [
    "np.random.seed(37)\n",
    "t_test, W_test = model.fetch_minibatch()\n",
    "X_pred, Y_pred = model.predict(Xi, t_test, W_test)\n",
    "\n",
    "if type(t_test).__module__ != 'numpy':\n",
    "    t_test = t_test.cpu().numpy()\n",
    "if type(X_pred).__module__ != 'numpy':\n",
    "    X_pred = X_pred.cpu().detach().numpy()\n",
    "if type(Y_pred).__module__ != 'numpy':\n",
    "    Y_pred = Y_pred.cpu().detach().numpy()\n",
    "\n",
    "for i in range(19):\n",
    "    t_test_i, W_test_i = model.fetch_minibatch()\n",
    "    X_pred_i, Y_pred_i = model.predict(Xi, t_test_i, W_test_i)\n",
    "    if type(X_pred_i).__module__ != 'numpy':\n",
    "        X_pred_i = X_pred_i.cpu().detach().numpy()\n",
    "    if type(Y_pred_i).__module__ != 'numpy':\n",
    "        Y_pred_i = Y_pred_i.cpu().detach().numpy()\n",
    "    X_pred = np.concatenate((X_pred, X_pred_i), axis=0)\n",
    "    Y_pred = np.concatenate((Y_pred, Y_pred_i), axis=0)"
   ]
  },
  {
   "cell_type": "code",
   "execution_count": 48,
   "metadata": {},
   "outputs": [],
   "source": [
    "Y_hat = Y_pred.mean(axis=0)"
   ]
  },
  {
   "cell_type": "code",
   "execution_count": 49,
   "metadata": {},
   "outputs": [],
   "source": [
    "Y_hat = Y_hat.reshape(51,)"
   ]
  },
  {
   "cell_type": "code",
   "execution_count": 50,
   "metadata": {},
   "outputs": [],
   "source": [
    "bias_squared = np.mean((Y_hat - Y_bar)**2)"
   ]
  },
  {
   "cell_type": "code",
   "execution_count": 51,
   "metadata": {},
   "outputs": [
    {
     "data": {
      "text/plain": [
       "0.0006439523639011325"
      ]
     },
     "execution_count": 51,
     "metadata": {},
     "output_type": "execute_result"
    }
   ],
   "source": [
    "bias_squared"
   ]
  },
  {
   "cell_type": "markdown",
   "metadata": {},
   "source": [
    "7) 4 Layer 256 M = 1"
   ]
  },
  {
   "cell_type": "code",
   "execution_count": 52,
   "metadata": {},
   "outputs": [],
   "source": [
    "import numpy as np\n",
    "import torch\n",
    "import matplotlib.pyplot as plt\n",
    "import time\n",
    "\n",
    "M = 500  # number of trajectories (batch size)\n",
    "N = 50  # number of time snapshots\n",
    "D = 100 # number of dimensions\n",
    "Mm = N ** (1/5)\n",
    "\n",
    "layers = [D + 1] + 4 * [256] + [1]\n",
    "\n",
    "Xi = np.array([1.0, 0.5] * int(D / 2))[None, :]\n",
    "T = 1.0\n",
    "\n",
    "\"Available architectures\"\n",
    "mode = \"Naisnet\"  # FC and Naisnet are available\n",
    "activation = \"Sine\"  # Sine, ReLU and Tanh are available\n",
    "model = BlackScholesBarenblatt(Xi, T, M, N, D, Mm, layers, mode, activation)\n",
    "\n",
    "n_iter = 2 * 10**4\n",
    "lr = 1e-3"
   ]
  },
  {
   "cell_type": "code",
   "execution_count": 53,
   "metadata": {},
   "outputs": [],
   "source": [
    "model.load_model(\"models/BlackScholesBarenblattMLMC100DM1.pth\")"
   ]
  },
  {
   "cell_type": "code",
   "execution_count": 54,
   "metadata": {},
   "outputs": [],
   "source": [
    "np.random.seed(37)\n",
    "t_test, W_test = model.fetch_minibatch()\n",
    "X_pred, Y_pred = model.predict(Xi, t_test, W_test)\n",
    "\n",
    "if type(t_test).__module__ != 'numpy':\n",
    "    t_test = t_test.cpu().numpy()\n",
    "if type(X_pred).__module__ != 'numpy':\n",
    "    X_pred = X_pred.cpu().detach().numpy()\n",
    "if type(Y_pred).__module__ != 'numpy':\n",
    "    Y_pred = Y_pred.cpu().detach().numpy()\n",
    "\n",
    "for i in range(19):\n",
    "    t_test_i, W_test_i = model.fetch_minibatch()\n",
    "    X_pred_i, Y_pred_i = model.predict(Xi, t_test_i, W_test_i)\n",
    "    if type(X_pred_i).__module__ != 'numpy':\n",
    "        X_pred_i = X_pred_i.cpu().detach().numpy()\n",
    "    if type(Y_pred_i).__module__ != 'numpy':\n",
    "        Y_pred_i = Y_pred_i.cpu().detach().numpy()\n",
    "    X_pred = np.concatenate((X_pred, X_pred_i), axis=0)\n",
    "    Y_pred = np.concatenate((Y_pred, Y_pred_i), axis=0)"
   ]
  },
  {
   "cell_type": "code",
   "execution_count": 55,
   "metadata": {},
   "outputs": [],
   "source": [
    "Y_hat = Y_pred.mean(axis=0)"
   ]
  },
  {
   "cell_type": "code",
   "execution_count": 56,
   "metadata": {},
   "outputs": [],
   "source": [
    "Y_hat = Y_hat.reshape(51,)"
   ]
  },
  {
   "cell_type": "code",
   "execution_count": 57,
   "metadata": {},
   "outputs": [],
   "source": [
    "bias_squared = np.mean((Y_hat - Y_bar)**2)"
   ]
  },
  {
   "cell_type": "code",
   "execution_count": 58,
   "metadata": {},
   "outputs": [
    {
     "data": {
      "text/plain": [
       "0.18414818362205052"
      ]
     },
     "execution_count": 58,
     "metadata": {},
     "output_type": "execute_result"
    }
   ],
   "source": [
    "bias_squared"
   ]
  },
  {
   "cell_type": "markdown",
   "metadata": {},
   "source": [
    "8) 4 Layer 256 M = 10"
   ]
  },
  {
   "cell_type": "code",
   "execution_count": 59,
   "metadata": {},
   "outputs": [],
   "source": [
    "import numpy as np\n",
    "import torch\n",
    "import matplotlib.pyplot as plt\n",
    "import time\n",
    "\n",
    "M = 500  # number of trajectories (batch size)\n",
    "N = 50  # number of time snapshots\n",
    "D = 100 # number of dimensions\n",
    "Mm = N ** (1/5)\n",
    "\n",
    "layers = [D + 1] + 4 * [256] + [1]\n",
    "\n",
    "Xi = np.array([1.0, 0.5] * int(D / 2))[None, :]\n",
    "T = 1.0\n",
    "\n",
    "\"Available architectures\"\n",
    "mode = \"Naisnet\"  # FC and Naisnet are available\n",
    "activation = \"Sine\"  # Sine, ReLU and Tanh are available\n",
    "model = BlackScholesBarenblatt(Xi, T, M, N, D, Mm, layers, mode, activation)\n",
    "\n",
    "n_iter = 2 * 10**4\n",
    "lr = 1e-3"
   ]
  },
  {
   "cell_type": "code",
   "execution_count": 60,
   "metadata": {},
   "outputs": [],
   "source": [
    "model.load_model(\"models/BlackScholesBarenblattMLMC100DM10.pth\")"
   ]
  },
  {
   "cell_type": "code",
   "execution_count": 61,
   "metadata": {},
   "outputs": [],
   "source": [
    "np.random.seed(37)\n",
    "t_test, W_test = model.fetch_minibatch()\n",
    "X_pred, Y_pred = model.predict(Xi, t_test, W_test)\n",
    "\n",
    "if type(t_test).__module__ != 'numpy':\n",
    "    t_test = t_test.cpu().numpy()\n",
    "if type(X_pred).__module__ != 'numpy':\n",
    "    X_pred = X_pred.cpu().detach().numpy()\n",
    "if type(Y_pred).__module__ != 'numpy':\n",
    "    Y_pred = Y_pred.cpu().detach().numpy()\n",
    "\n",
    "for i in range(19):\n",
    "    t_test_i, W_test_i = model.fetch_minibatch()\n",
    "    X_pred_i, Y_pred_i = model.predict(Xi, t_test_i, W_test_i)\n",
    "    if type(X_pred_i).__module__ != 'numpy':\n",
    "        X_pred_i = X_pred_i.cpu().detach().numpy()\n",
    "    if type(Y_pred_i).__module__ != 'numpy':\n",
    "        Y_pred_i = Y_pred_i.cpu().detach().numpy()\n",
    "    X_pred = np.concatenate((X_pred, X_pred_i), axis=0)\n",
    "    Y_pred = np.concatenate((Y_pred, Y_pred_i), axis=0)"
   ]
  },
  {
   "cell_type": "code",
   "execution_count": 62,
   "metadata": {},
   "outputs": [],
   "source": [
    "Y_hat = Y_pred.mean(axis=0)"
   ]
  },
  {
   "cell_type": "code",
   "execution_count": 63,
   "metadata": {},
   "outputs": [],
   "source": [
    "Y_hat = Y_hat.reshape(51,)"
   ]
  },
  {
   "cell_type": "code",
   "execution_count": 64,
   "metadata": {},
   "outputs": [],
   "source": [
    "bias_squared = np.mean((Y_hat - Y_bar)**2)"
   ]
  },
  {
   "cell_type": "code",
   "execution_count": 65,
   "metadata": {},
   "outputs": [
    {
     "data": {
      "text/plain": [
       "0.044066979004271034"
      ]
     },
     "execution_count": 65,
     "metadata": {},
     "output_type": "execute_result"
    }
   ],
   "source": [
    "bias_squared"
   ]
  },
  {
   "cell_type": "markdown",
   "metadata": {},
   "source": [
    "9) 4 Layer 256 M = 50"
   ]
  },
  {
   "cell_type": "code",
   "execution_count": 66,
   "metadata": {},
   "outputs": [],
   "source": [
    "import numpy as np\n",
    "import torch\n",
    "import matplotlib.pyplot as plt\n",
    "import time\n",
    "\n",
    "M = 500  # number of trajectories (batch size)\n",
    "N = 50  # number of time snapshots\n",
    "D = 100 # number of dimensions\n",
    "Mm = N ** (1/5)\n",
    "\n",
    "layers = [D + 1] + 4 * [256] + [1]\n",
    "\n",
    "Xi = np.array([1.0, 0.5] * int(D / 2))[None, :]\n",
    "T = 1.0\n",
    "\n",
    "\"Available architectures\"\n",
    "mode = \"Naisnet\"  # FC and Naisnet are available\n",
    "activation = \"Sine\"  # Sine, ReLU and Tanh are available\n",
    "model = BlackScholesBarenblatt(Xi, T, M, N, D, Mm, layers, mode, activation)\n",
    "\n",
    "n_iter = 2 * 10**4\n",
    "lr = 1e-3"
   ]
  },
  {
   "cell_type": "code",
   "execution_count": 67,
   "metadata": {},
   "outputs": [],
   "source": [
    "model.load_model(\"models/BlackScholesBarenblattMLMC100DM50.pth\")"
   ]
  },
  {
   "cell_type": "code",
   "execution_count": 68,
   "metadata": {},
   "outputs": [],
   "source": [
    "np.random.seed(37)\n",
    "t_test, W_test = model.fetch_minibatch()\n",
    "X_pred, Y_pred = model.predict(Xi, t_test, W_test)\n",
    "\n",
    "if type(t_test).__module__ != 'numpy':\n",
    "    t_test = t_test.cpu().numpy()\n",
    "if type(X_pred).__module__ != 'numpy':\n",
    "    X_pred = X_pred.cpu().detach().numpy()\n",
    "if type(Y_pred).__module__ != 'numpy':\n",
    "    Y_pred = Y_pred.cpu().detach().numpy()\n",
    "\n",
    "for i in range(19):\n",
    "    t_test_i, W_test_i = model.fetch_minibatch()\n",
    "    X_pred_i, Y_pred_i = model.predict(Xi, t_test_i, W_test_i)\n",
    "    if type(X_pred_i).__module__ != 'numpy':\n",
    "        X_pred_i = X_pred_i.cpu().detach().numpy()\n",
    "    if type(Y_pred_i).__module__ != 'numpy':\n",
    "        Y_pred_i = Y_pred_i.cpu().detach().numpy()\n",
    "    X_pred = np.concatenate((X_pred, X_pred_i), axis=0)\n",
    "    Y_pred = np.concatenate((Y_pred, Y_pred_i), axis=0)"
   ]
  },
  {
   "cell_type": "code",
   "execution_count": 69,
   "metadata": {},
   "outputs": [],
   "source": [
    "Y_hat = Y_pred.mean(axis=0)"
   ]
  },
  {
   "cell_type": "code",
   "execution_count": 70,
   "metadata": {},
   "outputs": [],
   "source": [
    "Y_hat = Y_hat.reshape(51,)"
   ]
  },
  {
   "cell_type": "code",
   "execution_count": 71,
   "metadata": {},
   "outputs": [],
   "source": [
    "bias_squared = np.mean((Y_hat - Y_bar)**2)"
   ]
  },
  {
   "cell_type": "code",
   "execution_count": 72,
   "metadata": {},
   "outputs": [
    {
     "data": {
      "text/plain": [
       "0.01205750710933524"
      ]
     },
     "execution_count": 72,
     "metadata": {},
     "output_type": "execute_result"
    }
   ],
   "source": [
    "bias_squared"
   ]
  },
  {
   "cell_type": "markdown",
   "metadata": {},
   "source": [
    "10) 4 Layer 256 M = 75"
   ]
  },
  {
   "cell_type": "code",
   "execution_count": 73,
   "metadata": {},
   "outputs": [],
   "source": [
    "import numpy as np\n",
    "import torch\n",
    "import matplotlib.pyplot as plt\n",
    "import time\n",
    "\n",
    "M = 500  # number of trajectories (batch size)\n",
    "N = 50  # number of time snapshots\n",
    "D = 100 # number of dimensions\n",
    "Mm = N ** (1/5)\n",
    "\n",
    "layers = [D + 1] + 4 * [256] + [1]\n",
    "\n",
    "Xi = np.array([1.0, 0.5] * int(D / 2))[None, :]\n",
    "T = 1.0\n",
    "\n",
    "\"Available architectures\"\n",
    "mode = \"Naisnet\"  # FC and Naisnet are available\n",
    "activation = \"Sine\"  # Sine, ReLU and Tanh are available\n",
    "model = BlackScholesBarenblatt(Xi, T, M, N, D, Mm, layers, mode, activation)\n",
    "\n",
    "n_iter = 2 * 10**4\n",
    "lr = 1e-3"
   ]
  },
  {
   "cell_type": "code",
   "execution_count": 74,
   "metadata": {},
   "outputs": [],
   "source": [
    "model.load_model(\"models/BlackScholesBarenblattMLMC100DM75.pth\")"
   ]
  },
  {
   "cell_type": "code",
   "execution_count": 75,
   "metadata": {},
   "outputs": [],
   "source": [
    "np.random.seed(37)\n",
    "t_test, W_test = model.fetch_minibatch()\n",
    "X_pred, Y_pred = model.predict(Xi, t_test, W_test)\n",
    "\n",
    "if type(t_test).__module__ != 'numpy':\n",
    "    t_test = t_test.cpu().numpy()\n",
    "if type(X_pred).__module__ != 'numpy':\n",
    "    X_pred = X_pred.cpu().detach().numpy()\n",
    "if type(Y_pred).__module__ != 'numpy':\n",
    "    Y_pred = Y_pred.cpu().detach().numpy()\n",
    "\n",
    "for i in range(19):\n",
    "    t_test_i, W_test_i = model.fetch_minibatch()\n",
    "    X_pred_i, Y_pred_i = model.predict(Xi, t_test_i, W_test_i)\n",
    "    if type(X_pred_i).__module__ != 'numpy':\n",
    "        X_pred_i = X_pred_i.cpu().detach().numpy()\n",
    "    if type(Y_pred_i).__module__ != 'numpy':\n",
    "        Y_pred_i = Y_pred_i.cpu().detach().numpy()\n",
    "    X_pred = np.concatenate((X_pred, X_pred_i), axis=0)\n",
    "    Y_pred = np.concatenate((Y_pred, Y_pred_i), axis=0)"
   ]
  },
  {
   "cell_type": "code",
   "execution_count": 76,
   "metadata": {},
   "outputs": [],
   "source": [
    "Y_hat = Y_pred.mean(axis=0)"
   ]
  },
  {
   "cell_type": "code",
   "execution_count": 77,
   "metadata": {},
   "outputs": [],
   "source": [
    "Y_hat = Y_hat.reshape(51,)"
   ]
  },
  {
   "cell_type": "code",
   "execution_count": 78,
   "metadata": {},
   "outputs": [],
   "source": [
    "bias_squared = np.mean((Y_hat - Y_bar)**2)"
   ]
  },
  {
   "cell_type": "code",
   "execution_count": 79,
   "metadata": {},
   "outputs": [
    {
     "data": {
      "text/plain": [
       "0.005874576473919054"
      ]
     },
     "execution_count": 79,
     "metadata": {},
     "output_type": "execute_result"
    }
   ],
   "source": [
    "bias_squared  "
   ]
  },
  {
   "cell_type": "markdown",
   "metadata": {},
   "source": [
    "11) 4 Layers 256 M = 150"
   ]
  },
  {
   "cell_type": "code",
   "execution_count": 80,
   "metadata": {},
   "outputs": [],
   "source": [
    "import numpy as np\n",
    "import torch\n",
    "import matplotlib.pyplot as plt\n",
    "import time\n",
    "\n",
    "M = 500  # number of trajectories (batch size)\n",
    "N = 50  # number of time snapshots\n",
    "D = 100 # number of dimensions\n",
    "Mm = N ** (1/5)\n",
    "\n",
    "layers = [D + 1] + 4 * [256] + [1]\n",
    "\n",
    "Xi = np.array([1.0, 0.5] * int(D / 2))[None, :]\n",
    "T = 1.0\n",
    "\n",
    "\"Available architectures\"\n",
    "mode = \"Naisnet\"  # FC and Naisnet are available\n",
    "activation = \"Sine\"  # Sine, ReLU and Tanh are available\n",
    "model = BlackScholesBarenblatt(Xi, T, M, N, D, Mm, layers, mode, activation)\n",
    "\n",
    "n_iter = 2 * 10**4\n",
    "lr = 1e-3"
   ]
  },
  {
   "cell_type": "code",
   "execution_count": 81,
   "metadata": {},
   "outputs": [],
   "source": [
    "model.load_model(\"models/BlackScholesBarenblattMLMC100DM150.pth\")"
   ]
  },
  {
   "cell_type": "code",
   "execution_count": 82,
   "metadata": {},
   "outputs": [],
   "source": [
    "np.random.seed(37)\n",
    "t_test, W_test = model.fetch_minibatch()\n",
    "X_pred, Y_pred = model.predict(Xi, t_test, W_test)\n",
    "\n",
    "if type(t_test).__module__ != 'numpy':\n",
    "    t_test = t_test.cpu().numpy()\n",
    "if type(X_pred).__module__ != 'numpy':\n",
    "    X_pred = X_pred.cpu().detach().numpy()\n",
    "if type(Y_pred).__module__ != 'numpy':\n",
    "    Y_pred = Y_pred.cpu().detach().numpy()\n",
    "\n",
    "for i in range(19):\n",
    "    t_test_i, W_test_i = model.fetch_minibatch()\n",
    "    X_pred_i, Y_pred_i = model.predict(Xi, t_test_i, W_test_i)\n",
    "    if type(X_pred_i).__module__ != 'numpy':\n",
    "        X_pred_i = X_pred_i.cpu().detach().numpy()\n",
    "    if type(Y_pred_i).__module__ != 'numpy':\n",
    "        Y_pred_i = Y_pred_i.cpu().detach().numpy()\n",
    "    X_pred = np.concatenate((X_pred, X_pred_i), axis=0)\n",
    "    Y_pred = np.concatenate((Y_pred, Y_pred_i), axis=0)"
   ]
  },
  {
   "cell_type": "code",
   "execution_count": 83,
   "metadata": {},
   "outputs": [],
   "source": [
    "Y_hat = Y_pred.mean(axis=0)"
   ]
  },
  {
   "cell_type": "code",
   "execution_count": 84,
   "metadata": {},
   "outputs": [],
   "source": [
    "Y_hat = Y_hat.reshape(51,)"
   ]
  },
  {
   "cell_type": "code",
   "execution_count": 85,
   "metadata": {},
   "outputs": [],
   "source": [
    "bias_squared = np.mean((Y_hat - Y_bar)**2)"
   ]
  },
  {
   "cell_type": "code",
   "execution_count": 86,
   "metadata": {},
   "outputs": [
    {
     "data": {
      "text/plain": [
       "0.004300539824636835"
      ]
     },
     "execution_count": 86,
     "metadata": {},
     "output_type": "execute_result"
    }
   ],
   "source": [
    "bias_squared"
   ]
  },
  {
   "cell_type": "markdown",
   "metadata": {},
   "source": [
    "12. 2 Layers 256 M = 200"
   ]
  },
  {
   "cell_type": "code",
   "execution_count": 87,
   "metadata": {},
   "outputs": [],
   "source": [
    "import numpy as np\n",
    "import torch\n",
    "import matplotlib.pyplot as plt\n",
    "import time\n",
    "\n",
    "M = 500  # number of trajectories (batch size)\n",
    "N = 50  # number of time snapshots\n",
    "D = 100 # number of dimensions\n",
    "Mm = N ** (1/5)\n",
    "\n",
    "layers = [D + 1] + 2 * [256] + [1]\n",
    "\n",
    "Xi = np.array([1.0, 0.5] * int(D / 2))[None, :]\n",
    "T = 1.0\n",
    "\n",
    "\"Available architectures\"\n",
    "mode = \"Naisnet\"  # FC and Naisnet are available\n",
    "activation = \"Sine\"  # Sine, ReLU and Tanh are available\n",
    "model = BlackScholesBarenblatt(Xi, T, M, N, D, Mm, layers, mode, activation)\n",
    "\n",
    "n_iter = 2 * 10**4\n",
    "lr = 1e-3"
   ]
  },
  {
   "cell_type": "code",
   "execution_count": 88,
   "metadata": {},
   "outputs": [],
   "source": [
    "model.load_model(\"models/BlackScholesBarenblattMLMC100D2Layer256M200.pth\")"
   ]
  },
  {
   "cell_type": "code",
   "execution_count": 89,
   "metadata": {},
   "outputs": [],
   "source": [
    "np.random.seed(37)\n",
    "t_test, W_test = model.fetch_minibatch()\n",
    "X_pred, Y_pred = model.predict(Xi, t_test, W_test)\n",
    "\n",
    "if type(t_test).__module__ != 'numpy':\n",
    "    t_test = t_test.cpu().numpy()\n",
    "if type(X_pred).__module__ != 'numpy':\n",
    "    X_pred = X_pred.cpu().detach().numpy()\n",
    "if type(Y_pred).__module__ != 'numpy':\n",
    "    Y_pred = Y_pred.cpu().detach().numpy()\n",
    "\n",
    "for i in range(19):\n",
    "    t_test_i, W_test_i = model.fetch_minibatch()\n",
    "    X_pred_i, Y_pred_i = model.predict(Xi, t_test_i, W_test_i)\n",
    "    if type(X_pred_i).__module__ != 'numpy':\n",
    "        X_pred_i = X_pred_i.cpu().detach().numpy()\n",
    "    if type(Y_pred_i).__module__ != 'numpy':\n",
    "        Y_pred_i = Y_pred_i.cpu().detach().numpy()\n",
    "    X_pred = np.concatenate((X_pred, X_pred_i), axis=0)\n",
    "    Y_pred = np.concatenate((Y_pred, Y_pred_i), axis=0)"
   ]
  },
  {
   "cell_type": "code",
   "execution_count": 90,
   "metadata": {},
   "outputs": [],
   "source": [
    "Y_hat = Y_pred.mean(axis=0)"
   ]
  },
  {
   "cell_type": "code",
   "execution_count": 91,
   "metadata": {},
   "outputs": [],
   "source": [
    "Y_hat = Y_hat.reshape(51,)"
   ]
  },
  {
   "cell_type": "code",
   "execution_count": 92,
   "metadata": {},
   "outputs": [],
   "source": [
    "bias_squared = np.mean((Y_hat - Y_bar)**2)"
   ]
  },
  {
   "cell_type": "code",
   "execution_count": 93,
   "metadata": {},
   "outputs": [
    {
     "data": {
      "text/plain": [
       "0.003221356663761624"
      ]
     },
     "execution_count": 93,
     "metadata": {},
     "output_type": "execute_result"
    }
   ],
   "source": [
    "bias_squared"
   ]
  },
  {
   "cell_type": "markdown",
   "metadata": {},
   "source": [
    "13) 2 Layers 256 M = 500"
   ]
  },
  {
   "cell_type": "code",
   "execution_count": 94,
   "metadata": {},
   "outputs": [],
   "source": [
    "import numpy as np\n",
    "import torch\n",
    "import matplotlib.pyplot as plt\n",
    "import time\n",
    "\n",
    "M = 500  # number of trajectories (batch size)\n",
    "N = 50  # number of time snapshots\n",
    "D = 100 # number of dimensions\n",
    "Mm = N ** (1/5)\n",
    "\n",
    "layers = [D + 1] + 2 * [256] + [1]\n",
    "\n",
    "Xi = np.array([1.0, 0.5] * int(D / 2))[None, :]\n",
    "T = 1.0\n",
    "\n",
    "\"Available architectures\"\n",
    "mode = \"Naisnet\"  # FC and Naisnet are available\n",
    "activation = \"Sine\"  # Sine, ReLU and Tanh are available\n",
    "model = BlackScholesBarenblatt(Xi, T, M, N, D, Mm, layers, mode, activation)\n",
    "\n",
    "n_iter = 2 * 10**4\n",
    "lr = 1e-3"
   ]
  },
  {
   "cell_type": "code",
   "execution_count": 95,
   "metadata": {},
   "outputs": [],
   "source": [
    "model.load_model(\"models/BlackScholesBarenblattMLMC100D2Layer256M500.pth\")"
   ]
  },
  {
   "cell_type": "code",
   "execution_count": 96,
   "metadata": {},
   "outputs": [],
   "source": [
    "np.random.seed(37)\n",
    "t_test, W_test = model.fetch_minibatch()\n",
    "X_pred, Y_pred = model.predict(Xi, t_test, W_test)\n",
    "\n",
    "if type(t_test).__module__ != 'numpy':\n",
    "    t_test = t_test.cpu().numpy()\n",
    "if type(X_pred).__module__ != 'numpy':\n",
    "    X_pred = X_pred.cpu().detach().numpy()\n",
    "if type(Y_pred).__module__ != 'numpy':\n",
    "    Y_pred = Y_pred.cpu().detach().numpy()\n",
    "\n",
    "for i in range(19):\n",
    "    t_test_i, W_test_i = model.fetch_minibatch()\n",
    "    X_pred_i, Y_pred_i = model.predict(Xi, t_test_i, W_test_i)\n",
    "    if type(X_pred_i).__module__ != 'numpy':\n",
    "        X_pred_i = X_pred_i.cpu().detach().numpy()\n",
    "    if type(Y_pred_i).__module__ != 'numpy':\n",
    "        Y_pred_i = Y_pred_i.cpu().detach().numpy()\n",
    "    X_pred = np.concatenate((X_pred, X_pred_i), axis=0)\n",
    "    Y_pred = np.concatenate((Y_pred, Y_pred_i), axis=0)"
   ]
  },
  {
   "cell_type": "code",
   "execution_count": 97,
   "metadata": {},
   "outputs": [],
   "source": [
    "Y_hat = Y_pred.mean(axis=0)"
   ]
  },
  {
   "cell_type": "code",
   "execution_count": 99,
   "metadata": {},
   "outputs": [],
   "source": [
    "Y_hat = Y_hat.reshape(51,)"
   ]
  },
  {
   "cell_type": "code",
   "execution_count": 100,
   "metadata": {},
   "outputs": [],
   "source": [
    "bias_squared = np.mean((Y_hat - Y_bar)**2)"
   ]
  },
  {
   "cell_type": "code",
   "execution_count": 101,
   "metadata": {},
   "outputs": [
    {
     "data": {
      "text/plain": [
       "0.009398600645819861"
      ]
     },
     "execution_count": 101,
     "metadata": {},
     "output_type": "execute_result"
    }
   ],
   "source": [
    "bias_squared"
   ]
  },
  {
   "cell_type": "markdown",
   "metadata": {},
   "source": [
    "14) 4 Layers 256 M = 250"
   ]
  },
  {
   "cell_type": "code",
   "execution_count": 102,
   "metadata": {},
   "outputs": [],
   "source": [
    "import numpy as np\n",
    "import torch\n",
    "import matplotlib.pyplot as plt\n",
    "import time\n",
    "\n",
    "M = 500  # number of trajectories (batch size)\n",
    "N = 50  # number of time snapshots\n",
    "D = 100 # number of dimensions\n",
    "Mm = N ** (1/5)\n",
    "\n",
    "layers = [D + 1] + 4 * [256] + [1]\n",
    "\n",
    "Xi = np.array([1.0, 0.5] * int(D / 2))[None, :]\n",
    "T = 1.0\n",
    "\n",
    "\"Available architectures\"\n",
    "mode = \"Naisnet\"  # FC and Naisnet are available\n",
    "activation = \"Sine\"  # Sine, ReLU and Tanh are available\n",
    "model = BlackScholesBarenblatt(Xi, T, M, N, D, Mm, layers, mode, activation)\n",
    "\n",
    "n_iter = 2 * 10**4\n",
    "lr = 1e-3"
   ]
  },
  {
   "cell_type": "code",
   "execution_count": 103,
   "metadata": {},
   "outputs": [],
   "source": [
    "model.load_model(\"models/BlackScholesBarenblattMLMC100DM250.pth\")"
   ]
  },
  {
   "cell_type": "code",
   "execution_count": 104,
   "metadata": {},
   "outputs": [],
   "source": [
    "np.random.seed(37)\n",
    "t_test, W_test = model.fetch_minibatch()\n",
    "X_pred, Y_pred = model.predict(Xi, t_test, W_test)\n",
    "\n",
    "if type(t_test).__module__ != 'numpy':\n",
    "    t_test = t_test.cpu().numpy()\n",
    "if type(X_pred).__module__ != 'numpy':\n",
    "    X_pred = X_pred.cpu().detach().numpy()\n",
    "if type(Y_pred).__module__ != 'numpy':\n",
    "    Y_pred = Y_pred.cpu().detach().numpy()\n",
    "\n",
    "for i in range(19):\n",
    "    t_test_i, W_test_i = model.fetch_minibatch()\n",
    "    X_pred_i, Y_pred_i = model.predict(Xi, t_test_i, W_test_i)\n",
    "    if type(X_pred_i).__module__ != 'numpy':\n",
    "        X_pred_i = X_pred_i.cpu().detach().numpy()\n",
    "    if type(Y_pred_i).__module__ != 'numpy':\n",
    "        Y_pred_i = Y_pred_i.cpu().detach().numpy()\n",
    "    X_pred = np.concatenate((X_pred, X_pred_i), axis=0)\n",
    "    Y_pred = np.concatenate((Y_pred, Y_pred_i), axis=0)"
   ]
  },
  {
   "cell_type": "code",
   "execution_count": 105,
   "metadata": {},
   "outputs": [],
   "source": [
    "Y_hat = Y_pred.mean(axis=0)"
   ]
  },
  {
   "cell_type": "code",
   "execution_count": 106,
   "metadata": {},
   "outputs": [],
   "source": [
    "Y_hat = Y_hat.reshape(51,)"
   ]
  },
  {
   "cell_type": "code",
   "execution_count": 107,
   "metadata": {},
   "outputs": [],
   "source": [
    "bias_squared = np.mean((Y_hat - Y_bar)**2)"
   ]
  },
  {
   "cell_type": "code",
   "execution_count": 108,
   "metadata": {},
   "outputs": [
    {
     "data": {
      "text/plain": [
       "0.0032092881441463297"
      ]
     },
     "execution_count": 108,
     "metadata": {},
     "output_type": "execute_result"
    }
   ],
   "source": [
    "bias_squared"
   ]
  },
  {
   "cell_type": "markdown",
   "metadata": {},
   "source": [
    "15) 4 Layers 256 M = 500"
   ]
  },
  {
   "cell_type": "code",
   "execution_count": 109,
   "metadata": {},
   "outputs": [],
   "source": [
    "import numpy as np\n",
    "import torch\n",
    "import matplotlib.pyplot as plt\n",
    "import time\n",
    "\n",
    "M = 500  # number of trajectories (batch size)\n",
    "N = 50  # number of time snapshots\n",
    "D = 100 # number of dimensions\n",
    "Mm = N ** (1/5)\n",
    "\n",
    "layers = [D + 1] + 4 * [256] + [1]\n",
    "\n",
    "Xi = np.array([1.0, 0.5] * int(D / 2))[None, :]\n",
    "T = 1.0\n",
    "\n",
    "\"Available architectures\"\n",
    "mode = \"Naisnet\"  # FC and Naisnet are available\n",
    "activation = \"Sine\"  # Sine, ReLU and Tanh are available\n",
    "model = BlackScholesBarenblatt(Xi, T, M, N, D, Mm, layers, mode, activation)\n",
    "\n",
    "n_iter = 2 * 10**4\n",
    "lr = 1e-3"
   ]
  },
  {
   "cell_type": "code",
   "execution_count": 110,
   "metadata": {},
   "outputs": [],
   "source": [
    "model.load_model(\"models/BlackScholesBarenblattMLMC100DM500.pth\")"
   ]
  },
  {
   "cell_type": "code",
   "execution_count": 111,
   "metadata": {},
   "outputs": [],
   "source": [
    "np.random.seed(37)\n",
    "t_test, W_test = model.fetch_minibatch()\n",
    "X_pred, Y_pred = model.predict(Xi, t_test, W_test)\n",
    "\n",
    "if type(t_test).__module__ != 'numpy':\n",
    "    t_test = t_test.cpu().numpy()\n",
    "if type(X_pred).__module__ != 'numpy':\n",
    "    X_pred = X_pred.cpu().detach().numpy()\n",
    "if type(Y_pred).__module__ != 'numpy':\n",
    "    Y_pred = Y_pred.cpu().detach().numpy()\n",
    "\n",
    "for i in range(19):\n",
    "    t_test_i, W_test_i = model.fetch_minibatch()\n",
    "    X_pred_i, Y_pred_i = model.predict(Xi, t_test_i, W_test_i)\n",
    "    if type(X_pred_i).__module__ != 'numpy':\n",
    "        X_pred_i = X_pred_i.cpu().detach().numpy()\n",
    "    if type(Y_pred_i).__module__ != 'numpy':\n",
    "        Y_pred_i = Y_pred_i.cpu().detach().numpy()\n",
    "    X_pred = np.concatenate((X_pred, X_pred_i), axis=0)\n",
    "    Y_pred = np.concatenate((Y_pred, Y_pred_i), axis=0)"
   ]
  },
  {
   "cell_type": "code",
   "execution_count": 112,
   "metadata": {},
   "outputs": [],
   "source": [
    "Y_hat = Y_pred.mean(axis=0)"
   ]
  },
  {
   "cell_type": "code",
   "execution_count": 113,
   "metadata": {},
   "outputs": [],
   "source": [
    "Y_hat = Y_hat.reshape(51,)"
   ]
  },
  {
   "cell_type": "code",
   "execution_count": 114,
   "metadata": {},
   "outputs": [],
   "source": [
    "bias_squared = np.mean((Y_hat - Y_bar)**2)"
   ]
  },
  {
   "cell_type": "code",
   "execution_count": 115,
   "metadata": {},
   "outputs": [
    {
     "data": {
      "text/plain": [
       "0.002644103835336864"
      ]
     },
     "execution_count": 115,
     "metadata": {},
     "output_type": "execute_result"
    }
   ],
   "source": [
    "bias_squared"
   ]
  },
  {
   "cell_type": "markdown",
   "metadata": {},
   "source": [
    "16) 4 Layers 100 M = 100"
   ]
  },
  {
   "cell_type": "code",
   "execution_count": 116,
   "metadata": {},
   "outputs": [],
   "source": [
    "import numpy as np\n",
    "import torch\n",
    "import matplotlib.pyplot as plt\n",
    "import time\n",
    "\n",
    "M = 500  # number of trajectories (batch size)\n",
    "N = 50  # number of time snapshots\n",
    "D = 100 # number of dimensions\n",
    "Mm = N ** (1/5)\n",
    "\n",
    "layers = [D + 1] + 4 * [100] + [1]\n",
    "\n",
    "Xi = np.array([1.0, 0.5] * int(D / 2))[None, :]\n",
    "T = 1.0\n",
    "\n",
    "\"Available architectures\"\n",
    "mode = \"Naisnet\"  # FC and Naisnet are available\n",
    "activation = \"Sine\"  # Sine, ReLU and Tanh are available\n",
    "model = BlackScholesBarenblatt(Xi, T, M, N, D, Mm, layers, mode, activation)\n",
    "\n",
    "n_iter = 2 * 10**4\n",
    "lr = 1e-3"
   ]
  },
  {
   "cell_type": "code",
   "execution_count": 117,
   "metadata": {},
   "outputs": [],
   "source": [
    "model.load_model(\"models/BlackScholesBarenblattMLMC100D4Layer100.pth\")"
   ]
  },
  {
   "cell_type": "code",
   "execution_count": 118,
   "metadata": {},
   "outputs": [],
   "source": [
    "np.random.seed(37)\n",
    "t_test, W_test = model.fetch_minibatch()\n",
    "X_pred, Y_pred = model.predict(Xi, t_test, W_test)\n",
    "\n",
    "if type(t_test).__module__ != 'numpy':\n",
    "    t_test = t_test.cpu().numpy()\n",
    "if type(X_pred).__module__ != 'numpy':\n",
    "    X_pred = X_pred.cpu().detach().numpy()\n",
    "if type(Y_pred).__module__ != 'numpy':\n",
    "    Y_pred = Y_pred.cpu().detach().numpy()\n",
    "\n",
    "for i in range(19):\n",
    "    t_test_i, W_test_i = model.fetch_minibatch()\n",
    "    X_pred_i, Y_pred_i = model.predict(Xi, t_test_i, W_test_i)\n",
    "    if type(X_pred_i).__module__ != 'numpy':\n",
    "        X_pred_i = X_pred_i.cpu().detach().numpy()\n",
    "    if type(Y_pred_i).__module__ != 'numpy':\n",
    "        Y_pred_i = Y_pred_i.cpu().detach().numpy()\n",
    "    X_pred = np.concatenate((X_pred, X_pred_i), axis=0)\n",
    "    Y_pred = np.concatenate((Y_pred, Y_pred_i), axis=0)"
   ]
  },
  {
   "cell_type": "code",
   "execution_count": 119,
   "metadata": {},
   "outputs": [],
   "source": [
    "Y_hat = Y_pred.mean(axis=0)"
   ]
  },
  {
   "cell_type": "code",
   "execution_count": 120,
   "metadata": {},
   "outputs": [],
   "source": [
    "Y_hat = Y_hat.reshape(51,)"
   ]
  },
  {
   "cell_type": "code",
   "execution_count": 121,
   "metadata": {},
   "outputs": [],
   "source": [
    "bias_squared = np.mean((Y_hat - Y_bar)**2)"
   ]
  },
  {
   "cell_type": "code",
   "execution_count": 122,
   "metadata": {},
   "outputs": [
    {
     "data": {
      "text/plain": [
       "0.004911670691845026"
      ]
     },
     "execution_count": 122,
     "metadata": {},
     "output_type": "execute_result"
    }
   ],
   "source": [
    "bias_squared"
   ]
  },
  {
   "cell_type": "markdown",
   "metadata": {},
   "source": [
    "17) 3 Layers 100 M = 100"
   ]
  },
  {
   "cell_type": "code",
   "execution_count": 123,
   "metadata": {},
   "outputs": [],
   "source": [
    "import numpy as np\n",
    "import torch\n",
    "import matplotlib.pyplot as plt\n",
    "import time\n",
    "\n",
    "M = 500  # number of trajectories (batch size)\n",
    "N = 50  # number of time snapshots\n",
    "D = 100 # number of dimensions\n",
    "Mm = N ** (1/5)\n",
    "\n",
    "layers = [D + 1] + 3 * [100] + [1]\n",
    "\n",
    "Xi = np.array([1.0, 0.5] * int(D / 2))[None, :]\n",
    "T = 1.0\n",
    "\n",
    "\"Available architectures\"\n",
    "mode = \"Naisnet\"  # FC and Naisnet are available\n",
    "activation = \"Sine\"  # Sine, ReLU and Tanh are available\n",
    "model = BlackScholesBarenblatt(Xi, T, M, N, D, Mm, layers, mode, activation)\n",
    "\n",
    "n_iter = 2 * 10**4\n",
    "lr = 1e-3"
   ]
  },
  {
   "cell_type": "code",
   "execution_count": 124,
   "metadata": {},
   "outputs": [],
   "source": [
    "model.load_model(\"models/BlackScholesBarenblattMLMC100D3Layer100.pth\")"
   ]
  },
  {
   "cell_type": "code",
   "execution_count": 125,
   "metadata": {},
   "outputs": [],
   "source": [
    "np.random.seed(37)\n",
    "t_test, W_test = model.fetch_minibatch()\n",
    "X_pred, Y_pred = model.predict(Xi, t_test, W_test)\n",
    "\n",
    "if type(t_test).__module__ != 'numpy':\n",
    "    t_test = t_test.cpu().numpy()\n",
    "if type(X_pred).__module__ != 'numpy':\n",
    "    X_pred = X_pred.cpu().detach().numpy()\n",
    "if type(Y_pred).__module__ != 'numpy':\n",
    "    Y_pred = Y_pred.cpu().detach().numpy()\n",
    "\n",
    "for i in range(19):\n",
    "    t_test_i, W_test_i = model.fetch_minibatch()\n",
    "    X_pred_i, Y_pred_i = model.predict(Xi, t_test_i, W_test_i)\n",
    "    if type(X_pred_i).__module__ != 'numpy':\n",
    "        X_pred_i = X_pred_i.cpu().detach().numpy()\n",
    "    if type(Y_pred_i).__module__ != 'numpy':\n",
    "        Y_pred_i = Y_pred_i.cpu().detach().numpy()\n",
    "    X_pred = np.concatenate((X_pred, X_pred_i), axis=0)\n",
    "    Y_pred = np.concatenate((Y_pred, Y_pred_i), axis=0)"
   ]
  },
  {
   "cell_type": "code",
   "execution_count": 126,
   "metadata": {},
   "outputs": [],
   "source": [
    "Y_hat = Y_pred.mean(axis=0)"
   ]
  },
  {
   "cell_type": "code",
   "execution_count": 127,
   "metadata": {},
   "outputs": [],
   "source": [
    "Y_hat = Y_hat.reshape(51,)"
   ]
  },
  {
   "cell_type": "code",
   "execution_count": 128,
   "metadata": {},
   "outputs": [],
   "source": [
    "bias_squared = np.mean((Y_hat - Y_bar)**2)"
   ]
  },
  {
   "cell_type": "code",
   "execution_count": 129,
   "metadata": {},
   "outputs": [
    {
     "data": {
      "text/plain": [
       "0.004261252229494572"
      ]
     },
     "execution_count": 129,
     "metadata": {},
     "output_type": "execute_result"
    }
   ],
   "source": [
    "bias_squared"
   ]
  },
  {
   "cell_type": "markdown",
   "metadata": {},
   "source": [
    "18) 2 Layer 256 M = 50"
   ]
  },
  {
   "cell_type": "code",
   "execution_count": 130,
   "metadata": {},
   "outputs": [],
   "source": [
    "import numpy as np\n",
    "import torch\n",
    "import matplotlib.pyplot as plt\n",
    "import time\n",
    "\n",
    "M = 500  # number of trajectories (batch size)\n",
    "N = 50  # number of time snapshots\n",
    "D = 100 # number of dimensions\n",
    "Mm = N ** (1/5)\n",
    "\n",
    "layers = [D + 1] + 2 * [256] + [1]\n",
    "\n",
    "Xi = np.array([1.0, 0.5] * int(D / 2))[None, :]\n",
    "T = 1.0\n",
    "\n",
    "\"Available architectures\"\n",
    "mode = \"Naisnet\"  # FC and Naisnet are available\n",
    "activation = \"Sine\"  # Sine, ReLU and Tanh are available\n",
    "model = BlackScholesBarenblatt(Xi, T, M, N, D, Mm, layers, mode, activation)\n",
    "\n",
    "n_iter = 2 * 10**4\n",
    "lr = 1e-3"
   ]
  },
  {
   "cell_type": "code",
   "execution_count": 131,
   "metadata": {},
   "outputs": [],
   "source": [
    "model.load_model(\"models/BlackScholesBarenblattMLMC100D2Layer256M50.pth\")"
   ]
  },
  {
   "cell_type": "code",
   "execution_count": 132,
   "metadata": {},
   "outputs": [],
   "source": [
    "np.random.seed(37)\n",
    "t_test, W_test = model.fetch_minibatch()\n",
    "X_pred, Y_pred = model.predict(Xi, t_test, W_test)\n",
    "\n",
    "if type(t_test).__module__ != 'numpy':\n",
    "    t_test = t_test.cpu().numpy()\n",
    "if type(X_pred).__module__ != 'numpy':\n",
    "    X_pred = X_pred.cpu().detach().numpy()\n",
    "if type(Y_pred).__module__ != 'numpy':\n",
    "    Y_pred = Y_pred.cpu().detach().numpy()\n",
    "\n",
    "for i in range(19):\n",
    "    t_test_i, W_test_i = model.fetch_minibatch()\n",
    "    X_pred_i, Y_pred_i = model.predict(Xi, t_test_i, W_test_i)\n",
    "    if type(X_pred_i).__module__ != 'numpy':\n",
    "        X_pred_i = X_pred_i.cpu().detach().numpy()\n",
    "    if type(Y_pred_i).__module__ != 'numpy':\n",
    "        Y_pred_i = Y_pred_i.cpu().detach().numpy()\n",
    "    X_pred = np.concatenate((X_pred, X_pred_i), axis=0)\n",
    "    Y_pred = np.concatenate((Y_pred, Y_pred_i), axis=0)"
   ]
  },
  {
   "cell_type": "code",
   "execution_count": 133,
   "metadata": {},
   "outputs": [],
   "source": [
    "Y_hat = Y_pred.mean(axis=0)"
   ]
  },
  {
   "cell_type": "code",
   "execution_count": 134,
   "metadata": {},
   "outputs": [],
   "source": [
    "Y_hat = Y_hat.reshape(51,)"
   ]
  },
  {
   "cell_type": "code",
   "execution_count": 135,
   "metadata": {},
   "outputs": [],
   "source": [
    "bias_squared = np.mean((Y_hat - Y_bar)**2)"
   ]
  },
  {
   "cell_type": "code",
   "execution_count": 136,
   "metadata": {},
   "outputs": [
    {
     "data": {
      "text/plain": [
       "0.004338153871917622"
      ]
     },
     "execution_count": 136,
     "metadata": {},
     "output_type": "execute_result"
    }
   ],
   "source": [
    "bias_squared "
   ]
  },
  {
   "cell_type": "markdown",
   "metadata": {},
   "source": [
    "19) 3 Layer 100 M = 200"
   ]
  },
  {
   "cell_type": "code",
   "execution_count": 137,
   "metadata": {},
   "outputs": [],
   "source": [
    "import numpy as np\n",
    "import torch\n",
    "import matplotlib.pyplot as plt\n",
    "import time\n",
    "\n",
    "M = 500  # number of trajectories (batch size)\n",
    "N = 50  # number of time snapshots\n",
    "D = 100 # number of dimensions\n",
    "Mm = N ** (1/5)\n",
    "\n",
    "layers = [D + 1] + 3 * [100] + [1]\n",
    "\n",
    "Xi = np.array([1.0, 0.5] * int(D / 2))[None, :]\n",
    "T = 1.0\n",
    "\n",
    "\"Available architectures\"\n",
    "mode = \"Naisnet\"  # FC and Naisnet are available\n",
    "activation = \"Sine\"  # Sine, ReLU and Tanh are available\n",
    "model = BlackScholesBarenblatt(Xi, T, M, N, D, Mm, layers, mode, activation)\n",
    "\n",
    "n_iter = 2 * 10**4\n",
    "lr = 1e-3"
   ]
  },
  {
   "cell_type": "code",
   "execution_count": 138,
   "metadata": {},
   "outputs": [],
   "source": [
    "model.load_model(\"models/BlackScholesBarenblattMLMC100D3Layer100M200.pth\")"
   ]
  },
  {
   "cell_type": "code",
   "execution_count": 139,
   "metadata": {},
   "outputs": [],
   "source": [
    "np.random.seed(37)\n",
    "t_test, W_test = model.fetch_minibatch()\n",
    "X_pred, Y_pred = model.predict(Xi, t_test, W_test)\n",
    "\n",
    "if type(t_test).__module__ != 'numpy':\n",
    "    t_test = t_test.cpu().numpy()\n",
    "if type(X_pred).__module__ != 'numpy':\n",
    "    X_pred = X_pred.cpu().detach().numpy()\n",
    "if type(Y_pred).__module__ != 'numpy':\n",
    "    Y_pred = Y_pred.cpu().detach().numpy()\n",
    "\n",
    "for i in range(19):\n",
    "    t_test_i, W_test_i = model.fetch_minibatch()\n",
    "    X_pred_i, Y_pred_i = model.predict(Xi, t_test_i, W_test_i)\n",
    "    if type(X_pred_i).__module__ != 'numpy':\n",
    "        X_pred_i = X_pred_i.cpu().detach().numpy()\n",
    "    if type(Y_pred_i).__module__ != 'numpy':\n",
    "        Y_pred_i = Y_pred_i.cpu().detach().numpy()\n",
    "    X_pred = np.concatenate((X_pred, X_pred_i), axis=0)\n",
    "    Y_pred = np.concatenate((Y_pred, Y_pred_i), axis=0)"
   ]
  },
  {
   "cell_type": "code",
   "execution_count": 140,
   "metadata": {},
   "outputs": [],
   "source": [
    "Y_hat = Y_pred.mean(axis=0)"
   ]
  },
  {
   "cell_type": "code",
   "execution_count": 141,
   "metadata": {},
   "outputs": [],
   "source": [
    "Y_hat = Y_hat.reshape(51,)"
   ]
  },
  {
   "cell_type": "code",
   "execution_count": 142,
   "metadata": {},
   "outputs": [],
   "source": [
    "bias_squared = np.mean((Y_hat - Y_bar)**2)"
   ]
  },
  {
   "cell_type": "code",
   "execution_count": 143,
   "metadata": {},
   "outputs": [
    {
     "data": {
      "text/plain": [
       "0.005982283853204446"
      ]
     },
     "execution_count": 143,
     "metadata": {},
     "output_type": "execute_result"
    }
   ],
   "source": [
    "bias_squared"
   ]
  },
  {
   "cell_type": "markdown",
   "metadata": {},
   "source": [
    "20) 3 Layers 100  M 50"
   ]
  },
  {
   "cell_type": "code",
   "execution_count": 144,
   "metadata": {},
   "outputs": [],
   "source": [
    "import numpy as np\n",
    "import torch\n",
    "import matplotlib.pyplot as plt\n",
    "import time\n",
    "\n",
    "M = 500  # number of trajectories (batch size)\n",
    "N = 50  # number of time snapshots\n",
    "D = 100 # number of dimensions\n",
    "Mm = N ** (1/5)\n",
    "\n",
    "layers = [D + 1] + 3 * [100] + [1]\n",
    "\n",
    "Xi = np.array([1.0, 0.5] * int(D / 2))[None, :]\n",
    "T = 1.0\n",
    "\n",
    "\"Available architectures\"\n",
    "mode = \"Naisnet\"  # FC and Naisnet are available\n",
    "activation = \"Sine\"  # Sine, ReLU and Tanh are available\n",
    "model = BlackScholesBarenblatt(Xi, T, M, N, D, Mm, layers, mode, activation)\n",
    "\n",
    "n_iter = 2 * 10**4\n",
    "lr = 1e-3"
   ]
  },
  {
   "cell_type": "code",
   "execution_count": 145,
   "metadata": {},
   "outputs": [],
   "source": [
    "model.load_model(\"models/BlackScholesBarenblattMLMC100D3Layer100M50.pth\")"
   ]
  },
  {
   "cell_type": "code",
   "execution_count": 146,
   "metadata": {},
   "outputs": [],
   "source": [
    "np.random.seed(37)\n",
    "t_test, W_test = model.fetch_minibatch()\n",
    "X_pred, Y_pred = model.predict(Xi, t_test, W_test)\n",
    "\n",
    "if type(t_test).__module__ != 'numpy':\n",
    "    t_test = t_test.cpu().numpy()\n",
    "if type(X_pred).__module__ != 'numpy':\n",
    "    X_pred = X_pred.cpu().detach().numpy()\n",
    "if type(Y_pred).__module__ != 'numpy':\n",
    "    Y_pred = Y_pred.cpu().detach().numpy()\n",
    "\n",
    "for i in range(19):\n",
    "    t_test_i, W_test_i = model.fetch_minibatch()\n",
    "    X_pred_i, Y_pred_i = model.predict(Xi, t_test_i, W_test_i)\n",
    "    if type(X_pred_i).__module__ != 'numpy':\n",
    "        X_pred_i = X_pred_i.cpu().detach().numpy()\n",
    "    if type(Y_pred_i).__module__ != 'numpy':\n",
    "        Y_pred_i = Y_pred_i.cpu().detach().numpy()\n",
    "    X_pred = np.concatenate((X_pred, X_pred_i), axis=0)\n",
    "    Y_pred = np.concatenate((Y_pred, Y_pred_i), axis=0)"
   ]
  },
  {
   "cell_type": "code",
   "execution_count": 147,
   "metadata": {},
   "outputs": [],
   "source": [
    "Y_hat = Y_pred.mean(axis=0)"
   ]
  },
  {
   "cell_type": "code",
   "execution_count": 148,
   "metadata": {},
   "outputs": [],
   "source": [
    "Y_hat = Y_hat.reshape(51,)"
   ]
  },
  {
   "cell_type": "code",
   "execution_count": 149,
   "metadata": {},
   "outputs": [],
   "source": [
    "bias_squared = np.mean((Y_hat - Y_bar)**2)"
   ]
  },
  {
   "cell_type": "code",
   "execution_count": 150,
   "metadata": {},
   "outputs": [
    {
     "data": {
      "text/plain": [
       "0.006876313385517136"
      ]
     },
     "execution_count": 150,
     "metadata": {},
     "output_type": "execute_result"
    }
   ],
   "source": [
    "bias_squared"
   ]
  }
 ],
 "metadata": {
  "kernelspec": {
   "display_name": "myvenv",
   "language": "python",
   "name": "python3"
  },
  "language_info": {
   "codemirror_mode": {
    "name": "ipython",
    "version": 3
   },
   "file_extension": ".py",
   "mimetype": "text/x-python",
   "name": "python",
   "nbconvert_exporter": "python",
   "pygments_lexer": "ipython3",
   "version": "3.10.12"
  }
 },
 "nbformat": 4,
 "nbformat_minor": 2
}
