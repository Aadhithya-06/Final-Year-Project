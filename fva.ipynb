{
 "cells": [
  {
   "cell_type": "code",
   "execution_count": 1,
   "metadata": {},
   "outputs": [],
   "source": [
    "import sys\n",
    "import os\n",
    "sys.path.append(os.path.abspath(\"Pytorch/\"))\n",
    "sys.path.append(os.path.abspath(\"models/\"))"
   ]
  },
  {
   "cell_type": "code",
   "execution_count": 2,
   "metadata": {},
   "outputs": [],
   "source": [
    "from XVA import *\n",
    "from XVAFBSNNs import *"
   ]
  },
  {
   "cell_type": "code",
   "execution_count": 3,
   "metadata": {},
   "outputs": [],
   "source": [
    "from FBSNNs import *\n",
    "from CallOptionsBasket import *"
   ]
  },
  {
   "cell_type": "code",
   "execution_count": 4,
   "metadata": {},
   "outputs": [],
   "source": [
    "import numpy as np\n",
    "import torch\n",
    "import matplotlib.pyplot as plt\n",
    "import time\n",
    "\n",
    "M = 64  # number of trajectories (batch size)\n",
    "N = 100  # number of time snapshots\n",
    "D = 100 # number of dimensions\n",
    "Mm = N ** (1/5)\n",
    "\n",
    "layers = [D + 1] + 4 * [256] + [1]\n",
    "\n",
    "Xi = np.array([1] * int(D))[None, :]\n",
    "T = 1.0\n",
    "\n",
    "\"Available architectures\"\n",
    "mode = \"NAIS-Net\"  # FC, Resnet and NAIS-Net are available\n",
    "activation = \"Sine\"  # Sine and ReLU are available\n",
    "model = CallOptionsBasket(Xi, T, M, N, D, Mm, layers, mode, activation)\n",
    "\n",
    "n_iter = 2 * 10**4\n",
    "lr = 1e-3"
   ]
  },
  {
   "cell_type": "code",
   "execution_count": 5,
   "metadata": {},
   "outputs": [],
   "source": [
    "model.load_model(\"models/100DCallOption.pth\")"
   ]
  },
  {
   "cell_type": "code",
   "execution_count": 6,
   "metadata": {},
   "outputs": [],
   "source": [
    "import numpy as np\n",
    "import torch\n",
    "import matplotlib.pyplot as plt\n",
    "import time\n",
    "\n",
    "M = 64  # number of trajectories (batch size)\n",
    "N = 100  # number of time snapshots\n",
    "D = 100 # number of dimensions\n",
    "Mm = N ** (1/5)\n",
    "\n",
    "layers = [1+1] + 4 * [256] + [1]\n",
    "\n",
    "Xi = np.array([1] * int(D))[None, :]\n",
    "T = 1.0\n",
    "\n",
    "\"Available architectures\"\n",
    "mode = \"NAIS-Net\"  # FC, Resnet and NAIS-Net are available\n",
    "activation = \"Sine\"  # Sine and ReLU are available\n",
    "xvamodel = XVA(Xi, T, M, N, D, Mm, layers, mode, activation, model)\n",
    "\n",
    "n_iter = 2 * 10**3\n",
    "lr = 1e-3"
   ]
  },
  {
   "cell_type": "code",
   "execution_count": 8,
   "metadata": {},
   "outputs": [],
   "source": [
    "n_iter = 1 * 10**3\n",
    "lr = 1e-4"
   ]
  },
  {
   "cell_type": "code",
   "execution_count": 9,
   "metadata": {},
   "outputs": [
    {
     "name": "stdout",
     "output_type": "stream",
     "text": [
      "cuda:0\n",
      "It: 1900, Loss: 5.981e-04, Y0: -0.050, Time: 0.60, Learning Rate: 1.000e-04\n",
      "It: 2000, Loss: 5.961e-04, Y0: -0.047, Time: 61.16, Learning Rate: 1.000e-04\n",
      "It: 2100, Loss: 5.374e-04, Y0: -0.048, Time: 60.91, Learning Rate: 1.000e-04\n",
      "It: 2200, Loss: 3.948e-04, Y0: -0.048, Time: 60.29, Learning Rate: 1.000e-04\n",
      "It: 2300, Loss: 4.823e-04, Y0: -0.048, Time: 60.15, Learning Rate: 1.000e-04\n",
      "It: 2400, Loss: 4.802e-04, Y0: -0.049, Time: 60.70, Learning Rate: 1.000e-04\n",
      "It: 2500, Loss: 3.905e-04, Y0: -0.048, Time: 60.51, Learning Rate: 1.000e-04\n",
      "It: 2600, Loss: 4.347e-04, Y0: -0.048, Time: 60.73, Learning Rate: 1.000e-04\n",
      "It: 2700, Loss: 4.835e-04, Y0: -0.048, Time: 60.39, Learning Rate: 1.000e-04\n",
      "It: 2800, Loss: 5.115e-04, Y0: -0.049, Time: 62.53, Learning Rate: 1.000e-04\n",
      "total time: 607.7461543083191 s\n"
     ]
    }
   ],
   "source": [
    "tot = time.time()\n",
    "print(xvamodel.device)\n",
    "graph = xvamodel.train(n_iter, lr)\n",
    "print(\"total time:\", time.time() - tot, \"s\")"
   ]
  },
  {
   "cell_type": "code",
   "execution_count": 10,
   "metadata": {},
   "outputs": [],
   "source": [
    "t_test, W_test, C_test = xvamodel.fetch_minibatch()\n",
    "X_pred, Y_pred = xvamodel.predict(C_test, t_test, W_test)\n",
    "\n",
    "if type(t_test).__module__ != 'numpy':\n",
    "    t_test = t_test.cpu().numpy()\n",
    "if type(X_pred).__module__ != 'numpy':\n",
    "    X_pred = X_pred.cpu().detach().numpy()\n",
    "if type(Y_pred).__module__ != 'numpy':\n",
    "    Y_pred = Y_pred.cpu().detach().numpy()\n",
    "\n",
    "for i in range(31):\n",
    "    t_test_i, W_test_i, C_test_i = xvamodel.fetch_minibatch()\n",
    "    X_pred_i, Y_pred_i = xvamodel.predict(C_test_i, t_test_i, W_test_i)\n",
    "    if type(X_pred_i).__module__ != 'numpy':\n",
    "        X_pred_i = X_pred_i.cpu().detach().numpy()\n",
    "    if type(Y_pred_i).__module__ != 'numpy':\n",
    "        Y_pred_i = Y_pred_i.cpu().detach().numpy()\n",
    "    X_pred = np.concatenate((X_pred, X_pred_i), axis=0)\n",
    "    Y_pred = np.concatenate((Y_pred, Y_pred_i), axis=0)"
   ]
  },
  {
   "cell_type": "code",
   "execution_count": 23,
   "metadata": {},
   "outputs": [],
   "source": [
    "Y_preds = Y_pred.reshape(2048, 101)"
   ]
  },
  {
   "cell_type": "code",
   "execution_count": 39,
   "metadata": {},
   "outputs": [],
   "source": [
    "pred_fva = Y_preds[:,0][0]"
   ]
  },
  {
   "cell_type": "code",
   "execution_count": 31,
   "metadata": {},
   "outputs": [],
   "source": [
    "from scipy.stats import multivariate_normal as normal\n",
    "dw_sample = normal.rvs(size=[40000, D, N]) * np.sqrt(T/N)\n",
    "x_sample = np.zeros([40000, D, N + 1]) \n",
    "x_sample[:, :, 0] = np.ones([40000, D]) * 1\n",
    "factor = np.exp((0.05-(0.4**2)/2)*(T/N))\n",
    "for i in range(N):   \n",
    "    x_sample[:, :, i + 1] = (factor * np.exp(0.4 * dw_sample[:, :, i])) * x_sample[:, :, i]"
   ]
  },
  {
   "cell_type": "code",
   "execution_count": 32,
   "metadata": {},
   "outputs": [],
   "source": [
    "portfolio = np.sum(x_sample, axis=1, keepdims=True)\n",
    "payoff = np.maximum(portfolio - 100 * 1, 0)\n",
    "average = np.mean(payoff, axis=0, keepdims=True)\n",
    "mc_price = np.exp(-0.05 * 1) * average[:, :, 100]"
   ]
  },
  {
   "cell_type": "code",
   "execution_count": 33,
   "metadata": {},
   "outputs": [
    {
     "data": {
      "text/plain": [
       "5.09535087353754"
      ]
     },
     "execution_count": 33,
     "metadata": {},
     "output_type": "execute_result"
    }
   ],
   "source": [
    "mc_price[0][0]"
   ]
  },
  {
   "cell_type": "code",
   "execution_count": 34,
   "metadata": {},
   "outputs": [],
   "source": [
    "mc_price_rf = np.exp(-0.04 * 1) * average[:, :, 100]"
   ]
  },
  {
   "cell_type": "code",
   "execution_count": 35,
   "metadata": {},
   "outputs": [
    {
     "data": {
      "text/plain": [
       "5.146560001169053"
      ]
     },
     "execution_count": 35,
     "metadata": {},
     "output_type": "execute_result"
    }
   ],
   "source": [
    "mc_price_rf[0][0]"
   ]
  },
  {
   "cell_type": "code",
   "execution_count": 40,
   "metadata": {},
   "outputs": [],
   "source": [
    "exact_fva = mc_price[0][0] - mc_price_rf[0][0]"
   ]
  },
  {
   "cell_type": "code",
   "execution_count": 41,
   "metadata": {},
   "outputs": [
    {
     "data": {
      "text/plain": [
       "-0.048008636"
      ]
     },
     "execution_count": 41,
     "metadata": {},
     "output_type": "execute_result"
    }
   ],
   "source": [
    "pred_fva"
   ]
  },
  {
   "cell_type": "code",
   "execution_count": 42,
   "metadata": {},
   "outputs": [
    {
     "data": {
      "text/plain": [
       "-0.05120912763151342"
      ]
     },
     "execution_count": 42,
     "metadata": {},
     "output_type": "execute_result"
    }
   ],
   "source": [
    "exact_fva"
   ]
  },
  {
   "cell_type": "code",
   "execution_count": 43,
   "metadata": {},
   "outputs": [
    {
     "data": {
      "text/plain": [
       "0.003906058421267306"
      ]
     },
     "execution_count": 43,
     "metadata": {},
     "output_type": "execute_result"
    }
   ],
   "source": [
    "(pred_fva - exact_fva) ** 2 / exact_fva ** 2"
   ]
  },
  {
   "cell_type": "code",
   "execution_count": 37,
   "metadata": {},
   "outputs": [],
   "source": [
    "xvamodel.save_model(\"models/100DCallOptionFVA.pth\")"
   ]
  }
 ],
 "metadata": {
  "kernelspec": {
   "display_name": "myvenv",
   "language": "python",
   "name": "python3"
  },
  "language_info": {
   "codemirror_mode": {
    "name": "ipython",
    "version": 3
   },
   "file_extension": ".py",
   "mimetype": "text/x-python",
   "name": "python",
   "nbconvert_exporter": "python",
   "pygments_lexer": "ipython3",
   "version": "3.10.12"
  }
 },
 "nbformat": 4,
 "nbformat_minor": 2
}
