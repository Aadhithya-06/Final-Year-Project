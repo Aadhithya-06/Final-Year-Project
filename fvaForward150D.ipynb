{
 "cells": [
  {
   "cell_type": "code",
   "execution_count": 1,
   "metadata": {},
   "outputs": [],
   "source": [
    "import sys\n",
    "import os\n",
    "sys.path.append(os.path.abspath(\"Pytorch/\"))\n",
    "sys.path.append(os.path.abspath(\"models/\"))"
   ]
  },
  {
   "cell_type": "code",
   "execution_count": 2,
   "metadata": {},
   "outputs": [],
   "source": [
    "from XVA import *\n",
    "from XVAFBSNNs import *"
   ]
  },
  {
   "cell_type": "code",
   "execution_count": 3,
   "metadata": {},
   "outputs": [],
   "source": [
    "from FBSNNs import *\n",
    "from ForwardContracts import *"
   ]
  },
  {
   "cell_type": "code",
   "execution_count": 4,
   "metadata": {},
   "outputs": [],
   "source": [
    "import numpy as np\n",
    "import torch\n",
    "import matplotlib.pyplot as plt\n",
    "import time\n",
    "\n",
    "M = 64 # number of trajectories (batch size)\n",
    "N = 50  # number of time snapshots\n",
    "D = 150 # number of dimensions\n",
    "Mm = N ** (1/5)\n",
    "\n",
    "layers = [D + 1] + 2 * [256] + [1]\n",
    "\n",
    "Xi = np.array([1] * int(D))[None, :]\n",
    "T = 1.0\n",
    "\n",
    "\"Available architectures\"\n",
    "mode = \"Naisnet\"  # FC and Naisnet are available\n",
    "activation = \"Sine\"  # Sine, ReLU and Tanh are available\n",
    "model = ForwardContracts(Xi, T, M, N, D, Mm, layers, mode, activation)\n",
    "\n",
    "n_iter = 2 * 10**4\n",
    "lr = 1e-3"
   ]
  },
  {
   "cell_type": "code",
   "execution_count": 5,
   "metadata": {},
   "outputs": [],
   "source": [
    "model.load_model(\"models/Forward150D.pth\")"
   ]
  },
  {
   "cell_type": "code",
   "execution_count": 6,
   "metadata": {},
   "outputs": [],
   "source": [
    "import numpy as np\n",
    "import torch\n",
    "import matplotlib.pyplot as plt\n",
    "import time\n",
    "\n",
    "M = 64  # number of trajectories (batch size)\n",
    "N = 50  # number of time snapshots\n",
    "D = 150 # number of dimensions\n",
    "Mm = N ** (1/5)\n",
    "\n",
    "layers = [1+1] + 4 * [256] + [1]\n",
    "\n",
    "Xi = np.array([1] * int(D))[None, :]\n",
    "T = 1.0\n",
    "\n",
    "\"Available architectures\"\n",
    "mode = \"Naisnet\"  # FC and Naisnet are available\n",
    "activation = \"Sine\"  # Sine, ReLU and Tanh are available\n",
    "xvamodel = XVA(Xi, T, M, N, D, Mm, layers, mode, activation, model)\n",
    "\n",
    "n_iter = 15 * 10**2\n",
    "lr = 1e-3"
   ]
  },
  {
   "cell_type": "code",
   "execution_count": 20,
   "metadata": {},
   "outputs": [],
   "source": [
    "n_iter = 11 * 10**2\n",
    "lr = 1e-6"
   ]
  },
  {
   "cell_type": "code",
   "execution_count": 21,
   "metadata": {},
   "outputs": [
    {
     "name": "stdout",
     "output_type": "stream",
     "text": [
      "cuda:0\n",
      "It: 2900, Loss: 2.702e-03, Y0: 0.060, Time: 0.24, Learning Rate: 1.000e-06\n",
      "It: 3000, Loss: 2.913e-03, Y0: 0.059, Time: 24.64, Learning Rate: 1.000e-06\n",
      "It: 3100, Loss: 2.285e-03, Y0: 0.059, Time: 24.68, Learning Rate: 1.000e-06\n",
      "It: 3200, Loss: 2.540e-03, Y0: 0.058, Time: 24.88, Learning Rate: 1.000e-06\n",
      "It: 3300, Loss: 2.374e-03, Y0: 0.058, Time: 24.66, Learning Rate: 1.000e-06\n",
      "It: 3400, Loss: 2.033e-03, Y0: 0.058, Time: 24.70, Learning Rate: 1.000e-06\n",
      "It: 3500, Loss: 2.098e-03, Y0: 0.059, Time: 24.80, Learning Rate: 1.000e-06\n",
      "It: 3600, Loss: 2.818e-03, Y0: 0.059, Time: 24.90, Learning Rate: 1.000e-06\n",
      "It: 3700, Loss: 3.373e-03, Y0: 0.059, Time: 24.91, Learning Rate: 1.000e-06\n",
      "It: 3800, Loss: 2.727e-03, Y0: 0.059, Time: 24.79, Learning Rate: 1.000e-06\n",
      "It: 3900, Loss: 2.251e-03, Y0: 0.059, Time: 24.71, Learning Rate: 1.000e-06\n",
      "total time: 272.94418263435364 s\n"
     ]
    }
   ],
   "source": [
    "tot = time.time()\n",
    "print(xvamodel.device)\n",
    "graph = xvamodel.train(n_iter, lr)\n",
    "print(\"total time:\", time.time() - tot, \"s\")"
   ]
  },
  {
   "cell_type": "code",
   "execution_count": 7,
   "metadata": {},
   "outputs": [],
   "source": [
    "xvamodel.load_model(\"models/150DForwardFVAXVAPaper.pth\")"
   ]
  },
  {
   "cell_type": "code",
   "execution_count": 8,
   "metadata": {},
   "outputs": [],
   "source": [
    "t_test, W_test, C_test = xvamodel.fetch_minibatch()\n",
    "X_pred, Y_pred = xvamodel.predict(C_test, t_test, W_test)\n",
    "if type(t_test).__module__ != 'numpy':\n",
    "    t_test = t_test.cpu().numpy()\n",
    "if type(X_pred).__module__ != 'numpy':\n",
    "    X_pred = X_pred.cpu().detach().numpy()\n",
    "if type(Y_pred).__module__ != 'numpy':\n",
    "    Y_pred = Y_pred.cpu().detach().numpy()\n",
    "\n",
    "for i in range(63):\n",
    "    t_test_i, W_test_i, C_test_i = xvamodel.fetch_minibatch()\n",
    "    X_pred_i, Y_pred_i = xvamodel.predict(C_test_i, t_test_i, W_test_i)\n",
    "    if type(t_test_i).__module__ != 'numpy':\n",
    "        t_test_i = t_test_i.cpu().numpy()\n",
    "    if type(X_pred_i).__module__ != 'numpy':\n",
    "        X_pred_i = X_pred_i.cpu().detach().numpy()\n",
    "    if type(Y_pred_i).__module__ != 'numpy':\n",
    "        Y_pred_i = Y_pred_i.cpu().detach().numpy()\n",
    "    t_test = np.concatenate((t_test, t_test_i), axis=0)\n",
    "    X_pred = np.concatenate((X_pred, X_pred_i), axis=0)\n",
    "    Y_pred = np.concatenate((Y_pred, Y_pred_i), axis=0)\n"
   ]
  },
  {
   "cell_type": "code",
   "execution_count": 9,
   "metadata": {},
   "outputs": [
    {
     "data": {
      "image/png": "[encoded data removed]",
      "text/plain": [
       "<Figure size 640x480 with 1 Axes>"
      ]
     },
     "metadata": {},
     "output_type": "display_data"
    }
   ],
   "source": [
    "plt.figure()\n",
    "plt.plot(t_test[0:1, :, 0].T, Y_pred[0:1, :, 0].T, label='Learned $u(t,X_t)$')\n",
    "plt.plot(t_test[1:5, :, 0].T, Y_pred[1:5, :, 0].T)\n",
    "plt.show()"
   ]
  },
  {
   "cell_type": "code",
   "execution_count": 10,
   "metadata": {},
   "outputs": [
    {
     "data": {
      "image/png": "[encoded data removed]",
      "text/plain": [
       "<Figure size 640x480 with 1 Axes>"
      ]
     },
     "metadata": {},
     "output_type": "display_data"
    }
   ],
   "source": [
    "graph = xvamodel.iteration, xvamodel.training_loss\n",
    "plt.figure()\n",
    "plt.plot(graph[0], graph[1])\n",
    "plt.xlabel('Iterations')\n",
    "plt.ylabel('Value')\n",
    "plt.yscale(\"log\")\n",
    "plt.title('Evolution of the training loss')\n",
    "plt.show()"
   ]
  },
  {
   "cell_type": "code",
   "execution_count": 11,
   "metadata": {},
   "outputs": [
    {
     "data": {
      "text/plain": [
       "(4096, 51, 1)"
      ]
     },
     "execution_count": 11,
     "metadata": {},
     "output_type": "execute_result"
    }
   ],
   "source": [
    "Y_pred.shape"
   ]
  },
  {
   "cell_type": "code",
   "execution_count": 12,
   "metadata": {},
   "outputs": [],
   "source": [
    "Y_preds = Y_pred.reshape(4096, 51)"
   ]
  },
  {
   "cell_type": "code",
   "execution_count": 13,
   "metadata": {},
   "outputs": [],
   "source": [
    "pred_fva = Y_preds[:,0][0] * 100"
   ]
  },
  {
   "cell_type": "code",
   "execution_count": 14,
   "metadata": {},
   "outputs": [
    {
     "data": {
      "text/plain": [
       "5.87964802980423"
      ]
     },
     "execution_count": 14,
     "metadata": {},
     "output_type": "execute_result"
    }
   ],
   "source": [
    "pred_fva"
   ]
  },
  {
   "cell_type": "code",
   "execution_count": 15,
   "metadata": {},
   "outputs": [
    {
     "data": {
      "text/plain": [
       "array([0.  , 0.02, 0.04, 0.06, 0.08, 0.1 , 0.12, 0.14, 0.16, 0.18, 0.2 ,\n",
       "       0.22, 0.24, 0.26, 0.28, 0.3 , 0.32, 0.34, 0.36, 0.38, 0.4 , 0.42,\n",
       "       0.44, 0.46, 0.48, 0.5 , 0.52, 0.54, 0.56, 0.58, 0.6 , 0.62, 0.64,\n",
       "       0.66, 0.68, 0.7 , 0.72, 0.74, 0.76, 0.78, 0.8 , 0.82, 0.84, 0.86,\n",
       "       0.88, 0.9 , 0.92, 0.94, 0.96, 0.98, 1.  ], dtype=float32)"
      ]
     },
     "execution_count": 15,
     "metadata": {},
     "output_type": "execute_result"
    }
   ],
   "source": [
    "time_stamp = t_test[0].reshape(51,)\n",
    "time_stamp"
   ]
  },
  {
   "cell_type": "code",
   "execution_count": 16,
   "metadata": {},
   "outputs": [],
   "source": [
    "x_init = 15000\n",
    "strike = 15000\n",
    "r = 0.02\n",
    "sigma = 0.25\n",
    "total_time = 1\n",
    "r_f = 0.04"
   ]
  },
  {
   "cell_type": "code",
   "execution_count": 17,
   "metadata": {},
   "outputs": [],
   "source": [
    "exactYhat = x_init - strike*np.exp(-r * total_time)\n",
    "exactY = np.exp(-(r_f - r) * total_time)*x_init - strike*np.exp(-r_f * total_time)\n",
    "exact_fva = (exactYhat - exactY)"
   ]
  },
  {
   "cell_type": "code",
   "execution_count": 18,
   "metadata": {},
   "outputs": [
    {
     "data": {
      "text/plain": [
       "5.881388082189005"
      ]
     },
     "execution_count": 18,
     "metadata": {},
     "output_type": "execute_result"
    }
   ],
   "source": [
    "exact_fva"
   ]
  },
  {
   "cell_type": "code",
   "execution_count": 19,
   "metadata": {},
   "outputs": [
    {
     "data": {
      "text/plain": [
       "8.75316210941903e-08"
      ]
     },
     "execution_count": 19,
     "metadata": {},
     "output_type": "execute_result"
    }
   ],
   "source": [
    "(pred_fva - exact_fva) ** 2 / exact_fva ** 2"
   ]
  },
  {
   "cell_type": "code",
   "execution_count": 20,
   "metadata": {},
   "outputs": [
    {
     "data": {
      "text/plain": [
       "0.00029585743373150233"
      ]
     },
     "execution_count": 20,
     "metadata": {},
     "output_type": "execute_result"
    }
   ],
   "source": [
    "np.abs(pred_fva - exact_fva) / exact_fva"
   ]
  },
  {
   "cell_type": "code",
   "execution_count": 21,
   "metadata": {},
   "outputs": [
    {
     "data": {
      "text/plain": [
       "0.0017400523847754812"
      ]
     },
     "execution_count": 21,
     "metadata": {},
     "output_type": "execute_result"
    }
   ],
   "source": [
    "np.abs(pred_fva - exact_fva)"
   ]
  },
  {
   "cell_type": "code",
   "execution_count": 22,
   "metadata": {},
   "outputs": [],
   "source": [
    "xvamodel.save_model(\"models/150DForwardFVAXVAPaper.pth\")"
   ]
  }
 ],
 "metadata": {
  "kernelspec": {
   "display_name": "myvenv",
   "language": "python",
   "name": "python3"
  },
  "language_info": {
   "codemirror_mode": {
    "name": "ipython",
    "version": 3
   },
   "file_extension": ".py",
   "mimetype": "text/x-python",
   "name": "python",
   "nbconvert_exporter": "python",
   "pygments_lexer": "ipython3",
   "version": "3.10.12"
  }
 },
 "nbformat": 4,
 "nbformat_minor": 2
}
